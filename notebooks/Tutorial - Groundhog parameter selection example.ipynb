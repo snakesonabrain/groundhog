{
 "cells": [
  {
   "cell_type": "markdown",
   "id": "db545027",
   "metadata": {},
   "source": [
    "# Groundhog parameter selection example\n",
    "\n",
    "This notebook illustrates how geotechnical parameters can be selected with ``groundhog`` using the automatic selection and the ``LogPlotMatplotlib`` functionality.\n",
    "\n",
    "## Stratigraphy"
   ]
  },
  {
   "cell_type": "markdown",
   "id": "5e85d4c3",
   "metadata": {},
   "source": [
    "We will need to use the ``qt`` plotting backend to allow interactive plotting."
   ]
  },
  {
   "cell_type": "code",
   "execution_count": null,
   "id": "296e1747",
   "metadata": {
    "tags": []
   },
   "outputs": [],
   "source": [
    "%matplotlib qt"
   ]
  },
  {
   "cell_type": "markdown",
   "id": "ccd61b49",
   "metadata": {},
   "source": [
    "We will read a ``SoilProfile`` object using the ``read_excel`` method from the ``soilprofile`` module. This methods reads Excel files with a proper definition of stratigraphy and imports them as a ``SoilProfile`` object."
   ]
  },
  {
   "cell_type": "code",
   "execution_count": null,
   "id": "3f098fc8",
   "metadata": {
    "tags": []
   },
   "outputs": [],
   "source": [
    "from groundhog.general.soilprofile import read_excel"
   ]
  },
  {
   "cell_type": "markdown",
   "id": "495cf0c9",
   "metadata": {},
   "source": [
    "A ``SoilProfile`` with the name ``sp`` is loaded from the Excel file ``bh_log.xlsx``."
   ]
  },
  {
   "cell_type": "code",
   "execution_count": null,
   "id": "31a421fa",
   "metadata": {
    "scrolled": true,
    "tags": []
   },
   "outputs": [],
   "source": [
    "sp = read_excel('Data/bh_log.xlsx')\n",
    "sp"
   ]
  },
  {
   "cell_type": "markdown",
   "id": "0078a396",
   "metadata": {},
   "source": [
    "## Undrained shear strength data\n",
    "\n",
    "We can import undrained shear strength data from various sources; hand-held tools, UU and CU triaxial and DSS. Undrained shear strength can also be calculated from CPT data using a cone factor $N_{kt}$."
   ]
  },
  {
   "cell_type": "markdown",
   "id": "771da652",
   "metadata": {},
   "source": [
    "### Data from hand-held \n",
    "\n",
    "We will import the data using the Pandas library. The data from measurements with hand-held tools is stored in the file ``su_handtools_1.xlsx``."
   ]
  },
  {
   "cell_type": "code",
   "execution_count": null,
   "id": "afed187b",
   "metadata": {
    "tags": []
   },
   "outputs": [],
   "source": [
    "import pandas as pd"
   ]
  },
  {
   "cell_type": "code",
   "execution_count": null,
   "id": "206c4990",
   "metadata": {
    "tags": []
   },
   "outputs": [],
   "source": [
    "su_handtools_results = pd.read_excel('Data/su_handtools_1.xlsx')\n",
    "su_handtools_results.head()"
   ]
  },
  {
   "cell_type": "markdown",
   "id": "8f6318a5",
   "metadata": {},
   "source": [
    "### From CU tests\n",
    "\n",
    "The data from consolidated undrained triaxial tests is stored in the file ``cu_1.xlsx``."
   ]
  },
  {
   "cell_type": "code",
   "execution_count": null,
   "id": "7fe9f8d9",
   "metadata": {
    "tags": []
   },
   "outputs": [],
   "source": [
    "su_cu_results = pd.read_excel('Data/cu_1.xlsx')\n",
    "su_cu_results.head()"
   ]
  },
  {
   "cell_type": "markdown",
   "id": "9ff38150",
   "metadata": {},
   "source": [
    "### UU tests\n",
    "\n",
    "Import the data for unconsolidated undrained triaxial testing from the file ``uu_1.xlsx``."
   ]
  },
  {
   "cell_type": "code",
   "execution_count": null,
   "id": "a397dd07",
   "metadata": {
    "tags": []
   },
   "outputs": [],
   "source": [
    "su_uu_results = pd.read_excel('Data/uu_1.xlsx')\n",
    "su_uu_results.head()"
   ]
  },
  {
   "cell_type": "markdown",
   "id": "37cbb275",
   "metadata": {},
   "source": [
    "### DSS tests\n",
    "\n",
    "For constant volume direct simple shear testing, used ``dss_cv_1.xlsx``."
   ]
  },
  {
   "cell_type": "code",
   "execution_count": null,
   "id": "8d26c85b",
   "metadata": {
    "tags": []
   },
   "outputs": [],
   "source": [
    "su_dss_results = pd.read_excel('Data/dss_cv_1.xlsx')\n",
    "su_dss_results.head()"
   ]
  },
  {
   "cell_type": "markdown",
   "id": "557c6f6f",
   "metadata": {},
   "source": [
    "### CPT tests\n",
    "\n",
    "CPT data can be used to calculate the undrained strength. We will import CPT data for which the undrained shear strength has already been calculated.\n",
    "\n",
    "Note that Python is also very useful to determine the $N_{kt}$ factor for undrained shear strength calculation from CPT data, but this is beyond the scope of this tutorial."
   ]
  },
  {
   "cell_type": "code",
   "execution_count": null,
   "id": "1410a615",
   "metadata": {
    "tags": []
   },
   "outputs": [],
   "source": [
    "from groundhog.siteinvestigation.insitutests.pcpt_processing import PCPTProcessing"
   ]
  },
  {
   "cell_type": "markdown",
   "id": "3cc1e2be",
   "metadata": {},
   "source": [
    "The CPT data can be imported from the file ``cpt.xlsx``."
   ]
  },
  {
   "cell_type": "code",
   "execution_count": null,
   "id": "ea2213eb",
   "metadata": {
    "tags": []
   },
   "outputs": [],
   "source": [
    "pcpt = PCPTProcessing('CPT')\n",
    "pcpt.load_excel('Data/cpt.xlsx')\n",
    "pcpt.plot_raw_pcpt(latex_titles=False)"
   ]
  },
  {
   "cell_type": "markdown",
   "id": "fe882681",
   "metadata": {},
   "source": [
    "Based on the CPT data, we can see that there are clay layers in the profile. We will work on the data from the clay layer between 8.2m and 49m."
   ]
  },
  {
   "cell_type": "markdown",
   "id": "b22de551",
   "metadata": {},
   "source": [
    "We can select the $ S_u $ data for this clay layer only."
   ]
  },
  {
   "cell_type": "code",
   "execution_count": null,
   "id": "de53b66a",
   "metadata": {
    "tags": []
   },
   "outputs": [],
   "source": [
    "cpt_su = pcpt.data[\n",
    "    (pcpt.data['z [m]'] >= 8.2) & \n",
    "    (pcpt.data['z [m]'] <= 49)][['z [m]', 'Su [kPa]']].reset_index(drop=True)\n",
    "cpt_su.head()"
   ]
  },
  {
   "cell_type": "markdown",
   "id": "b169f964",
   "metadata": {},
   "source": [
    "### Plotting all data\n",
    "\n",
    "To allow parameter selection, we need to open the ``LogPlotMatplotlib`` object in a separate window.\n",
    "\n",
    "We will create the plot from the available ``SoilProfile`` (``sp``) and will add traces for each each of the data sources. Axis titles and ranges are also customised."
   ]
  },
  {
   "cell_type": "code",
   "execution_count": null,
   "id": "5a5dcb5a",
   "metadata": {
    "tags": []
   },
   "outputs": [],
   "source": [
    "from groundhog.general.plotting import LogPlotMatplotlib\n",
    "\n",
    "logplot = LogPlotMatplotlib(\n",
    "   soilprofile=sp,\n",
    "   no_panels=1,\n",
    "   fillcolordict={'SAND': 'yellow', 'CLAY': 'brown', 'SAND/CLAY': 'orange'})\n",
    "logplot.add_trace(\n",
    "    x=su_handtools_results['Su [kPa]'],\n",
    "    z=su_handtools_results['Depth [m]'], name='Handtools', panel_no=1, line=False, showlegend=True)\n",
    "logplot.add_trace(\n",
    "    x=su_cu_results['Su peak q [kPa]'],\n",
    "    z=su_cu_results['Depth [m]'], name='CU', panel_no=1, line=False, showlegend=True)\n",
    "logplot.add_trace(\n",
    "    x=su_uu_results['Su peak [kPa]'],\n",
    "    z=su_uu_results['Depth [m]'], name='UU', panel_no=1, line=False, showlegend=True)\n",
    "logplot.add_trace(\n",
    "    x=su_dss_results['Failure shear stress [kPa]'],\n",
    "    z=su_dss_results['Depth [m]'], name='DSS', panel_no=1, line=False, showlegend=True)\n",
    "logplot.add_trace(\n",
    "    x=cpt_su['Su [kPa]'],\n",
    "    z=cpt_su['z [m]'], name='From CPT', panel_no=1, showlegend=True)\n",
    "\n",
    "logplot.set_xaxis_title(title='$ S_u $ [kPa]', panel_no=1, size=15)\n",
    "logplot.set_zaxis_title(title='$ z $ [m]')\n",
    "logplot.set_xaxis_range(min_value=0, max_value=350, panel_no=1)\n",
    "logplot.set_zaxis_range(min_depth=0, max_depth=50)\n",
    "logplot.show()"
   ]
  },
  {
   "cell_type": "markdown",
   "id": "555b273d-eec6-4378-9bea-23dcfd3f901b",
   "metadata": {},
   "source": [
    "You can close the plot after inspecting it."
   ]
  },
  {
   "cell_type": "markdown",
   "id": "10bad980",
   "metadata": {},
   "source": [
    "## Automatic selection with ``selection_soilparameter``\n",
    "\n",
    "We can run the ``.selection_soilparameter`` method on the CPT data for fully automated soil parameter selection. This will select a trend based on the conditions set by the keyword arguments. Constant values or linear variations can be used. A minimum, mean or maximum can be selected.\n",
    "\n",
    "Note that automated selections are not always the best choice, so always inspect the results of an automated parameter selection process.\n",
    "\n",
    "### Mean constant value\n",
    "\n",
    "First, we select a mean value in each layer based on the $ S_u $ values from the CPT."
   ]
  },
  {
   "cell_type": "code",
   "execution_count": null,
   "id": "bb8c4de9",
   "metadata": {
    "tags": []
   },
   "outputs": [],
   "source": [
    "sp.selection_soilparameter(\n",
    "    parameter='Su [kPa]',\n",
    "    depths=cpt_su['z [m]'],\n",
    "    values=cpt_su['Su [kPa]'])"
   ]
  },
  {
   "cell_type": "markdown",
   "id": "0bb62e0b-1636-4069-97cc-52d93b145d65",
   "metadata": {},
   "source": [
    "The selected values can be plotted in the ``LogPlotMatplotlib``."
   ]
  },
  {
   "cell_type": "code",
   "execution_count": null,
   "id": "dd45f945",
   "metadata": {
    "tags": []
   },
   "outputs": [],
   "source": [
    "logplot = LogPlotMatplotlib(\n",
    "   soilprofile=sp,\n",
    "   no_panels=1,\n",
    "   fillcolordict={'SAND': 'yellow', 'CLAY': 'brown', 'SAND/CLAY': 'orange'})\n",
    "logplot.add_trace(\n",
    "    x=su_handtools_results['Su [kPa]'],\n",
    "    z=su_handtools_results['Depth [m]'], name='Handtools', panel_no=1, line=False, showlegend=True)\n",
    "logplot.add_trace(\n",
    "    x=su_cu_results['Su peak q [kPa]'],\n",
    "    z=su_cu_results['Depth [m]'], name='CU', panel_no=1, line=False, showlegend=True)\n",
    "logplot.add_trace(\n",
    "    x=su_uu_results['Su peak [kPa]'],\n",
    "    z=su_uu_results['Depth [m]'], name='UU', panel_no=1, line=False, showlegend=True)\n",
    "logplot.add_trace(\n",
    "    x=su_dss_results['Failure shear stress [kPa]'],\n",
    "    z=su_dss_results['Depth [m]'], name='DSS', panel_no=1, line=False, showlegend=True)\n",
    "logplot.add_trace(\n",
    "    x=cpt_su['Su [kPa]'],\n",
    "    z=cpt_su['z [m]'], name='From CPT', panel_no=1, showlegend=True)\n",
    "logplot.add_soilparameter_trace(parametername='Su [kPa]', panel_no=1, ls='--')\n",
    "logplot.set_xaxis_title(title='$ S_u $ [kPa]', panel_no=1, size=15)\n",
    "logplot.set_zaxis_title(title='$ z $ [m]')\n",
    "logplot.set_xaxis_range(min_value=0, max_value=350, panel_no=1)\n",
    "logplot.set_zaxis_range(min_depth=0, max_depth=50)\n",
    "logplot.show()"
   ]
  },
  {
   "cell_type": "markdown",
   "id": "0a0e1752-a7bd-4d8a-ae8d-f887574791c7",
   "metadata": {},
   "source": [
    "You can close this plot after inspecting it.\n",
    "\n",
    "You can also see the numerical values of the selected $ S_u $ in each layer:"
   ]
  },
  {
   "cell_type": "code",
   "execution_count": null,
   "id": "420f37c9-dbd9-4f2c-a7d4-94962f01a429",
   "metadata": {
    "tags": []
   },
   "outputs": [],
   "source": [
    "sp"
   ]
  },
  {
   "cell_type": "markdown",
   "id": "eef55eee-7fd5-464a-9723-a6799b13384f",
   "metadata": {},
   "source": [
    "We remove this column with automatically selected $ S_u $ values again to demonstrate alternative selection methods."
   ]
  },
  {
   "cell_type": "code",
   "execution_count": null,
   "id": "3b7158a1",
   "metadata": {
    "tags": []
   },
   "outputs": [],
   "source": [
    "sp.remove_parameter('Su [kPa]')"
   ]
  },
  {
   "cell_type": "markdown",
   "id": "ff222fef",
   "metadata": {},
   "source": [
    "### Linearly varying mean value\n",
    "\n",
    "``groundhog`` can also fit linear relations in each layer with the following code:"
   ]
  },
  {
   "cell_type": "code",
   "execution_count": null,
   "id": "2cbd061f",
   "metadata": {
    "tags": []
   },
   "outputs": [],
   "source": [
    "sp.selection_soilparameter(\n",
    "    parameter='Su [kPa]',\n",
    "    depths=cpt_su['z [m]'],\n",
    "    values=cpt_su['Su [kPa]'],\n",
    "    linearvariation=True)"
   ]
  },
  {
   "cell_type": "markdown",
   "id": "7c318141-d0d1-4e3f-9ec6-a91a29229193",
   "metadata": {},
   "source": [
    "The results can again be displayed."
   ]
  },
  {
   "cell_type": "code",
   "execution_count": null,
   "id": "62afaf1c",
   "metadata": {
    "tags": []
   },
   "outputs": [],
   "source": [
    "logplot = LogPlotMatplotlib(\n",
    "   soilprofile=sp,\n",
    "   no_panels=1,\n",
    "   fillcolordict={'SAND': 'yellow', 'CLAY': 'brown', 'SAND/CLAY': 'orange'})\n",
    "logplot.add_trace(\n",
    "    x=su_handtools_results['Su [kPa]'],\n",
    "    z=su_handtools_results['Depth [m]'], name='Handtools', panel_no=1, line=False, showlegend=True)\n",
    "logplot.add_trace(\n",
    "    x=su_cu_results['Su peak q [kPa]'],\n",
    "    z=su_cu_results['Depth [m]'], name='CU', panel_no=1, line=False, showlegend=True)\n",
    "logplot.add_trace(\n",
    "    x=su_uu_results['Su peak [kPa]'],\n",
    "    z=su_uu_results['Depth [m]'], name='UU', panel_no=1, line=False, showlegend=True)\n",
    "logplot.add_trace(\n",
    "    x=su_dss_results['Failure shear stress [kPa]'],\n",
    "    z=su_dss_results['Depth [m]'], name='DSS', panel_no=1, line=False, showlegend=True)\n",
    "logplot.add_trace(\n",
    "    x=cpt_su['Su [kPa]'],\n",
    "    z=cpt_su['z [m]'], name='From CPT', panel_no=1, showlegend=True)\n",
    "logplot.add_soilparameter_trace(parametername='Su [kPa]', panel_no=1, ls='--')\n",
    "logplot.set_xaxis_title(title='$ S_u $ [kPa]', panel_no=1, size=15)\n",
    "logplot.set_zaxis_title(title='$ z $ [m]')\n",
    "logplot.set_xaxis_range(min_value=0, max_value=350, panel_no=1)\n",
    "logplot.set_zaxis_range(min_depth=0, max_depth=50)\n",
    "logplot.show()"
   ]
  },
  {
   "cell_type": "markdown",
   "id": "6b76271e-9982-45b1-9a48-844279c8d99c",
   "metadata": {},
   "source": [
    "You can close the plot after inspecting it.\n",
    "\n",
    "When showing the table for the ``SoilProfile``, you can see that two columns are created; one with the value at the top of the layer (``Su from [kPa]``), the other with the value at the bottom of the layer (``Su to [kPa]``)."
   ]
  },
  {
   "cell_type": "code",
   "execution_count": null,
   "id": "601666a0-59db-41bd-a934-fd3ba3a450b6",
   "metadata": {
    "tags": []
   },
   "outputs": [],
   "source": [
    "sp"
   ]
  },
  {
   "cell_type": "markdown",
   "id": "a840cb1c-6f34-473e-834f-7e05c8d8b795",
   "metadata": {},
   "source": [
    "We will again remove these columns with selected values to demonstrate alternative methods of selection."
   ]
  },
  {
   "cell_type": "code",
   "execution_count": null,
   "id": "e89c71a7",
   "metadata": {
    "tags": []
   },
   "outputs": [],
   "source": [
    "sp.remove_parameter('Su [kPa]')"
   ]
  },
  {
   "cell_type": "markdown",
   "id": "fae91055",
   "metadata": {},
   "source": [
    "### Constant minimum value\n",
    "\n",
    "``groundhog`` can also estimate conservative values by taking the minimum in each layer."
   ]
  },
  {
   "cell_type": "code",
   "execution_count": null,
   "id": "442ae6d7",
   "metadata": {
    "tags": []
   },
   "outputs": [],
   "source": [
    "sp.selection_soilparameter(\n",
    "    parameter='Su [kPa]',\n",
    "    depths=cpt_su['z [m]'],\n",
    "    values=cpt_su['Su [kPa]'],\n",
    "    rule='min')"
   ]
  },
  {
   "cell_type": "markdown",
   "id": "a266a808-a846-4e68-8029-f65a226ac234",
   "metadata": {},
   "source": [
    "We can visualise this selection:"
   ]
  },
  {
   "cell_type": "code",
   "execution_count": null,
   "id": "8c7cb3c5",
   "metadata": {
    "tags": []
   },
   "outputs": [],
   "source": [
    "logplot = LogPlotMatplotlib(\n",
    "   soilprofile=sp,\n",
    "   no_panels=1,\n",
    "   fillcolordict={'SAND': 'yellow', 'CLAY': 'brown', 'SAND/CLAY': 'orange'})\n",
    "logplot.add_trace(\n",
    "    x=su_handtools_results['Su [kPa]'],\n",
    "    z=su_handtools_results['Depth [m]'], name='Handtools', panel_no=1, line=False, showlegend=True)\n",
    "logplot.add_trace(\n",
    "    x=su_cu_results['Su peak q [kPa]'],\n",
    "    z=su_cu_results['Depth [m]'], name='CU', panel_no=1, line=False, showlegend=True)\n",
    "logplot.add_trace(\n",
    "    x=su_uu_results['Su peak [kPa]'],\n",
    "    z=su_uu_results['Depth [m]'], name='UU', panel_no=1, line=False, showlegend=True)\n",
    "logplot.add_trace(\n",
    "    x=su_dss_results['Failure shear stress [kPa]'],\n",
    "    z=su_dss_results['Depth [m]'], name='DSS', panel_no=1, line=False, showlegend=True)\n",
    "logplot.add_trace(\n",
    "    x=cpt_su['Su [kPa]'],\n",
    "    z=cpt_su['z [m]'], name='From CPT', panel_no=1, showlegend=True)\n",
    "logplot.add_soilparameter_trace(parametername='Su [kPa]', panel_no=1, ls='--')\n",
    "logplot.set_xaxis_title(title='$ S_u $ [kPa]', panel_no=1, size=15)\n",
    "logplot.set_zaxis_title(title='$ z $ [m]')\n",
    "logplot.set_xaxis_range(min_value=0, max_value=350, panel_no=1)\n",
    "logplot.set_zaxis_range(min_depth=0, max_depth=50)\n",
    "logplot.show()"
   ]
  },
  {
   "cell_type": "markdown",
   "id": "91988043-95a1-49b8-84f9-166bb1121626",
   "metadata": {},
   "source": [
    "The parameters chosen in this way can be very sensitive to local minima. Close the plot after inspecting it.\n",
    "\n",
    "The numerical values of the selection can also be shown."
   ]
  },
  {
   "cell_type": "code",
   "execution_count": null,
   "id": "4632806c-df37-45f7-aa90-ab494a0c653e",
   "metadata": {
    "tags": []
   },
   "outputs": [],
   "source": [
    "sp"
   ]
  },
  {
   "cell_type": "markdown",
   "id": "23b87777-d8bf-4ade-bd1d-62f0b2015109",
   "metadata": {},
   "source": [
    "Remove the column with selected minimum values before proceeding to manual $ S_u $ selection."
   ]
  },
  {
   "cell_type": "code",
   "execution_count": null,
   "id": "28aa26d1-622f-4993-b063-cfdd6afb6976",
   "metadata": {
    "tags": []
   },
   "outputs": [],
   "source": [
    "sp.remove_parameter('Su [kPa]')"
   ]
  },
  {
   "cell_type": "markdown",
   "id": "e5e49560",
   "metadata": {},
   "source": [
    "## Manual selection\n",
    "\n",
    "The user can click on a plot with $ S_u $ data to create their own parameter profiles.\n",
    "\n",
    "First generate the ``LogPlotMatplotlib``with the available $ S_u $ data on it.\n",
    "\n",
    "Don't close this plot window as it needs to stay open for the parameter selection."
   ]
  },
  {
   "cell_type": "code",
   "execution_count": null,
   "id": "e5013940",
   "metadata": {
    "tags": []
   },
   "outputs": [],
   "source": [
    "logplot = LogPlotMatplotlib(\n",
    "   soilprofile=sp,\n",
    "   no_panels=1,\n",
    "   fillcolordict={'SAND': 'yellow', 'CLAY': 'brown', 'SAND/CLAY': 'orange'})\n",
    "logplot.add_trace(\n",
    "    x=su_handtools_results['Su [kPa]'],\n",
    "    z=su_handtools_results['Depth [m]'], name='Handtools', panel_no=1, line=False, showlegend=True)\n",
    "logplot.add_trace(\n",
    "    x=su_cu_results['Su peak q [kPa]'],\n",
    "    z=su_cu_results['Depth [m]'], name='CU', panel_no=1, line=False, showlegend=True)\n",
    "logplot.add_trace(\n",
    "    x=su_uu_results['Su peak [kPa]'],\n",
    "    z=su_uu_results['Depth [m]'], name='UU', panel_no=1, line=False, showlegend=True)\n",
    "logplot.add_trace(\n",
    "    x=su_dss_results['Failure shear stress [kPa]'],\n",
    "    z=su_dss_results['Depth [m]'], name='DSS', panel_no=1, line=False, showlegend=True)\n",
    "logplot.add_trace(\n",
    "    x=cpt_su['Su [kPa]'],\n",
    "    z=cpt_su['z [m]'], name='From CPT', panel_no=1, showlegend=True)\n",
    "\n",
    "logplot.set_xaxis_title(title='$ S_u $ [kPa]', panel_no=1, size=15)\n",
    "logplot.set_zaxis_title(title='$ z $ [m]')\n",
    "logplot.set_xaxis_range(min_value=0, max_value=350, panel_no=1)\n",
    "logplot.set_zaxis_range(min_depth=0, max_depth=80.9)\n",
    "logplot.show()"
   ]
  },
  {
   "cell_type": "markdown",
   "id": "44ccec67-491c-41bf-a8a7-377bc474f105",
   "metadata": {},
   "source": [
    "You can select additional layers by clicking on the positions where you want to place additional layers. The ``select_layering`` method has a ``stop_threshold`` parameter which defines where you need to click to stop the layer selection process. If you click where $ S_u $ > 25kPa, additional layers will get selected. If you click below that value, the layer selection will stop.\n",
    "\n",
    "Try it out by running the following command and clicking on the plot."
   ]
  },
  {
   "cell_type": "code",
   "execution_count": null,
   "id": "7ad712fb",
   "metadata": {
    "tags": []
   },
   "outputs": [],
   "source": [
    "logplot.select_layering(stop_threshold=25)"
   ]
  },
  {
   "cell_type": "markdown",
   "id": "40f4382b-0c87-4167-80ab-8738aa185211",
   "metadata": {},
   "source": [
    "You can now also select the values of $ S_u $ manually in each layer. The ``select_linear`` method allows the selection of linear trends in each layer. Click through all the layers from top to bottom. Click first on the value at the top of the layer and then on the value at the bottom of the layer. If you click below the ``nan_tolerance``, NaN will be selected (e.g. for $ S_u $ in a sand layer).\n",
    "\n",
    "Try it out by running the following command and clicking on the plot."
   ]
  },
  {
   "cell_type": "code",
   "execution_count": null,
   "id": "69ed9ef4",
   "metadata": {
    "tags": []
   },
   "outputs": [],
   "source": [
    "logplot.select_linear(panel_no=1, parametername='Su', units='kPa', nan_tolerance=25)"
   ]
  },
  {
   "cell_type": "markdown",
   "id": "3f947e7d-1265-431b-8731-1e975b9619de",
   "metadata": {},
   "source": [
    "You can now show the numerical values of the manually selected $ S_u $ trend."
   ]
  },
  {
   "cell_type": "code",
   "execution_count": null,
   "id": "b0eba596-6ef4-4170-974f-a62e2bcf48cc",
   "metadata": {
    "tags": []
   },
   "outputs": [],
   "source": [
    "sp"
   ]
  },
  {
   "cell_type": "markdown",
   "id": "cef4a349-f9fd-4453-b200-77f9c1558434",
   "metadata": {},
   "source": [
    "To demonstrate the selection of constant values, we first remove the selected $ S_u $ profile from the previous step."
   ]
  },
  {
   "cell_type": "code",
   "execution_count": null,
   "id": "bc8812ea-c1c9-4ee4-a7ea-876e2ab3348b",
   "metadata": {
    "tags": []
   },
   "outputs": [],
   "source": [
    "sp.remove_parameter('Su [kPa]')"
   ]
  },
  {
   "cell_type": "markdown",
   "id": "ea4f41d4-9492-46c0-a60c-c7ff8050992e",
   "metadata": {},
   "source": [
    "Then, we regenerate the plot in which we will select $ S_u $ (note that the additional layers do not disappear)."
   ]
  },
  {
   "cell_type": "code",
   "execution_count": null,
   "id": "deab58cb-0fe1-44f4-93ee-4fff974d49bd",
   "metadata": {
    "tags": []
   },
   "outputs": [],
   "source": [
    "logplot = LogPlotMatplotlib(\n",
    "   soilprofile=sp,\n",
    "   no_panels=1,\n",
    "   fillcolordict={'SAND': 'yellow', 'CLAY': 'brown', 'SAND/CLAY': 'orange'})\n",
    "logplot.add_trace(\n",
    "    x=su_handtools_results['Su [kPa]'],\n",
    "    z=su_handtools_results['Depth [m]'], name='Handtools', panel_no=1, line=False, showlegend=True)\n",
    "logplot.add_trace(\n",
    "    x=su_cu_results['Su peak q [kPa]'],\n",
    "    z=su_cu_results['Depth [m]'], name='CU', panel_no=1, line=False, showlegend=True)\n",
    "logplot.add_trace(\n",
    "    x=su_uu_results['Su peak [kPa]'],\n",
    "    z=su_uu_results['Depth [m]'], name='UU', panel_no=1, line=False, showlegend=True)\n",
    "logplot.add_trace(\n",
    "    x=su_dss_results['Failure shear stress [kPa]'],\n",
    "    z=su_dss_results['Depth [m]'], name='DSS', panel_no=1, line=False, showlegend=True)\n",
    "logplot.add_trace(\n",
    "    x=cpt_su['Su [kPa]'],\n",
    "    z=cpt_su['z [m]'], name='From CPT', panel_no=1, showlegend=True)\n",
    "\n",
    "logplot.set_xaxis_title(title='$ S_u $ [kPa]', panel_no=1, size=15)\n",
    "logplot.set_zaxis_title(title='$ z $ [m]')\n",
    "logplot.set_xaxis_range(min_value=0, max_value=350, panel_no=1)\n",
    "logplot.set_zaxis_range(min_depth=0, max_depth=80.9)\n",
    "logplot.show()"
   ]
  },
  {
   "cell_type": "markdown",
   "id": "5924b70a-b454-49f0-a5a3-6890d73a8a13",
   "metadata": {},
   "source": [
    "The ``select_constant`` method works in the same way as the ``select_linear`` method but we only need to click once in each layer."
   ]
  },
  {
   "cell_type": "code",
   "execution_count": null,
   "id": "98a691a9-68c2-45fb-8fbb-6baca2216528",
   "metadata": {
    "tags": []
   },
   "outputs": [],
   "source": [
    "logplot.select_constant(panel_no=1, parametername='Su', units='kPa', nan_tolerance=25)"
   ]
  },
  {
   "cell_type": "code",
   "execution_count": null,
   "id": "48cacf8c-5a7e-4a2d-bff0-fbce96fdc312",
   "metadata": {
    "tags": []
   },
   "outputs": [],
   "source": [
    "sp"
   ]
  },
  {
   "cell_type": "markdown",
   "id": "92250178-e31e-4a36-8d8c-f535828229f4",
   "metadata": {},
   "source": [
    "## Visualization of selected parameters\n",
    "\n",
    "Finally, we can create summary plot of the selected geotechnical parameters."
   ]
  },
  {
   "cell_type": "code",
   "execution_count": null,
   "id": "4cba0a38-a2fd-4ced-aabb-c26f45abe7c2",
   "metadata": {
    "tags": []
   },
   "outputs": [],
   "source": [
    "logplot = LogPlotMatplotlib(\n",
    "   soilprofile=sp,\n",
    "   no_panels=1,\n",
    "   fillcolordict={'SAND': 'yellow', 'CLAY': 'brown', 'SAND/CLAY': 'orange'})\n",
    "logplot.add_trace(\n",
    "    x=su_handtools_results['Su [kPa]'],\n",
    "    z=su_handtools_results['Depth [m]'], name='Handtools', panel_no=1, line=False, showlegend=True)\n",
    "logplot.add_trace(\n",
    "    x=su_cu_results['Su peak q [kPa]'],\n",
    "    z=su_cu_results['Depth [m]'], name='CU', panel_no=1, line=False, showlegend=True)\n",
    "logplot.add_trace(\n",
    "    x=su_uu_results['Su peak [kPa]'],\n",
    "    z=su_uu_results['Depth [m]'], name='UU', panel_no=1, line=False, showlegend=True)\n",
    "logplot.add_trace(\n",
    "    x=su_dss_results['Failure shear stress [kPa]'],\n",
    "    z=su_dss_results['Depth [m]'], name='DSS', panel_no=1, line=False, showlegend=True)\n",
    "logplot.add_trace(\n",
    "    x=cpt_su['Su [kPa]'],\n",
    "    z=cpt_su['z [m]'], name='From CPT', panel_no=1, showlegend=True)\n",
    "logplot.add_soilparameter_trace(parametername='Su [kPa]', panel_no=1, ls='--')\n",
    "logplot.set_xaxis_title(title='$ S_u $ [kPa]', panel_no=1, size=15)\n",
    "logplot.set_zaxis_title(title='$ z $ [m]')\n",
    "logplot.set_xaxis_range(min_value=0, max_value=350, panel_no=1)\n",
    "logplot.set_zaxis_range(min_depth=0, max_depth=50)\n",
    "logplot.show()"
   ]
  },
  {
   "cell_type": "markdown",
   "id": "acb414fa-a20a-41d8-bf27-9f7acc71ff03",
   "metadata": {},
   "source": [
    "## Export of selection"
   ]
  },
  {
   "cell_type": "code",
   "execution_count": null,
   "id": "613505ae-61bb-408a-be89-5984aa6eb33a",
   "metadata": {
    "tags": []
   },
   "outputs": [],
   "source": [
    "sp.to_excel('Data/selected_su.xlsx', index=False, engine='openpyxl')"
   ]
  },
  {
   "cell_type": "code",
   "execution_count": null,
   "id": "6de3c543-c133-4257-ba08-1bb171bfbf26",
   "metadata": {},
   "outputs": [],
   "source": []
  }
 ],
 "metadata": {
  "kernelspec": {
   "display_name": "base",
   "language": "python",
   "name": "python3"
  },
  "language_info": {
   "codemirror_mode": {
    "name": "ipython",
    "version": 3
   },
   "file_extension": ".py",
   "mimetype": "text/x-python",
   "name": "python",
   "nbconvert_exporter": "python",
   "pygments_lexer": "ipython3",
   "version": "3.12.2"
  },
  "toc": {
   "base_numbering": 1,
   "nav_menu": {},
   "number_sections": true,
   "sideBar": true,
   "skip_h1_title": true,
   "title_cell": "Table of Contents",
   "title_sidebar": "Contents",
   "toc_cell": false,
   "toc_position": {},
   "toc_section_display": true,
   "toc_window_display": true
  },
  "varInspector": {
   "cols": {
    "lenName": 16,
    "lenType": 16,
    "lenVar": 40
   },
   "kernels_config": {
    "python": {
     "delete_cmd_postfix": "",
     "delete_cmd_prefix": "del ",
     "library": "var_list.py",
     "varRefreshCmd": "print(var_dic_list())"
    },
    "r": {
     "delete_cmd_postfix": ") ",
     "delete_cmd_prefix": "rm(",
     "library": "var_list.r",
     "varRefreshCmd": "cat(var_dic_list()) "
    }
   },
   "types_to_exclude": [
    "module",
    "function",
    "builtin_function_or_method",
    "instance",
    "_Feature"
   ],
   "window_display": false
  }
 },
 "nbformat": 4,
 "nbformat_minor": 5
}
