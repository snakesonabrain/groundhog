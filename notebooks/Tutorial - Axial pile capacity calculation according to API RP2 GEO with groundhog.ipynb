{
 "cells": [
  {
   "cell_type": "markdown",
   "id": "f5299ef8",
   "metadata": {},
   "source": [
    "# Tutorial - Axial pile capacity calculation according to API RP2 GEO with groundhog\n",
    "\n",
    "At the request of users, a routine for axial capacity is developed within groundhog.\n",
    "\n",
    "The pile capacity class ``AxCapCalculation`` develops a workflow in which the unit skin friction methods and unit end bearing methods are introduced into a ``SoilProfile`` object.\n",
    "\n",
    "A check is then performed to assess whether the necessary soil parameters are defined in the ``SoilProfile``. If all necessary parameters are available, a calculation grid is defined and the unit skin friction and unit end bearing calculations are calculated. This notebook outlines the different components of the calculation for the API RP2 GEO Main Text method."
   ]
  },
  {
   "cell_type": "markdown",
   "id": "77957da6",
   "metadata": {},
   "source": [
    "## Library imports\n",
    "\n"
   ]
  },
  {
   "cell_type": "code",
   "execution_count": 42,
   "id": "8c22a2ac",
   "metadata": {},
   "outputs": [],
   "source": [
    "import numpy as np"
   ]
  },
  {
   "cell_type": "code",
   "execution_count": 43,
   "id": "1bc9aa18",
   "metadata": {},
   "outputs": [],
   "source": [
    "import plotly.io as pio\n",
    "pio.templates.default = 'plotly_white'"
   ]
  },
  {
   "cell_type": "code",
   "execution_count": 44,
   "id": "048eba65",
   "metadata": {},
   "outputs": [],
   "source": [
    "from groundhog.general.soilprofile import SoilProfile\n",
    "from groundhog.general.plotting import LogPlot"
   ]
  },
  {
   "cell_type": "markdown",
   "id": "cc9955d2",
   "metadata": {},
   "source": [
    "## Preparing a ``groundhog`` ``SoilProfile`` object for axial capacity analysis\n",
    "\n",
    "### Definition of methods and soil parameters in ``SoilProfile``\n",
    "\n",
    "For each layer in the ``SoilProfile``, the unit skin friction and unit end bearing need to be set. Each methods has associated required parameters. The presence of these parameters can be checked before starting the calculation.\n",
    "\n",
    "First, a basic soil profile with three layers is defined:"
   ]
  },
  {
   "cell_type": "code",
   "execution_count": 99,
   "id": "e0d6d987",
   "metadata": {},
   "outputs": [
    {
     "data": {
      "text/html": [
       "<div>\n",
       "<style scoped>\n",
       "    .dataframe tbody tr th:only-of-type {\n",
       "        vertical-align: middle;\n",
       "    }\n",
       "\n",
       "    .dataframe tbody tr th {\n",
       "        vertical-align: top;\n",
       "    }\n",
       "\n",
       "    .dataframe thead th {\n",
       "        text-align: right;\n",
       "    }\n",
       "</style>\n",
       "<table border=\"1\" class=\"dataframe\">\n",
       "  <thead>\n",
       "    <tr style=\"text-align: right;\">\n",
       "      <th></th>\n",
       "      <th>Depth from [m]</th>\n",
       "      <th>Depth to [m]</th>\n",
       "      <th>Soil type</th>\n",
       "      <th>Total unit weight [kN/m3]</th>\n",
       "    </tr>\n",
       "  </thead>\n",
       "  <tbody>\n",
       "    <tr>\n",
       "      <th>0</th>\n",
       "      <td>0</td>\n",
       "      <td>10</td>\n",
       "      <td>Sand</td>\n",
       "      <td>20</td>\n",
       "    </tr>\n",
       "    <tr>\n",
       "      <th>1</th>\n",
       "      <td>10</td>\n",
       "      <td>40</td>\n",
       "      <td>Clay</td>\n",
       "      <td>18</td>\n",
       "    </tr>\n",
       "  </tbody>\n",
       "</table>\n",
       "</div>"
      ],
      "text/plain": [
       "   Depth from [m]  Depth to [m] Soil type  Total unit weight [kN/m3]\n",
       "0               0            10      Sand                         20\n",
       "1              10            40      Clay                         18"
      ]
     },
     "execution_count": 99,
     "metadata": {},
     "output_type": "execute_result"
    }
   ],
   "source": [
    "sp = SoilProfile({\n",
    "    'Depth from [m]': [0, 10],\n",
    "    'Depth to [m]': [10, 40],\n",
    "    'Soil type': ['Sand', 'Clay'],\n",
    "    'Total unit weight [kN/m3]': [20, 18]\n",
    "})\n",
    "sp"
   ]
  },
  {
   "cell_type": "markdown",
   "id": "2988b860",
   "metadata": {},
   "source": [
    "Next, the calculation methods for unit skin friction and unit end bearing are specified in the columns ``Unit skin friction`` and ``Unit end bearing``."
   ]
  },
  {
   "cell_type": "code",
   "execution_count": 100,
   "id": "56f8d1ba",
   "metadata": {},
   "outputs": [
    {
     "data": {
      "text/html": [
       "<div>\n",
       "<style scoped>\n",
       "    .dataframe tbody tr th:only-of-type {\n",
       "        vertical-align: middle;\n",
       "    }\n",
       "\n",
       "    .dataframe tbody tr th {\n",
       "        vertical-align: top;\n",
       "    }\n",
       "\n",
       "    .dataframe thead th {\n",
       "        text-align: right;\n",
       "    }\n",
       "</style>\n",
       "<table border=\"1\" class=\"dataframe\">\n",
       "  <thead>\n",
       "    <tr style=\"text-align: right;\">\n",
       "      <th></th>\n",
       "      <th>Depth from [m]</th>\n",
       "      <th>Depth to [m]</th>\n",
       "      <th>Soil type</th>\n",
       "      <th>Total unit weight [kN/m3]</th>\n",
       "      <th>Unit skin friction</th>\n",
       "      <th>Unit end bearing</th>\n",
       "    </tr>\n",
       "  </thead>\n",
       "  <tbody>\n",
       "    <tr>\n",
       "      <th>0</th>\n",
       "      <td>0</td>\n",
       "      <td>10</td>\n",
       "      <td>Sand</td>\n",
       "      <td>20</td>\n",
       "      <td>API RP2 GEO Sand</td>\n",
       "      <td>API RP2 GEO Sand</td>\n",
       "    </tr>\n",
       "    <tr>\n",
       "      <th>1</th>\n",
       "      <td>10</td>\n",
       "      <td>40</td>\n",
       "      <td>Clay</td>\n",
       "      <td>18</td>\n",
       "      <td>API RP2 GEO Clay</td>\n",
       "      <td>API RP2 GEO Clay</td>\n",
       "    </tr>\n",
       "  </tbody>\n",
       "</table>\n",
       "</div>"
      ],
      "text/plain": [
       "   Depth from [m]  Depth to [m] Soil type  Total unit weight [kN/m3]  \\\n",
       "0               0            10      Sand                         20   \n",
       "1              10            40      Clay                         18   \n",
       "\n",
       "  Unit skin friction  Unit end bearing  \n",
       "0   API RP2 GEO Sand  API RP2 GEO Sand  \n",
       "1   API RP2 GEO Clay  API RP2 GEO Clay  "
      ]
     },
     "execution_count": 100,
     "metadata": {},
     "output_type": "execute_result"
    }
   ],
   "source": [
    "sp['Unit skin friction'] = ['API RP2 GEO Sand', 'API RP2 GEO Clay']\n",
    "sp['Unit end bearing'] = ['API RP2 GEO Sand', 'API RP2 GEO Clay']\n",
    "sp"
   ]
  },
  {
   "cell_type": "markdown",
   "id": "097b4d06",
   "metadata": {},
   "source": [
    "### Overburden calculation\n",
    "\n",
    "As several method require the vertical effective stress as an input, the stresses can be calculated using the ``calculate_overburden`` method."
   ]
  },
  {
   "cell_type": "code",
   "execution_count": 101,
   "id": "e28b4306",
   "metadata": {},
   "outputs": [],
   "source": [
    "sp.calculate_overburden()"
   ]
  },
  {
   "cell_type": "markdown",
   "id": "1dd1c453",
   "metadata": {},
   "source": [
    "The vertical effective stress profile can be plotted:"
   ]
  },
  {
   "cell_type": "code",
   "execution_count": 102,
   "id": "59a5e900",
   "metadata": {},
   "outputs": [
    {
     "data": {
      "application/vnd.plotly.v1+json": {
       "config": {
        "linkText": "Created by groundhog using Plotly!",
        "plotlyServerURL": "https://github.com/snakesonabrain/groundhog",
        "responsive": true,
        "showLink": true
       },
       "data": [
        {
         "line": {
          "color": "black"
         },
         "mode": "lines",
         "name": "Dummy",
         "showlegend": false,
         "type": "scatter",
         "x": [
          0,
          100
         ],
         "xaxis": "x2",
         "y": [
          null,
          null
         ],
         "yaxis": "y2"
        },
        {
         "mode": "lines",
         "name": "$ \\sigma_{v0}^{\\prime} $",
         "showlegend": false,
         "type": "scatter",
         "x": [
          0,
          100,
          100,
          340
         ],
         "xaxis": "x2",
         "y": [
          0,
          10,
          10,
          40
         ],
         "yaxis": "y2"
        }
       ],
       "layout": {
        "autosize": true,
        "shapes": [
         {
          "fillcolor": "rgb(31, 119, 180)",
          "line": {
           "width": 1
          },
          "opacity": 1,
          "type": "rect",
          "x0": 0,
          "x1": 1,
          "xref": "x",
          "y0": 0,
          "y1": 10,
          "yref": "y"
         },
         {
          "fillcolor": "rgb(255, 127, 14)",
          "line": {
           "width": 1
          },
          "opacity": 1,
          "type": "rect",
          "x0": 0,
          "x1": 1,
          "xref": "x",
          "y0": 10,
          "y1": 40,
          "yref": "y"
         }
        ],
        "template": {
         "data": {
          "bar": [
           {
            "error_x": {
             "color": "#2a3f5f"
            },
            "error_y": {
             "color": "#2a3f5f"
            },
            "marker": {
             "line": {
              "color": "white",
              "width": 0.5
             },
             "pattern": {
              "fillmode": "overlay",
              "size": 10,
              "solidity": 0.2
             }
            },
            "type": "bar"
           }
          ],
          "barpolar": [
           {
            "marker": {
             "line": {
              "color": "white",
              "width": 0.5
             },
             "pattern": {
              "fillmode": "overlay",
              "size": 10,
              "solidity": 0.2
             }
            },
            "type": "barpolar"
           }
          ],
          "carpet": [
           {
            "aaxis": {
             "endlinecolor": "#2a3f5f",
             "gridcolor": "#C8D4E3",
             "linecolor": "#C8D4E3",
             "minorgridcolor": "#C8D4E3",
             "startlinecolor": "#2a3f5f"
            },
            "baxis": {
             "endlinecolor": "#2a3f5f",
             "gridcolor": "#C8D4E3",
             "linecolor": "#C8D4E3",
             "minorgridcolor": "#C8D4E3",
             "startlinecolor": "#2a3f5f"
            },
            "type": "carpet"
           }
          ],
          "choropleth": [
           {
            "colorbar": {
             "outlinewidth": 0,
             "ticks": ""
            },
            "type": "choropleth"
           }
          ],
          "contour": [
           {
            "colorbar": {
             "outlinewidth": 0,
             "ticks": ""
            },
            "colorscale": [
             [
              0,
              "#0d0887"
             ],
             [
              0.1111111111111111,
              "#46039f"
             ],
             [
              0.2222222222222222,
              "#7201a8"
             ],
             [
              0.3333333333333333,
              "#9c179e"
             ],
             [
              0.4444444444444444,
              "#bd3786"
             ],
             [
              0.5555555555555556,
              "#d8576b"
             ],
             [
              0.6666666666666666,
              "#ed7953"
             ],
             [
              0.7777777777777778,
              "#fb9f3a"
             ],
             [
              0.8888888888888888,
              "#fdca26"
             ],
             [
              1,
              "#f0f921"
             ]
            ],
            "type": "contour"
           }
          ],
          "contourcarpet": [
           {
            "colorbar": {
             "outlinewidth": 0,
             "ticks": ""
            },
            "type": "contourcarpet"
           }
          ],
          "heatmap": [
           {
            "colorbar": {
             "outlinewidth": 0,
             "ticks": ""
            },
            "colorscale": [
             [
              0,
              "#0d0887"
             ],
             [
              0.1111111111111111,
              "#46039f"
             ],
             [
              0.2222222222222222,
              "#7201a8"
             ],
             [
              0.3333333333333333,
              "#9c179e"
             ],
             [
              0.4444444444444444,
              "#bd3786"
             ],
             [
              0.5555555555555556,
              "#d8576b"
             ],
             [
              0.6666666666666666,
              "#ed7953"
             ],
             [
              0.7777777777777778,
              "#fb9f3a"
             ],
             [
              0.8888888888888888,
              "#fdca26"
             ],
             [
              1,
              "#f0f921"
             ]
            ],
            "type": "heatmap"
           }
          ],
          "heatmapgl": [
           {
            "colorbar": {
             "outlinewidth": 0,
             "ticks": ""
            },
            "colorscale": [
             [
              0,
              "#0d0887"
             ],
             [
              0.1111111111111111,
              "#46039f"
             ],
             [
              0.2222222222222222,
              "#7201a8"
             ],
             [
              0.3333333333333333,
              "#9c179e"
             ],
             [
              0.4444444444444444,
              "#bd3786"
             ],
             [
              0.5555555555555556,
              "#d8576b"
             ],
             [
              0.6666666666666666,
              "#ed7953"
             ],
             [
              0.7777777777777778,
              "#fb9f3a"
             ],
             [
              0.8888888888888888,
              "#fdca26"
             ],
             [
              1,
              "#f0f921"
             ]
            ],
            "type": "heatmapgl"
           }
          ],
          "histogram": [
           {
            "marker": {
             "pattern": {
              "fillmode": "overlay",
              "size": 10,
              "solidity": 0.2
             }
            },
            "type": "histogram"
           }
          ],
          "histogram2d": [
           {
            "colorbar": {
             "outlinewidth": 0,
             "ticks": ""
            },
            "colorscale": [
             [
              0,
              "#0d0887"
             ],
             [
              0.1111111111111111,
              "#46039f"
             ],
             [
              0.2222222222222222,
              "#7201a8"
             ],
             [
              0.3333333333333333,
              "#9c179e"
             ],
             [
              0.4444444444444444,
              "#bd3786"
             ],
             [
              0.5555555555555556,
              "#d8576b"
             ],
             [
              0.6666666666666666,
              "#ed7953"
             ],
             [
              0.7777777777777778,
              "#fb9f3a"
             ],
             [
              0.8888888888888888,
              "#fdca26"
             ],
             [
              1,
              "#f0f921"
             ]
            ],
            "type": "histogram2d"
           }
          ],
          "histogram2dcontour": [
           {
            "colorbar": {
             "outlinewidth": 0,
             "ticks": ""
            },
            "colorscale": [
             [
              0,
              "#0d0887"
             ],
             [
              0.1111111111111111,
              "#46039f"
             ],
             [
              0.2222222222222222,
              "#7201a8"
             ],
             [
              0.3333333333333333,
              "#9c179e"
             ],
             [
              0.4444444444444444,
              "#bd3786"
             ],
             [
              0.5555555555555556,
              "#d8576b"
             ],
             [
              0.6666666666666666,
              "#ed7953"
             ],
             [
              0.7777777777777778,
              "#fb9f3a"
             ],
             [
              0.8888888888888888,
              "#fdca26"
             ],
             [
              1,
              "#f0f921"
             ]
            ],
            "type": "histogram2dcontour"
           }
          ],
          "mesh3d": [
           {
            "colorbar": {
             "outlinewidth": 0,
             "ticks": ""
            },
            "type": "mesh3d"
           }
          ],
          "parcoords": [
           {
            "line": {
             "colorbar": {
              "outlinewidth": 0,
              "ticks": ""
             }
            },
            "type": "parcoords"
           }
          ],
          "pie": [
           {
            "automargin": true,
            "type": "pie"
           }
          ],
          "scatter": [
           {
            "fillpattern": {
             "fillmode": "overlay",
             "size": 10,
             "solidity": 0.2
            },
            "type": "scatter"
           }
          ],
          "scatter3d": [
           {
            "line": {
             "colorbar": {
              "outlinewidth": 0,
              "ticks": ""
             }
            },
            "marker": {
             "colorbar": {
              "outlinewidth": 0,
              "ticks": ""
             }
            },
            "type": "scatter3d"
           }
          ],
          "scattercarpet": [
           {
            "marker": {
             "colorbar": {
              "outlinewidth": 0,
              "ticks": ""
             }
            },
            "type": "scattercarpet"
           }
          ],
          "scattergeo": [
           {
            "marker": {
             "colorbar": {
              "outlinewidth": 0,
              "ticks": ""
             }
            },
            "type": "scattergeo"
           }
          ],
          "scattergl": [
           {
            "marker": {
             "colorbar": {
              "outlinewidth": 0,
              "ticks": ""
             }
            },
            "type": "scattergl"
           }
          ],
          "scattermapbox": [
           {
            "marker": {
             "colorbar": {
              "outlinewidth": 0,
              "ticks": ""
             }
            },
            "type": "scattermapbox"
           }
          ],
          "scatterpolar": [
           {
            "marker": {
             "colorbar": {
              "outlinewidth": 0,
              "ticks": ""
             }
            },
            "type": "scatterpolar"
           }
          ],
          "scatterpolargl": [
           {
            "marker": {
             "colorbar": {
              "outlinewidth": 0,
              "ticks": ""
             }
            },
            "type": "scatterpolargl"
           }
          ],
          "scatterternary": [
           {
            "marker": {
             "colorbar": {
              "outlinewidth": 0,
              "ticks": ""
             }
            },
            "type": "scatterternary"
           }
          ],
          "surface": [
           {
            "colorbar": {
             "outlinewidth": 0,
             "ticks": ""
            },
            "colorscale": [
             [
              0,
              "#0d0887"
             ],
             [
              0.1111111111111111,
              "#46039f"
             ],
             [
              0.2222222222222222,
              "#7201a8"
             ],
             [
              0.3333333333333333,
              "#9c179e"
             ],
             [
              0.4444444444444444,
              "#bd3786"
             ],
             [
              0.5555555555555556,
              "#d8576b"
             ],
             [
              0.6666666666666666,
              "#ed7953"
             ],
             [
              0.7777777777777778,
              "#fb9f3a"
             ],
             [
              0.8888888888888888,
              "#fdca26"
             ],
             [
              1,
              "#f0f921"
             ]
            ],
            "type": "surface"
           }
          ],
          "table": [
           {
            "cells": {
             "fill": {
              "color": "#EBF0F8"
             },
             "line": {
              "color": "white"
             }
            },
            "header": {
             "fill": {
              "color": "#C8D4E3"
             },
             "line": {
              "color": "white"
             }
            },
            "type": "table"
           }
          ]
         },
         "layout": {
          "annotationdefaults": {
           "arrowcolor": "#2a3f5f",
           "arrowhead": 0,
           "arrowwidth": 1
          },
          "autotypenumbers": "strict",
          "coloraxis": {
           "colorbar": {
            "outlinewidth": 0,
            "ticks": ""
           }
          },
          "colorscale": {
           "diverging": [
            [
             0,
             "#8e0152"
            ],
            [
             0.1,
             "#c51b7d"
            ],
            [
             0.2,
             "#de77ae"
            ],
            [
             0.3,
             "#f1b6da"
            ],
            [
             0.4,
             "#fde0ef"
            ],
            [
             0.5,
             "#f7f7f7"
            ],
            [
             0.6,
             "#e6f5d0"
            ],
            [
             0.7,
             "#b8e186"
            ],
            [
             0.8,
             "#7fbc41"
            ],
            [
             0.9,
             "#4d9221"
            ],
            [
             1,
             "#276419"
            ]
           ],
           "sequential": [
            [
             0,
             "#0d0887"
            ],
            [
             0.1111111111111111,
             "#46039f"
            ],
            [
             0.2222222222222222,
             "#7201a8"
            ],
            [
             0.3333333333333333,
             "#9c179e"
            ],
            [
             0.4444444444444444,
             "#bd3786"
            ],
            [
             0.5555555555555556,
             "#d8576b"
            ],
            [
             0.6666666666666666,
             "#ed7953"
            ],
            [
             0.7777777777777778,
             "#fb9f3a"
            ],
            [
             0.8888888888888888,
             "#fdca26"
            ],
            [
             1,
             "#f0f921"
            ]
           ],
           "sequentialminus": [
            [
             0,
             "#0d0887"
            ],
            [
             0.1111111111111111,
             "#46039f"
            ],
            [
             0.2222222222222222,
             "#7201a8"
            ],
            [
             0.3333333333333333,
             "#9c179e"
            ],
            [
             0.4444444444444444,
             "#bd3786"
            ],
            [
             0.5555555555555556,
             "#d8576b"
            ],
            [
             0.6666666666666666,
             "#ed7953"
            ],
            [
             0.7777777777777778,
             "#fb9f3a"
            ],
            [
             0.8888888888888888,
             "#fdca26"
            ],
            [
             1,
             "#f0f921"
            ]
           ]
          },
          "colorway": [
           "#636efa",
           "#EF553B",
           "#00cc96",
           "#ab63fa",
           "#FFA15A",
           "#19d3f3",
           "#FF6692",
           "#B6E880",
           "#FF97FF",
           "#FECB52"
          ],
          "font": {
           "color": "#2a3f5f"
          },
          "geo": {
           "bgcolor": "white",
           "lakecolor": "white",
           "landcolor": "white",
           "showlakes": true,
           "showland": true,
           "subunitcolor": "#C8D4E3"
          },
          "hoverlabel": {
           "align": "left"
          },
          "hovermode": "closest",
          "mapbox": {
           "style": "light"
          },
          "paper_bgcolor": "white",
          "plot_bgcolor": "white",
          "polar": {
           "angularaxis": {
            "gridcolor": "#EBF0F8",
            "linecolor": "#EBF0F8",
            "ticks": ""
           },
           "bgcolor": "white",
           "radialaxis": {
            "gridcolor": "#EBF0F8",
            "linecolor": "#EBF0F8",
            "ticks": ""
           }
          },
          "scene": {
           "xaxis": {
            "backgroundcolor": "white",
            "gridcolor": "#DFE8F3",
            "gridwidth": 2,
            "linecolor": "#EBF0F8",
            "showbackground": true,
            "ticks": "",
            "zerolinecolor": "#EBF0F8"
           },
           "yaxis": {
            "backgroundcolor": "white",
            "gridcolor": "#DFE8F3",
            "gridwidth": 2,
            "linecolor": "#EBF0F8",
            "showbackground": true,
            "ticks": "",
            "zerolinecolor": "#EBF0F8"
           },
           "zaxis": {
            "backgroundcolor": "white",
            "gridcolor": "#DFE8F3",
            "gridwidth": 2,
            "linecolor": "#EBF0F8",
            "showbackground": true,
            "ticks": "",
            "zerolinecolor": "#EBF0F8"
           }
          },
          "shapedefaults": {
           "line": {
            "color": "#2a3f5f"
           }
          },
          "ternary": {
           "aaxis": {
            "gridcolor": "#DFE8F3",
            "linecolor": "#A2B1C6",
            "ticks": ""
           },
           "baxis": {
            "gridcolor": "#DFE8F3",
            "linecolor": "#A2B1C6",
            "ticks": ""
           },
           "bgcolor": "white",
           "caxis": {
            "gridcolor": "#DFE8F3",
            "linecolor": "#A2B1C6",
            "ticks": ""
           }
          },
          "title": {
           "x": 0.05
          },
          "xaxis": {
           "automargin": true,
           "gridcolor": "#EBF0F8",
           "linecolor": "#EBF0F8",
           "ticks": "",
           "title": {
            "standoff": 15
           },
           "zerolinecolor": "#EBF0F8",
           "zerolinewidth": 2
          },
          "yaxis": {
           "automargin": true,
           "gridcolor": "#EBF0F8",
           "linecolor": "#EBF0F8",
           "ticks": "",
           "title": {
            "standoff": 15
           },
           "zerolinecolor": "#EBF0F8",
           "zerolinewidth": 2
          }
         }
        },
        "xaxis": {
         "anchor": "y",
         "domain": [
          0,
          0.045000000000000005
         ],
         "range": [
          0,
          1
         ],
         "side": "top",
         "tickvals": [],
         "title": {}
        },
        "xaxis2": {
         "anchor": "y",
         "autorange": true,
         "domain": [
          0.14500000000000002,
          1
         ],
         "range": [
          0,
          340
         ],
         "side": "top",
         "title": {
          "text": "$ \\sigma_{v0}^{\\prime} \\ \\text{[kPa]} $"
         },
         "type": "linear"
        },
        "yaxis": {
         "anchor": "x",
         "domain": [
          0,
          1
         ],
         "range": [
          20,
          0
         ],
         "title": {
          "text": "$ z \\ \\text{[m]} $"
         }
        },
        "yaxis2": {
         "anchor": "x2",
         "domain": [
          0,
          1
         ],
         "matches": "y",
         "showticklabels": false
        }
       }
      },
      "image/png": "[encoded data removed]",
      "text/html": [
       "<div>                            <div id=\"197b583d-8cf1-40d3-b721-5e79ec0b3d19\" class=\"plotly-graph-div\" style=\"height:525px; width:100%;\"></div>            <script type=\"text/javascript\">                require([\"plotly\"], function(Plotly) {                    window.PLOTLYENV=window.PLOTLYENV || {};\n",
       "                    window.PLOTLYENV.BASE_URL='https://github.com/snakesonabrain/groundhog';                                    if (document.getElementById(\"197b583d-8cf1-40d3-b721-5e79ec0b3d19\")) {                    Plotly.newPlot(                        \"197b583d-8cf1-40d3-b721-5e79ec0b3d19\",                        [{\"line\":{\"color\":\"black\"},\"mode\":\"lines\",\"name\":\"Dummy\",\"showlegend\":false,\"x\":[0,100],\"y\":[null,null],\"type\":\"scatter\",\"xaxis\":\"x2\",\"yaxis\":\"y2\"},{\"mode\":\"lines\",\"name\":\"$ \\\\sigma_{v0}^{\\\\prime} $\",\"showlegend\":false,\"x\":[0.0,100.0,100.0,340.0],\"y\":[0,10,10,40],\"type\":\"scatter\",\"xaxis\":\"x2\",\"yaxis\":\"y2\"}],                        {\"template\":{\"data\":{\"histogram2dcontour\":[{\"type\":\"histogram2dcontour\",\"colorbar\":{\"outlinewidth\":0,\"ticks\":\"\"},\"colorscale\":[[0.0,\"#0d0887\"],[0.1111111111111111,\"#46039f\"],[0.2222222222222222,\"#7201a8\"],[0.3333333333333333,\"#9c179e\"],[0.4444444444444444,\"#bd3786\"],[0.5555555555555556,\"#d8576b\"],[0.6666666666666666,\"#ed7953\"],[0.7777777777777778,\"#fb9f3a\"],[0.8888888888888888,\"#fdca26\"],[1.0,\"#f0f921\"]]}],\"choropleth\":[{\"type\":\"choropleth\",\"colorbar\":{\"outlinewidth\":0,\"ticks\":\"\"}}],\"histogram2d\":[{\"type\":\"histogram2d\",\"colorbar\":{\"outlinewidth\":0,\"ticks\":\"\"},\"colorscale\":[[0.0,\"#0d0887\"],[0.1111111111111111,\"#46039f\"],[0.2222222222222222,\"#7201a8\"],[0.3333333333333333,\"#9c179e\"],[0.4444444444444444,\"#bd3786\"],[0.5555555555555556,\"#d8576b\"],[0.6666666666666666,\"#ed7953\"],[0.7777777777777778,\"#fb9f3a\"],[0.8888888888888888,\"#fdca26\"],[1.0,\"#f0f921\"]]}],\"heatmap\":[{\"type\":\"heatmap\",\"colorbar\":{\"outlinewidth\":0,\"ticks\":\"\"},\"colorscale\":[[0.0,\"#0d0887\"],[0.1111111111111111,\"#46039f\"],[0.2222222222222222,\"#7201a8\"],[0.3333333333333333,\"#9c179e\"],[0.4444444444444444,\"#bd3786\"],[0.5555555555555556,\"#d8576b\"],[0.6666666666666666,\"#ed7953\"],[0.7777777777777778,\"#fb9f3a\"],[0.8888888888888888,\"#fdca26\"],[1.0,\"#f0f921\"]]}],\"heatmapgl\":[{\"type\":\"heatmapgl\",\"colorbar\":{\"outlinewidth\":0,\"ticks\":\"\"},\"colorscale\":[[0.0,\"#0d0887\"],[0.1111111111111111,\"#46039f\"],[0.2222222222222222,\"#7201a8\"],[0.3333333333333333,\"#9c179e\"],[0.4444444444444444,\"#bd3786\"],[0.5555555555555556,\"#d8576b\"],[0.6666666666666666,\"#ed7953\"],[0.7777777777777778,\"#fb9f3a\"],[0.8888888888888888,\"#fdca26\"],[1.0,\"#f0f921\"]]}],\"contourcarpet\":[{\"type\":\"contourcarpet\",\"colorbar\":{\"outlinewidth\":0,\"ticks\":\"\"}}],\"contour\":[{\"type\":\"contour\",\"colorbar\":{\"outlinewidth\":0,\"ticks\":\"\"},\"colorscale\":[[0.0,\"#0d0887\"],[0.1111111111111111,\"#46039f\"],[0.2222222222222222,\"#7201a8\"],[0.3333333333333333,\"#9c179e\"],[0.4444444444444444,\"#bd3786\"],[0.5555555555555556,\"#d8576b\"],[0.6666666666666666,\"#ed7953\"],[0.7777777777777778,\"#fb9f3a\"],[0.8888888888888888,\"#fdca26\"],[1.0,\"#f0f921\"]]}],\"surface\":[{\"type\":\"surface\",\"colorbar\":{\"outlinewidth\":0,\"ticks\":\"\"},\"colorscale\":[[0.0,\"#0d0887\"],[0.1111111111111111,\"#46039f\"],[0.2222222222222222,\"#7201a8\"],[0.3333333333333333,\"#9c179e\"],[0.4444444444444444,\"#bd3786\"],[0.5555555555555556,\"#d8576b\"],[0.6666666666666666,\"#ed7953\"],[0.7777777777777778,\"#fb9f3a\"],[0.8888888888888888,\"#fdca26\"],[1.0,\"#f0f921\"]]}],\"mesh3d\":[{\"type\":\"mesh3d\",\"colorbar\":{\"outlinewidth\":0,\"ticks\":\"\"}}],\"scatter\":[{\"fillpattern\":{\"fillmode\":\"overlay\",\"size\":10,\"solidity\":0.2},\"type\":\"scatter\"}],\"parcoords\":[{\"type\":\"parcoords\",\"line\":{\"colorbar\":{\"outlinewidth\":0,\"ticks\":\"\"}}}],\"scatterpolargl\":[{\"type\":\"scatterpolargl\",\"marker\":{\"colorbar\":{\"outlinewidth\":0,\"ticks\":\"\"}}}],\"bar\":[{\"error_x\":{\"color\":\"#2a3f5f\"},\"error_y\":{\"color\":\"#2a3f5f\"},\"marker\":{\"line\":{\"color\":\"white\",\"width\":0.5},\"pattern\":{\"fillmode\":\"overlay\",\"size\":10,\"solidity\":0.2}},\"type\":\"bar\"}],\"scattergeo\":[{\"type\":\"scattergeo\",\"marker\":{\"colorbar\":{\"outlinewidth\":0,\"ticks\":\"\"}}}],\"scatterpolar\":[{\"type\":\"scatterpolar\",\"marker\":{\"colorbar\":{\"outlinewidth\":0,\"ticks\":\"\"}}}],\"histogram\":[{\"marker\":{\"pattern\":{\"fillmode\":\"overlay\",\"size\":10,\"solidity\":0.2}},\"type\":\"histogram\"}],\"scattergl\":[{\"type\":\"scattergl\",\"marker\":{\"colorbar\":{\"outlinewidth\":0,\"ticks\":\"\"}}}],\"scatter3d\":[{\"type\":\"scatter3d\",\"line\":{\"colorbar\":{\"outlinewidth\":0,\"ticks\":\"\"}},\"marker\":{\"colorbar\":{\"outlinewidth\":0,\"ticks\":\"\"}}}],\"scattermapbox\":[{\"type\":\"scattermapbox\",\"marker\":{\"colorbar\":{\"outlinewidth\":0,\"ticks\":\"\"}}}],\"scatterternary\":[{\"type\":\"scatterternary\",\"marker\":{\"colorbar\":{\"outlinewidth\":0,\"ticks\":\"\"}}}],\"scattercarpet\":[{\"type\":\"scattercarpet\",\"marker\":{\"colorbar\":{\"outlinewidth\":0,\"ticks\":\"\"}}}],\"carpet\":[{\"aaxis\":{\"endlinecolor\":\"#2a3f5f\",\"gridcolor\":\"#C8D4E3\",\"linecolor\":\"#C8D4E3\",\"minorgridcolor\":\"#C8D4E3\",\"startlinecolor\":\"#2a3f5f\"},\"baxis\":{\"endlinecolor\":\"#2a3f5f\",\"gridcolor\":\"#C8D4E3\",\"linecolor\":\"#C8D4E3\",\"minorgridcolor\":\"#C8D4E3\",\"startlinecolor\":\"#2a3f5f\"},\"type\":\"carpet\"}],\"table\":[{\"cells\":{\"fill\":{\"color\":\"#EBF0F8\"},\"line\":{\"color\":\"white\"}},\"header\":{\"fill\":{\"color\":\"#C8D4E3\"},\"line\":{\"color\":\"white\"}},\"type\":\"table\"}],\"barpolar\":[{\"marker\":{\"line\":{\"color\":\"white\",\"width\":0.5},\"pattern\":{\"fillmode\":\"overlay\",\"size\":10,\"solidity\":0.2}},\"type\":\"barpolar\"}],\"pie\":[{\"automargin\":true,\"type\":\"pie\"}]},\"layout\":{\"autotypenumbers\":\"strict\",\"colorway\":[\"#636efa\",\"#EF553B\",\"#00cc96\",\"#ab63fa\",\"#FFA15A\",\"#19d3f3\",\"#FF6692\",\"#B6E880\",\"#FF97FF\",\"#FECB52\"],\"font\":{\"color\":\"#2a3f5f\"},\"hovermode\":\"closest\",\"hoverlabel\":{\"align\":\"left\"},\"paper_bgcolor\":\"white\",\"plot_bgcolor\":\"white\",\"polar\":{\"bgcolor\":\"white\",\"angularaxis\":{\"gridcolor\":\"#EBF0F8\",\"linecolor\":\"#EBF0F8\",\"ticks\":\"\"},\"radialaxis\":{\"gridcolor\":\"#EBF0F8\",\"linecolor\":\"#EBF0F8\",\"ticks\":\"\"}},\"ternary\":{\"bgcolor\":\"white\",\"aaxis\":{\"gridcolor\":\"#DFE8F3\",\"linecolor\":\"#A2B1C6\",\"ticks\":\"\"},\"baxis\":{\"gridcolor\":\"#DFE8F3\",\"linecolor\":\"#A2B1C6\",\"ticks\":\"\"},\"caxis\":{\"gridcolor\":\"#DFE8F3\",\"linecolor\":\"#A2B1C6\",\"ticks\":\"\"}},\"coloraxis\":{\"colorbar\":{\"outlinewidth\":0,\"ticks\":\"\"}},\"colorscale\":{\"sequential\":[[0.0,\"#0d0887\"],[0.1111111111111111,\"#46039f\"],[0.2222222222222222,\"#7201a8\"],[0.3333333333333333,\"#9c179e\"],[0.4444444444444444,\"#bd3786\"],[0.5555555555555556,\"#d8576b\"],[0.6666666666666666,\"#ed7953\"],[0.7777777777777778,\"#fb9f3a\"],[0.8888888888888888,\"#fdca26\"],[1.0,\"#f0f921\"]],\"sequentialminus\":[[0.0,\"#0d0887\"],[0.1111111111111111,\"#46039f\"],[0.2222222222222222,\"#7201a8\"],[0.3333333333333333,\"#9c179e\"],[0.4444444444444444,\"#bd3786\"],[0.5555555555555556,\"#d8576b\"],[0.6666666666666666,\"#ed7953\"],[0.7777777777777778,\"#fb9f3a\"],[0.8888888888888888,\"#fdca26\"],[1.0,\"#f0f921\"]],\"diverging\":[[0,\"#8e0152\"],[0.1,\"#c51b7d\"],[0.2,\"#de77ae\"],[0.3,\"#f1b6da\"],[0.4,\"#fde0ef\"],[0.5,\"#f7f7f7\"],[0.6,\"#e6f5d0\"],[0.7,\"#b8e186\"],[0.8,\"#7fbc41\"],[0.9,\"#4d9221\"],[1,\"#276419\"]]},\"xaxis\":{\"gridcolor\":\"#EBF0F8\",\"linecolor\":\"#EBF0F8\",\"ticks\":\"\",\"title\":{\"standoff\":15},\"zerolinecolor\":\"#EBF0F8\",\"automargin\":true,\"zerolinewidth\":2},\"yaxis\":{\"gridcolor\":\"#EBF0F8\",\"linecolor\":\"#EBF0F8\",\"ticks\":\"\",\"title\":{\"standoff\":15},\"zerolinecolor\":\"#EBF0F8\",\"automargin\":true,\"zerolinewidth\":2},\"scene\":{\"xaxis\":{\"backgroundcolor\":\"white\",\"gridcolor\":\"#DFE8F3\",\"linecolor\":\"#EBF0F8\",\"showbackground\":true,\"ticks\":\"\",\"zerolinecolor\":\"#EBF0F8\",\"gridwidth\":2},\"yaxis\":{\"backgroundcolor\":\"white\",\"gridcolor\":\"#DFE8F3\",\"linecolor\":\"#EBF0F8\",\"showbackground\":true,\"ticks\":\"\",\"zerolinecolor\":\"#EBF0F8\",\"gridwidth\":2},\"zaxis\":{\"backgroundcolor\":\"white\",\"gridcolor\":\"#DFE8F3\",\"linecolor\":\"#EBF0F8\",\"showbackground\":true,\"ticks\":\"\",\"zerolinecolor\":\"#EBF0F8\",\"gridwidth\":2}},\"shapedefaults\":{\"line\":{\"color\":\"#2a3f5f\"}},\"annotationdefaults\":{\"arrowcolor\":\"#2a3f5f\",\"arrowhead\":0,\"arrowwidth\":1},\"geo\":{\"bgcolor\":\"white\",\"landcolor\":\"white\",\"subunitcolor\":\"#C8D4E3\",\"showland\":true,\"showlakes\":true,\"lakecolor\":\"white\"},\"title\":{\"x\":0.05},\"mapbox\":{\"style\":\"light\"}}},\"xaxis\":{\"anchor\":\"y\",\"domain\":[0.0,0.045000000000000005],\"title\":{},\"side\":\"top\",\"tickvals\":[],\"range\":[0,1]},\"yaxis\":{\"anchor\":\"x\",\"domain\":[0.0,1.0],\"range\":[20,0],\"title\":{\"text\":\"$ z \\\\ \\\\text{[m]} $\"}},\"xaxis2\":{\"anchor\":\"y\",\"domain\":[0.14500000000000002,1.0],\"title\":{\"text\":\"$ \\\\sigma_{v0}^{\\\\prime} \\\\ \\\\text{[kPa]} $\"},\"side\":\"top\"},\"yaxis2\":{\"anchor\":\"x2\",\"domain\":[0.0,1.0],\"matches\":\"y\",\"showticklabels\":false},\"shapes\":[{\"fillcolor\":\"rgb(31, 119, 180)\",\"opacity\":1,\"type\":\"rect\",\"x0\":0,\"x1\":1,\"xref\":\"x\",\"y0\":0,\"y1\":10,\"yref\":\"y\",\"line\":{\"width\":1}},{\"fillcolor\":\"rgb(255, 127, 14)\",\"opacity\":1,\"type\":\"rect\",\"x0\":0,\"x1\":1,\"xref\":\"x\",\"y0\":10,\"y1\":40,\"yref\":\"y\",\"line\":{\"width\":1}}]},                        {\"showLink\": true, \"plotlyServerURL\": \"https://github.com/snakesonabrain/groundhog\", \"linkText\": \"Created by groundhog using Plotly!\", \"responsive\": true}                    ).then(function(){\n",
       "                            \n",
       "var gd = document.getElementById('197b583d-8cf1-40d3-b721-5e79ec0b3d19');\n",
       "var x = new MutationObserver(function (mutations, observer) {{\n",
       "        var display = window.getComputedStyle(gd).display;\n",
       "        if (!display || display === 'none') {{\n",
       "            console.log([gd, 'removed!']);\n",
       "            Plotly.purge(gd);\n",
       "            observer.disconnect();\n",
       "        }}\n",
       "}});\n",
       "\n",
       "// Listen for the removal of the full notebook cells\n",
       "var notebookContainer = gd.closest('#notebook-container');\n",
       "if (notebookContainer) {{\n",
       "    x.observe(notebookContainer, {childList: true});\n",
       "}}\n",
       "\n",
       "// Listen for the clearing of the current output cell\n",
       "var outputEl = gd.closest('.output');\n",
       "if (outputEl) {{\n",
       "    x.observe(outputEl, {childList: true});\n",
       "}}\n",
       "\n",
       "                        })                };                });            </script>        </div>"
      ]
     },
     "metadata": {},
     "output_type": "display_data"
    }
   ],
   "source": [
    "stress_plot = LogPlot(sp, no_panels=1, fillcolordict={'SAND': 'yellow', 'CLAY': 'brown'})\n",
    "stress_plot.add_trace(\n",
    "    x=sp.soilparameter_series('Vertical effective stress [kPa]')[1],\n",
    "    z=sp.soilparameter_series('Vertical effective stress [kPa]')[0],\n",
    "    name=r'$ \\sigma_{v0}^{\\prime} $', showlegend=False, panel_no=1)\n",
    "stress_plot.set_xaxis(title=r'$ \\sigma_{v0}^{\\prime} \\ \\text{[kPa]} $', panel_no=1)\n",
    "stress_plot.set_zaxis(title=r'$ z \\ \\text{[m]} $', range=(20, 0))\n",
    "stress_plot.show()"
   ]
  },
  {
   "cell_type": "markdown",
   "id": "dc6f0ac8",
   "metadata": {},
   "source": [
    "## Axial pile capacity calculation setup\n",
    "\n",
    "### Creating the calculation object\n",
    "\n",
    "An axial capacity calculation can be set up based on the soil profile. The ``AxcapCalculation`` class contains the necessary functionality."
   ]
  },
  {
   "cell_type": "code",
   "execution_count": 103,
   "id": "3326adcf",
   "metadata": {},
   "outputs": [],
   "source": [
    "from groundhog.deepfoundations.axialcapacity.axcap import AxCapCalculation"
   ]
  },
  {
   "cell_type": "code",
   "execution_count": 104,
   "id": "b40f0fc8",
   "metadata": {},
   "outputs": [],
   "source": [
    "calc = AxCapCalculation(sp)"
   ]
  },
  {
   "cell_type": "markdown",
   "id": "0508cbf5",
   "metadata": {},
   "source": [
    "### Checking of presence of require soil parameters\n",
    "\n",
    "The presence of the required input to unit skin friction and unit end bearing calculations can be checked. Note that both numerical and string soil parameters need to be checked:"
   ]
  },
  {
   "cell_type": "code",
   "execution_count": 105,
   "id": "e31ea761",
   "metadata": {},
   "outputs": [],
   "source": [
    "from groundhog.general.parameter_mapping import SOIL_PARAMETER_MAPPING, reverse_dict\n",
    "from groundhog.deepfoundations.axialcapacity.skinfriction import SKINFRICTION_PARAMETERS, SKINFRICTION_METHODS\n",
    "from groundhog.deepfoundations.axialcapacity.endbearing import ENDBEARING_PARAMETERS, ENDBEARING_METHODS"
   ]
  },
  {
   "cell_type": "markdown",
   "id": "4f3ba2e0",
   "metadata": {},
   "source": [
    "``groundhog`` has a standard mapping for soil parameters, which defines the mapping from column headers in a Pandas dataframe to ``groundhog`` function variables. Column headers must conform to this naming."
   ]
  },
  {
   "cell_type": "code",
   "execution_count": 106,
   "id": "39c6262c",
   "metadata": {},
   "outputs": [
    {
     "data": {
      "text/plain": [
       "{'qc [MPa]': 'qc',\n",
       " 'fs [MPa]': 'fs',\n",
       " 'u2 [MPa]': 'u2',\n",
       " 'qt [MPa]': 'qt',\n",
       " 'ft [MPa]': 'ft',\n",
       " 'qnet [MPa]': 'qnet',\n",
       " 'Vertical total stress [kPa]': 'sigma_vo',\n",
       " 'Vertical effective stress [kPa]': 'sigma_vo_eff',\n",
       " 'Effective pressure [kPa]': 'p_eff',\n",
       " 'Effective unit weight [kN/m3]': 'gamma_eff',\n",
       " 'Total unit weight [kN/m3]': 'gamma_tot',\n",
       " 'Unit weight [kN/m3]': 'gamma',\n",
       " 'Ic [-]': 'ic',\n",
       " 'Dr [-]': 'relative_density',\n",
       " 'Gmax [kPa]': 'gmax',\n",
       " 'G [kPa]': 'shearmodulus',\n",
       " 'Qt [-]': 'Qt',\n",
       " 'Bq [-]': 'Bq',\n",
       " 'Fr [%]': 'Fr',\n",
       " 'Rf [%]': 'Rf',\n",
       " 'K0 [-]': 'k0',\n",
       " 'Vs [m/s]': 'Vs',\n",
       " 'gamma [kN/m3]': 'gamma',\n",
       " 'OCR [-]': 'ocr',\n",
       " 'PI [%]': 'pi',\n",
       " 'z [m]': 'depth',\n",
       " 'Embedded length [m]': 'embedded_length',\n",
       " 'Effective friction angle [deg]': 'phi_eff',\n",
       " 'Friction angle [deg]': 'phi',\n",
       " 'Critical state friction angle [deg]': 'phi_cs',\n",
       " 'Cohesion [kPa]': 'cohesion',\n",
       " 'Minor principal stress [kPa]': 'sigma_3',\n",
       " 'Major principal stress [kPa]': 'sigma_1',\n",
       " 'Interface friction angle [deg]': 'interface_friction_angle',\n",
       " 'Undrained shear strength [kPa]': 'undrained_shear_strength',\n",
       " 'API soil description': 'api_soildescription',\n",
       " 'API relative density description': 'api_relativedensity',\n",
       " 'Limiting unit skin friction [kPa]': 'fs_lim',\n",
       " 'Limiting unit end bearing [kPa]': 'qb_lim',\n",
       " 'Tension modifier [-]': 'tension_modifier',\n",
       " 'Borehole diameter [mm]': 'borehole_diameter',\n",
       " 'Rod length [m]': 'rod_length',\n",
       " 'Country': 'country',\n",
       " 'Hammer type': 'hammertype',\n",
       " 'Hammer release': 'hammerrelease',\n",
       " 'Sampler type': 'samplertype',\n",
       " 'N [-]': 'N',\n",
       " 'N1_60 [-]': 'N1_60',\n",
       " 'eta H [%]': 'eta_H',\n",
       " 'eta B [-]': 'eta_B',\n",
       " 'eta S [-]': 'eta_S',\n",
       " 'eta R [-]': 'eta_R',\n",
       " 'd50 [mm]': 'd_50',\n",
       " 'N60 [-]': 'N_60',\n",
       " 'Granular': 'granular',\n",
       " 'Void ratio [-]': 'voidratio',\n",
       " 'Dry density [kg/m3]': 'dry_density',\n",
       " 'Bulk density [kg/m3]': 'bulk_density',\n",
       " 'Water density [kg/m3]': 'water_density',\n",
       " 'Density [kg/m3]': 'density',\n",
       " 'Gs [-]': 'specific_gravity',\n",
       " 'S [-]': 'saturation',\n",
       " 'Water content [%]': 'water_content',\n",
       " 'Vertical coefficient of consolidation [m2/yr]': 'cv',\n",
       " 'Horizontal coefficient of consolidation [m2/yr]': 'ch'}"
      ]
     },
     "execution_count": 106,
     "metadata": {},
     "output_type": "execute_result"
    }
   ],
   "source": [
    "SOIL_PARAMETER_MAPPING"
   ]
  },
  {
   "cell_type": "markdown",
   "id": "7ba53be4",
   "metadata": {},
   "source": [
    "The necessary parameters for skin friction calculation can be printed. In v0.9.0, only the API RP2 GEO methods are defined with their associated parameters."
   ]
  },
  {
   "cell_type": "code",
   "execution_count": 107,
   "id": "2801771b",
   "metadata": {},
   "outputs": [
    {
     "data": {
      "text/plain": [
       "{'API RP2 GEO Sand': ['api_relativedensity',\n",
       "  'api_soildescription',\n",
       "  'sigma_vo_eff'],\n",
       " 'API RP2 GEO Clay': ['undrained_shear_strength', 'sigma_vo_eff'],\n",
       " 'Alm and Hamre Sand': ['qt',\n",
       "  'sigma_vo_eff',\n",
       "  'interface_friction_angle',\n",
       "  'depth',\n",
       "  'embedded_length'],\n",
       " 'Alm and Hamre Clay': ['depth',\n",
       "  'embedded_length',\n",
       "  'qt',\n",
       "  'fs',\n",
       "  'sigma_vo_eff']}"
      ]
     },
     "execution_count": 107,
     "metadata": {},
     "output_type": "execute_result"
    }
   ],
   "source": [
    "SKINFRICTION_PARAMETERS"
   ]
  },
  {
   "cell_type": "markdown",
   "id": "0f11246b",
   "metadata": {},
   "source": [
    "With the method ``check_methods``, the presence of the parameters can be checked. At this point, the parameters are not yet defined so the method will return a message that the required parameters are not found."
   ]
  },
  {
   "cell_type": "code",
   "execution_count": 108,
   "id": "ace9bbf9",
   "metadata": {},
   "outputs": [
    {
     "name": "stdout",
     "output_type": "stream",
     "text": [
      "Skin friction method API RP2 GEO Sand: Required parameter API relative density description not found\n",
      "Skin friction method API RP2 GEO Sand: Required parameter API soil description not found\n",
      "Skin friction method API RP2 GEO Clay: Required parameter Undrained shear strength [kPa] not found\n",
      "End bearing method API RP2 GEO Sand: Required parameter API relative density description not found\n",
      "End bearing method API RP2 GEO Sand: Required parameter API soil description not found\n",
      "End bearing method API RP2 GEO Clay: Required parameter Undrained shear strength [kPa] not found\n"
     ]
    }
   ],
   "source": [
    "calc.check_methods()"
   ]
  },
  {
   "cell_type": "markdown",
   "id": "75566c90",
   "metadata": {},
   "source": [
    "The required soil parameters can be defined. Example parameters are defined below. The documentation of the unit skin friction and unit end bearing methods can be checked in the ``groundhog`` documentation."
   ]
  },
  {
   "cell_type": "code",
   "execution_count": 109,
   "id": "e259d473",
   "metadata": {},
   "outputs": [],
   "source": [
    "calc.sp['API soil description'] = ['Sand', 'Clay']\n",
    "calc.sp['API relative density description'] = ['Medium dense', '-']\n",
    "calc.sp['Undrained shear strength from [kPa]'] = [np.nan, 150]\n",
    "calc.sp['Undrained shear strength to [kPa]'] = [np.nan, 200]"
   ]
  },
  {
   "cell_type": "code",
   "execution_count": 110,
   "id": "265982be-942e-4f93-b73c-afd2576bf051",
   "metadata": {},
   "outputs": [],
   "source": [
    "for i, row in calc.sp.iterrows():\n",
    "    if row['API relative density description'] == 'Very loose':\n",
    "        calc.sp.loc[i, 'Dr [pct]'] = 10\n",
    "    elif row['API relative density description'] == 'Loose':\n",
    "        calc.sp.loc[i, 'Dr [pct]'] = 25\n",
    "    elif row['API relative density description'] == 'Medium dense':\n",
    "        calc.sp.loc[i, 'Dr [pct]'] = 50\n",
    "    elif row['API relative density description'] == 'Dense':\n",
    "        calc.sp.loc[i, 'Dr [pct]'] = 75\n",
    "    elif row['API relative density description'] == 'Very dense':\n",
    "        calc.sp.loc[i, 'Dr [pct]'] = 90\n",
    "    else:\n",
    "        calc.sp.loc[i, 'Dr [pct]'] = np.nan"
   ]
  },
  {
   "cell_type": "markdown",
   "id": "115b7810",
   "metadata": {},
   "source": [
    "When re-running the ``check_methods`` no messages are returned. But the attribute ``checked`` is now ``True``."
   ]
  },
  {
   "cell_type": "code",
   "execution_count": 111,
   "id": "cb670c65",
   "metadata": {},
   "outputs": [
    {
     "data": {
      "text/plain": [
       "True"
      ]
     },
     "execution_count": 111,
     "metadata": {},
     "output_type": "execute_result"
    }
   ],
   "source": [
    "calc.check_methods()\n",
    "calc.checked"
   ]
  },
  {
   "cell_type": "markdown",
   "id": "480fbcc3",
   "metadata": {},
   "source": [
    "## Gridding for axial capacity calculation"
   ]
  },
  {
   "cell_type": "markdown",
   "id": "ac7531c3",
   "metadata": {},
   "source": [
    "A calculation grid can be created based on the soil profile with a spacing of 1m."
   ]
  },
  {
   "cell_type": "code",
   "execution_count": 112,
   "id": "ea110216",
   "metadata": {},
   "outputs": [],
   "source": [
    "calc.create_grid(dz=1)"
   ]
  },
  {
   "cell_type": "markdown",
   "id": "3f785cb9",
   "metadata": {},
   "source": [
    "The grid has a ``nodes`` and ``elements`` attribute where the former contains the nodal coordinates and the associated parameter values at the nodes. The latter contains the element definition with the parameter values at the center of the element."
   ]
  },
  {
   "cell_type": "code",
   "execution_count": 113,
   "id": "5e7c53b3",
   "metadata": {},
   "outputs": [
    {
     "data": {
      "text/html": [
       "<div>\n",
       "<style scoped>\n",
       "    .dataframe tbody tr th:only-of-type {\n",
       "        vertical-align: middle;\n",
       "    }\n",
       "\n",
       "    .dataframe tbody tr th {\n",
       "        vertical-align: top;\n",
       "    }\n",
       "\n",
       "    .dataframe thead th {\n",
       "        text-align: right;\n",
       "    }\n",
       "</style>\n",
       "<table border=\"1\" class=\"dataframe\">\n",
       "  <thead>\n",
       "    <tr style=\"text-align: right;\">\n",
       "      <th></th>\n",
       "      <th>z [m]</th>\n",
       "      <th>Soil type</th>\n",
       "      <th>Unit skin friction</th>\n",
       "      <th>Unit end bearing</th>\n",
       "      <th>API soil description</th>\n",
       "      <th>API relative density description</th>\n",
       "      <th>Total unit weight [kN/m3]</th>\n",
       "      <th>Water unit weight [kN/m3]</th>\n",
       "      <th>Effective unit weight [kN/m3]</th>\n",
       "      <th>Hydrostatic pressure [kPa]</th>\n",
       "      <th>Vertical effective stress [kPa]</th>\n",
       "      <th>Vertical total stress [kPa]</th>\n",
       "      <th>Undrained shear strength [kPa]</th>\n",
       "      <th>Dr [pct]</th>\n",
       "    </tr>\n",
       "  </thead>\n",
       "  <tbody>\n",
       "    <tr>\n",
       "      <th>0</th>\n",
       "      <td>0.0</td>\n",
       "      <td>Sand</td>\n",
       "      <td>API RP2 GEO Sand</td>\n",
       "      <td>API RP2 GEO Sand</td>\n",
       "      <td>Sand</td>\n",
       "      <td>Medium dense</td>\n",
       "      <td>20.0</td>\n",
       "      <td>10.0</td>\n",
       "      <td>10.0</td>\n",
       "      <td>0.0</td>\n",
       "      <td>0.0</td>\n",
       "      <td>0.0</td>\n",
       "      <td>NaN</td>\n",
       "      <td>50.0</td>\n",
       "    </tr>\n",
       "    <tr>\n",
       "      <th>1</th>\n",
       "      <td>1.0</td>\n",
       "      <td>Sand</td>\n",
       "      <td>API RP2 GEO Sand</td>\n",
       "      <td>API RP2 GEO Sand</td>\n",
       "      <td>Sand</td>\n",
       "      <td>Medium dense</td>\n",
       "      <td>20.0</td>\n",
       "      <td>10.0</td>\n",
       "      <td>10.0</td>\n",
       "      <td>10.0</td>\n",
       "      <td>10.0</td>\n",
       "      <td>20.0</td>\n",
       "      <td>NaN</td>\n",
       "      <td>50.0</td>\n",
       "    </tr>\n",
       "    <tr>\n",
       "      <th>2</th>\n",
       "      <td>2.0</td>\n",
       "      <td>Sand</td>\n",
       "      <td>API RP2 GEO Sand</td>\n",
       "      <td>API RP2 GEO Sand</td>\n",
       "      <td>Sand</td>\n",
       "      <td>Medium dense</td>\n",
       "      <td>20.0</td>\n",
       "      <td>10.0</td>\n",
       "      <td>10.0</td>\n",
       "      <td>20.0</td>\n",
       "      <td>20.0</td>\n",
       "      <td>40.0</td>\n",
       "      <td>NaN</td>\n",
       "      <td>50.0</td>\n",
       "    </tr>\n",
       "    <tr>\n",
       "      <th>3</th>\n",
       "      <td>3.0</td>\n",
       "      <td>Sand</td>\n",
       "      <td>API RP2 GEO Sand</td>\n",
       "      <td>API RP2 GEO Sand</td>\n",
       "      <td>Sand</td>\n",
       "      <td>Medium dense</td>\n",
       "      <td>20.0</td>\n",
       "      <td>10.0</td>\n",
       "      <td>10.0</td>\n",
       "      <td>30.0</td>\n",
       "      <td>30.0</td>\n",
       "      <td>60.0</td>\n",
       "      <td>NaN</td>\n",
       "      <td>50.0</td>\n",
       "    </tr>\n",
       "    <tr>\n",
       "      <th>4</th>\n",
       "      <td>4.0</td>\n",
       "      <td>Sand</td>\n",
       "      <td>API RP2 GEO Sand</td>\n",
       "      <td>API RP2 GEO Sand</td>\n",
       "      <td>Sand</td>\n",
       "      <td>Medium dense</td>\n",
       "      <td>20.0</td>\n",
       "      <td>10.0</td>\n",
       "      <td>10.0</td>\n",
       "      <td>40.0</td>\n",
       "      <td>40.0</td>\n",
       "      <td>80.0</td>\n",
       "      <td>NaN</td>\n",
       "      <td>50.0</td>\n",
       "    </tr>\n",
       "  </tbody>\n",
       "</table>\n",
       "</div>"
      ],
      "text/plain": [
       "   z [m] Soil type Unit skin friction  Unit end bearing API soil description  \\\n",
       "0    0.0      Sand   API RP2 GEO Sand  API RP2 GEO Sand                 Sand   \n",
       "1    1.0      Sand   API RP2 GEO Sand  API RP2 GEO Sand                 Sand   \n",
       "2    2.0      Sand   API RP2 GEO Sand  API RP2 GEO Sand                 Sand   \n",
       "3    3.0      Sand   API RP2 GEO Sand  API RP2 GEO Sand                 Sand   \n",
       "4    4.0      Sand   API RP2 GEO Sand  API RP2 GEO Sand                 Sand   \n",
       "\n",
       "  API relative density description  Total unit weight [kN/m3]  \\\n",
       "0                     Medium dense                       20.0   \n",
       "1                     Medium dense                       20.0   \n",
       "2                     Medium dense                       20.0   \n",
       "3                     Medium dense                       20.0   \n",
       "4                     Medium dense                       20.0   \n",
       "\n",
       "   Water unit weight [kN/m3]  Effective unit weight [kN/m3]  \\\n",
       "0                       10.0                           10.0   \n",
       "1                       10.0                           10.0   \n",
       "2                       10.0                           10.0   \n",
       "3                       10.0                           10.0   \n",
       "4                       10.0                           10.0   \n",
       "\n",
       "   Hydrostatic pressure [kPa]  Vertical effective stress [kPa]  \\\n",
       "0                         0.0                              0.0   \n",
       "1                        10.0                             10.0   \n",
       "2                        20.0                             20.0   \n",
       "3                        30.0                             30.0   \n",
       "4                        40.0                             40.0   \n",
       "\n",
       "   Vertical total stress [kPa]  Undrained shear strength [kPa]  Dr [pct]  \n",
       "0                          0.0                             NaN      50.0  \n",
       "1                         20.0                             NaN      50.0  \n",
       "2                         40.0                             NaN      50.0  \n",
       "3                         60.0                             NaN      50.0  \n",
       "4                         80.0                             NaN      50.0  "
      ]
     },
     "execution_count": 113,
     "metadata": {},
     "output_type": "execute_result"
    }
   ],
   "source": [
    "calc.grid.nodes.head()"
   ]
  },
  {
   "cell_type": "code",
   "execution_count": 114,
   "id": "5bcaf639",
   "metadata": {},
   "outputs": [
    {
     "data": {
      "text/html": [
       "<div>\n",
       "<style scoped>\n",
       "    .dataframe tbody tr th:only-of-type {\n",
       "        vertical-align: middle;\n",
       "    }\n",
       "\n",
       "    .dataframe tbody tr th {\n",
       "        vertical-align: top;\n",
       "    }\n",
       "\n",
       "    .dataframe thead th {\n",
       "        text-align: right;\n",
       "    }\n",
       "</style>\n",
       "<table border=\"1\" class=\"dataframe\">\n",
       "  <thead>\n",
       "    <tr style=\"text-align: right;\">\n",
       "      <th></th>\n",
       "      <th>Depth from [m]</th>\n",
       "      <th>Depth to [m]</th>\n",
       "      <th>z [m]</th>\n",
       "      <th>dz [m]</th>\n",
       "      <th>Total unit weight [kN/m3]</th>\n",
       "      <th>Water unit weight [kN/m3]</th>\n",
       "      <th>Effective unit weight [kN/m3]</th>\n",
       "      <th>Hydrostatic pressure from [kPa]</th>\n",
       "      <th>Hydrostatic pressure to [kPa]</th>\n",
       "      <th>Hydrostatic pressure [kPa]</th>\n",
       "      <th>...</th>\n",
       "      <th>Vertical total stress [kPa]</th>\n",
       "      <th>Undrained shear strength from [kPa]</th>\n",
       "      <th>Undrained shear strength to [kPa]</th>\n",
       "      <th>Undrained shear strength [kPa]</th>\n",
       "      <th>Dr [pct]</th>\n",
       "      <th>Soil type</th>\n",
       "      <th>Unit skin friction</th>\n",
       "      <th>Unit end bearing</th>\n",
       "      <th>API soil description</th>\n",
       "      <th>API relative density description</th>\n",
       "    </tr>\n",
       "  </thead>\n",
       "  <tbody>\n",
       "    <tr>\n",
       "      <th>0</th>\n",
       "      <td>0.0</td>\n",
       "      <td>1.0</td>\n",
       "      <td>0.5</td>\n",
       "      <td>1.0</td>\n",
       "      <td>20.0</td>\n",
       "      <td>10.0</td>\n",
       "      <td>10.0</td>\n",
       "      <td>0.0</td>\n",
       "      <td>10.0</td>\n",
       "      <td>5.0</td>\n",
       "      <td>...</td>\n",
       "      <td>10.0</td>\n",
       "      <td>NaN</td>\n",
       "      <td>NaN</td>\n",
       "      <td>NaN</td>\n",
       "      <td>50.0</td>\n",
       "      <td>Sand</td>\n",
       "      <td>API RP2 GEO Sand</td>\n",
       "      <td>API RP2 GEO Sand</td>\n",
       "      <td>Sand</td>\n",
       "      <td>Medium dense</td>\n",
       "    </tr>\n",
       "    <tr>\n",
       "      <th>1</th>\n",
       "      <td>1.0</td>\n",
       "      <td>2.0</td>\n",
       "      <td>1.5</td>\n",
       "      <td>1.0</td>\n",
       "      <td>20.0</td>\n",
       "      <td>10.0</td>\n",
       "      <td>10.0</td>\n",
       "      <td>10.0</td>\n",
       "      <td>20.0</td>\n",
       "      <td>15.0</td>\n",
       "      <td>...</td>\n",
       "      <td>30.0</td>\n",
       "      <td>NaN</td>\n",
       "      <td>NaN</td>\n",
       "      <td>NaN</td>\n",
       "      <td>50.0</td>\n",
       "      <td>Sand</td>\n",
       "      <td>API RP2 GEO Sand</td>\n",
       "      <td>API RP2 GEO Sand</td>\n",
       "      <td>Sand</td>\n",
       "      <td>Medium dense</td>\n",
       "    </tr>\n",
       "    <tr>\n",
       "      <th>2</th>\n",
       "      <td>2.0</td>\n",
       "      <td>3.0</td>\n",
       "      <td>2.5</td>\n",
       "      <td>1.0</td>\n",
       "      <td>20.0</td>\n",
       "      <td>10.0</td>\n",
       "      <td>10.0</td>\n",
       "      <td>20.0</td>\n",
       "      <td>30.0</td>\n",
       "      <td>25.0</td>\n",
       "      <td>...</td>\n",
       "      <td>50.0</td>\n",
       "      <td>NaN</td>\n",
       "      <td>NaN</td>\n",
       "      <td>NaN</td>\n",
       "      <td>50.0</td>\n",
       "      <td>Sand</td>\n",
       "      <td>API RP2 GEO Sand</td>\n",
       "      <td>API RP2 GEO Sand</td>\n",
       "      <td>Sand</td>\n",
       "      <td>Medium dense</td>\n",
       "    </tr>\n",
       "    <tr>\n",
       "      <th>3</th>\n",
       "      <td>3.0</td>\n",
       "      <td>4.0</td>\n",
       "      <td>3.5</td>\n",
       "      <td>1.0</td>\n",
       "      <td>20.0</td>\n",
       "      <td>10.0</td>\n",
       "      <td>10.0</td>\n",
       "      <td>30.0</td>\n",
       "      <td>40.0</td>\n",
       "      <td>35.0</td>\n",
       "      <td>...</td>\n",
       "      <td>70.0</td>\n",
       "      <td>NaN</td>\n",
       "      <td>NaN</td>\n",
       "      <td>NaN</td>\n",
       "      <td>50.0</td>\n",
       "      <td>Sand</td>\n",
       "      <td>API RP2 GEO Sand</td>\n",
       "      <td>API RP2 GEO Sand</td>\n",
       "      <td>Sand</td>\n",
       "      <td>Medium dense</td>\n",
       "    </tr>\n",
       "    <tr>\n",
       "      <th>4</th>\n",
       "      <td>4.0</td>\n",
       "      <td>5.0</td>\n",
       "      <td>4.5</td>\n",
       "      <td>1.0</td>\n",
       "      <td>20.0</td>\n",
       "      <td>10.0</td>\n",
       "      <td>10.0</td>\n",
       "      <td>40.0</td>\n",
       "      <td>50.0</td>\n",
       "      <td>45.0</td>\n",
       "      <td>...</td>\n",
       "      <td>90.0</td>\n",
       "      <td>NaN</td>\n",
       "      <td>NaN</td>\n",
       "      <td>NaN</td>\n",
       "      <td>50.0</td>\n",
       "      <td>Sand</td>\n",
       "      <td>API RP2 GEO Sand</td>\n",
       "      <td>API RP2 GEO Sand</td>\n",
       "      <td>Sand</td>\n",
       "      <td>Medium dense</td>\n",
       "    </tr>\n",
       "  </tbody>\n",
       "</table>\n",
       "<p>5 rows × 25 columns</p>\n",
       "</div>"
      ],
      "text/plain": [
       "   Depth from [m]  Depth to [m]  z [m]  dz [m]  Total unit weight [kN/m3]  \\\n",
       "0             0.0           1.0    0.5     1.0                       20.0   \n",
       "1             1.0           2.0    1.5     1.0                       20.0   \n",
       "2             2.0           3.0    2.5     1.0                       20.0   \n",
       "3             3.0           4.0    3.5     1.0                       20.0   \n",
       "4             4.0           5.0    4.5     1.0                       20.0   \n",
       "\n",
       "   Water unit weight [kN/m3]  Effective unit weight [kN/m3]  \\\n",
       "0                       10.0                           10.0   \n",
       "1                       10.0                           10.0   \n",
       "2                       10.0                           10.0   \n",
       "3                       10.0                           10.0   \n",
       "4                       10.0                           10.0   \n",
       "\n",
       "   Hydrostatic pressure from [kPa]  Hydrostatic pressure to [kPa]  \\\n",
       "0                              0.0                           10.0   \n",
       "1                             10.0                           20.0   \n",
       "2                             20.0                           30.0   \n",
       "3                             30.0                           40.0   \n",
       "4                             40.0                           50.0   \n",
       "\n",
       "   Hydrostatic pressure [kPa]  ...  Vertical total stress [kPa]  \\\n",
       "0                         5.0  ...                         10.0   \n",
       "1                        15.0  ...                         30.0   \n",
       "2                        25.0  ...                         50.0   \n",
       "3                        35.0  ...                         70.0   \n",
       "4                        45.0  ...                         90.0   \n",
       "\n",
       "   Undrained shear strength from [kPa]  Undrained shear strength to [kPa]  \\\n",
       "0                                  NaN                                NaN   \n",
       "1                                  NaN                                NaN   \n",
       "2                                  NaN                                NaN   \n",
       "3                                  NaN                                NaN   \n",
       "4                                  NaN                                NaN   \n",
       "\n",
       "   Undrained shear strength [kPa]  Dr [pct]  Soil type  Unit skin friction  \\\n",
       "0                             NaN      50.0       Sand    API RP2 GEO Sand   \n",
       "1                             NaN      50.0       Sand    API RP2 GEO Sand   \n",
       "2                             NaN      50.0       Sand    API RP2 GEO Sand   \n",
       "3                             NaN      50.0       Sand    API RP2 GEO Sand   \n",
       "4                             NaN      50.0       Sand    API RP2 GEO Sand   \n",
       "\n",
       "   Unit end bearing  API soil description  API relative density description  \n",
       "0  API RP2 GEO Sand                  Sand                      Medium dense  \n",
       "1  API RP2 GEO Sand                  Sand                      Medium dense  \n",
       "2  API RP2 GEO Sand                  Sand                      Medium dense  \n",
       "3  API RP2 GEO Sand                  Sand                      Medium dense  \n",
       "4  API RP2 GEO Sand                  Sand                      Medium dense  \n",
       "\n",
       "[5 rows x 25 columns]"
      ]
     },
     "execution_count": 114,
     "metadata": {},
     "output_type": "execute_result"
    }
   ],
   "source": [
    "calc.grid.elements.head()"
   ]
  },
  {
   "cell_type": "markdown",
   "id": "4e7769e3",
   "metadata": {},
   "source": [
    "The parameters in the grid can be prepared for plotting by applying the ``soilparameter_series`` with the name of the parameter under consideration. The x- and z-values can be defined based on the parameter name."
   ]
  },
  {
   "cell_type": "code",
   "execution_count": 115,
   "id": "3d29f620",
   "metadata": {},
   "outputs": [],
   "source": [
    "su_z, su_x = calc.grid.soilparameter_series('Undrained shear strength [kPa]')\n",
    "Dr_z, Dr_x = calc.grid.soilparameter_series('Dr [pct]')\n",
    "sigmav_z, sigmav_x = calc.grid.soilparameter_series('Vertical effective stress [kPa]')"
   ]
  },
  {
   "cell_type": "code",
   "execution_count": 116,
   "id": "29f7e0f0",
   "metadata": {},
   "outputs": [
    {
     "data": {
      "application/vnd.plotly.v1+json": {
       "config": {
        "linkText": "Created by groundhog using Plotly!",
        "plotlyServerURL": "https://github.com/snakesonabrain/groundhog",
        "responsive": true,
        "showLink": true
       },
       "data": [
        {
         "line": {
          "color": "black"
         },
         "mode": "lines",
         "name": "Dummy",
         "showlegend": false,
         "type": "scatter",
         "x": [
          0,
          100
         ],
         "xaxis": "x2",
         "y": [
          null,
          null
         ],
         "yaxis": "y2"
        },
        {
         "line": {
          "color": "black"
         },
         "mode": "lines",
         "name": "Dummy",
         "showlegend": false,
         "type": "scatter",
         "x": [
          0,
          100
         ],
         "xaxis": "x3",
         "y": [
          null,
          null
         ],
         "yaxis": "y3"
        },
        {
         "mode": "lines",
         "name": "Su",
         "showlegend": false,
         "type": "scatter",
         "x": [
          null,
          null,
          null,
          null,
          null,
          null,
          null,
          null,
          null,
          null,
          null,
          null,
          null,
          null,
          null,
          null,
          null,
          null,
          null,
          null,
          150,
          151.66666666666666,
          151.66666666666666,
          153.33333333333334,
          153.33333333333334,
          155,
          155,
          156.66666666666666,
          156.66666666666666,
          158.33333333333334,
          158.33333333333334,
          160,
          160,
          161.66666666666666,
          161.66666666666666,
          163.33333333333334,
          163.33333333333334,
          165,
          165,
          166.66666666666666,
          166.66666666666666,
          168.33333333333334,
          168.33333333333334,
          170,
          170,
          171.66666666666666,
          171.66666666666666,
          173.33333333333334,
          173.33333333333334,
          175,
          175,
          176.66666666666666,
          176.66666666666666,
          178.33333333333334,
          178.33333333333334,
          180,
          180,
          181.66666666666666,
          181.66666666666666,
          183.33333333333334,
          183.33333333333334,
          185,
          185,
          186.66666666666669,
          186.66666666666669,
          188.33333333333334,
          188.33333333333334,
          190,
          190,
          191.66666666666669,
          191.66666666666669,
          193.33333333333334,
          193.33333333333334,
          195,
          195,
          196.66666666666669,
          196.66666666666669,
          198.33333333333334,
          198.33333333333334,
          200
         ],
         "xaxis": "x2",
         "y": [
          0,
          1,
          1,
          2,
          2,
          3,
          3,
          4,
          4,
          5,
          5,
          6,
          6,
          7,
          7,
          8,
          8,
          9,
          9,
          10,
          10,
          11,
          11,
          12,
          12,
          13,
          13,
          14,
          14,
          15,
          15,
          16,
          16,
          17,
          17,
          18,
          18,
          19,
          19,
          20,
          20,
          21,
          21,
          22,
          22,
          23,
          23,
          24,
          24,
          25,
          25,
          26,
          26,
          27,
          27,
          28,
          28,
          29,
          29,
          30,
          30,
          31,
          31,
          32,
          32,
          33,
          33,
          34,
          34,
          35,
          35,
          36,
          36,
          37,
          37,
          38,
          38,
          39,
          39,
          40
         ],
         "yaxis": "y2"
        },
        {
         "mode": "lines",
         "name": "With linear",
         "showlegend": true,
         "type": "scatter",
         "x": [
          0,
          10,
          10,
          20,
          20,
          30,
          30,
          40,
          40,
          50,
          50,
          60,
          60,
          70,
          70,
          80,
          80,
          90,
          90,
          100,
          100,
          108,
          108,
          116,
          116,
          124,
          124,
          132,
          132,
          140,
          140,
          148,
          148,
          156,
          156,
          164,
          164,
          172,
          172,
          180,
          180,
          188,
          188,
          196,
          196,
          204,
          204,
          212,
          212,
          220,
          220,
          228,
          228,
          236,
          236,
          244,
          244,
          252,
          252,
          260,
          260,
          268,
          268,
          276,
          276,
          284,
          284,
          292,
          292,
          300,
          300,
          308,
          308,
          316,
          316,
          324,
          324,
          332,
          332,
          340
         ],
         "xaxis": "x3",
         "y": [
          0,
          1,
          1,
          2,
          2,
          3,
          3,
          4,
          4,
          5,
          5,
          6,
          6,
          7,
          7,
          8,
          8,
          9,
          9,
          10,
          10,
          11,
          11,
          12,
          12,
          13,
          13,
          14,
          14,
          15,
          15,
          16,
          16,
          17,
          17,
          18,
          18,
          19,
          19,
          20,
          20,
          21,
          21,
          22,
          22,
          23,
          23,
          24,
          24,
          25,
          25,
          26,
          26,
          27,
          27,
          28,
          28,
          29,
          29,
          30,
          30,
          31,
          31,
          32,
          32,
          33,
          33,
          34,
          34,
          35,
          35,
          36,
          36,
          37,
          37,
          38,
          38,
          39,
          39,
          40
         ],
         "yaxis": "y3"
        }
       ],
       "layout": {
        "autosize": true,
        "shapes": [
         {
          "fillcolor": "rgb(31, 119, 180)",
          "line": {
           "width": 1
          },
          "opacity": 1,
          "type": "rect",
          "x0": 0,
          "x1": 1,
          "xref": "x",
          "y0": 0,
          "y1": 10,
          "yref": "y"
         },
         {
          "fillcolor": "rgb(255, 127, 14)",
          "line": {
           "width": 1
          },
          "opacity": 1,
          "type": "rect",
          "x0": 0,
          "x1": 1,
          "xref": "x",
          "y0": 10,
          "y1": 40,
          "yref": "y"
         }
        ],
        "template": {
         "data": {
          "bar": [
           {
            "error_x": {
             "color": "#2a3f5f"
            },
            "error_y": {
             "color": "#2a3f5f"
            },
            "marker": {
             "line": {
              "color": "white",
              "width": 0.5
             },
             "pattern": {
              "fillmode": "overlay",
              "size": 10,
              "solidity": 0.2
             }
            },
            "type": "bar"
           }
          ],
          "barpolar": [
           {
            "marker": {
             "line": {
              "color": "white",
              "width": 0.5
             },
             "pattern": {
              "fillmode": "overlay",
              "size": 10,
              "solidity": 0.2
             }
            },
            "type": "barpolar"
           }
          ],
          "carpet": [
           {
            "aaxis": {
             "endlinecolor": "#2a3f5f",
             "gridcolor": "#C8D4E3",
             "linecolor": "#C8D4E3",
             "minorgridcolor": "#C8D4E3",
             "startlinecolor": "#2a3f5f"
            },
            "baxis": {
             "endlinecolor": "#2a3f5f",
             "gridcolor": "#C8D4E3",
             "linecolor": "#C8D4E3",
             "minorgridcolor": "#C8D4E3",
             "startlinecolor": "#2a3f5f"
            },
            "type": "carpet"
           }
          ],
          "choropleth": [
           {
            "colorbar": {
             "outlinewidth": 0,
             "ticks": ""
            },
            "type": "choropleth"
           }
          ],
          "contour": [
           {
            "colorbar": {
             "outlinewidth": 0,
             "ticks": ""
            },
            "colorscale": [
             [
              0,
              "#0d0887"
             ],
             [
              0.1111111111111111,
              "#46039f"
             ],
             [
              0.2222222222222222,
              "#7201a8"
             ],
             [
              0.3333333333333333,
              "#9c179e"
             ],
             [
              0.4444444444444444,
              "#bd3786"
             ],
             [
              0.5555555555555556,
              "#d8576b"
             ],
             [
              0.6666666666666666,
              "#ed7953"
             ],
             [
              0.7777777777777778,
              "#fb9f3a"
             ],
             [
              0.8888888888888888,
              "#fdca26"
             ],
             [
              1,
              "#f0f921"
             ]
            ],
            "type": "contour"
           }
          ],
          "contourcarpet": [
           {
            "colorbar": {
             "outlinewidth": 0,
             "ticks": ""
            },
            "type": "contourcarpet"
           }
          ],
          "heatmap": [
           {
            "colorbar": {
             "outlinewidth": 0,
             "ticks": ""
            },
            "colorscale": [
             [
              0,
              "#0d0887"
             ],
             [
              0.1111111111111111,
              "#46039f"
             ],
             [
              0.2222222222222222,
              "#7201a8"
             ],
             [
              0.3333333333333333,
              "#9c179e"
             ],
             [
              0.4444444444444444,
              "#bd3786"
             ],
             [
              0.5555555555555556,
              "#d8576b"
             ],
             [
              0.6666666666666666,
              "#ed7953"
             ],
             [
              0.7777777777777778,
              "#fb9f3a"
             ],
             [
              0.8888888888888888,
              "#fdca26"
             ],
             [
              1,
              "#f0f921"
             ]
            ],
            "type": "heatmap"
           }
          ],
          "heatmapgl": [
           {
            "colorbar": {
             "outlinewidth": 0,
             "ticks": ""
            },
            "colorscale": [
             [
              0,
              "#0d0887"
             ],
             [
              0.1111111111111111,
              "#46039f"
             ],
             [
              0.2222222222222222,
              "#7201a8"
             ],
             [
              0.3333333333333333,
              "#9c179e"
             ],
             [
              0.4444444444444444,
              "#bd3786"
             ],
             [
              0.5555555555555556,
              "#d8576b"
             ],
             [
              0.6666666666666666,
              "#ed7953"
             ],
             [
              0.7777777777777778,
              "#fb9f3a"
             ],
             [
              0.8888888888888888,
              "#fdca26"
             ],
             [
              1,
              "#f0f921"
             ]
            ],
            "type": "heatmapgl"
           }
          ],
          "histogram": [
           {
            "marker": {
             "pattern": {
              "fillmode": "overlay",
              "size": 10,
              "solidity": 0.2
             }
            },
            "type": "histogram"
           }
          ],
          "histogram2d": [
           {
            "colorbar": {
             "outlinewidth": 0,
             "ticks": ""
            },
            "colorscale": [
             [
              0,
              "#0d0887"
             ],
             [
              0.1111111111111111,
              "#46039f"
             ],
             [
              0.2222222222222222,
              "#7201a8"
             ],
             [
              0.3333333333333333,
              "#9c179e"
             ],
             [
              0.4444444444444444,
              "#bd3786"
             ],
             [
              0.5555555555555556,
              "#d8576b"
             ],
             [
              0.6666666666666666,
              "#ed7953"
             ],
             [
              0.7777777777777778,
              "#fb9f3a"
             ],
             [
              0.8888888888888888,
              "#fdca26"
             ],
             [
              1,
              "#f0f921"
             ]
            ],
            "type": "histogram2d"
           }
          ],
          "histogram2dcontour": [
           {
            "colorbar": {
             "outlinewidth": 0,
             "ticks": ""
            },
            "colorscale": [
             [
              0,
              "#0d0887"
             ],
             [
              0.1111111111111111,
              "#46039f"
             ],
             [
              0.2222222222222222,
              "#7201a8"
             ],
             [
              0.3333333333333333,
              "#9c179e"
             ],
             [
              0.4444444444444444,
              "#bd3786"
             ],
             [
              0.5555555555555556,
              "#d8576b"
             ],
             [
              0.6666666666666666,
              "#ed7953"
             ],
             [
              0.7777777777777778,
              "#fb9f3a"
             ],
             [
              0.8888888888888888,
              "#fdca26"
             ],
             [
              1,
              "#f0f921"
             ]
            ],
            "type": "histogram2dcontour"
           }
          ],
          "mesh3d": [
           {
            "colorbar": {
             "outlinewidth": 0,
             "ticks": ""
            },
            "type": "mesh3d"
           }
          ],
          "parcoords": [
           {
            "line": {
             "colorbar": {
              "outlinewidth": 0,
              "ticks": ""
             }
            },
            "type": "parcoords"
           }
          ],
          "pie": [
           {
            "automargin": true,
            "type": "pie"
           }
          ],
          "scatter": [
           {
            "fillpattern": {
             "fillmode": "overlay",
             "size": 10,
             "solidity": 0.2
            },
            "type": "scatter"
           }
          ],
          "scatter3d": [
           {
            "line": {
             "colorbar": {
              "outlinewidth": 0,
              "ticks": ""
             }
            },
            "marker": {
             "colorbar": {
              "outlinewidth": 0,
              "ticks": ""
             }
            },
            "type": "scatter3d"
           }
          ],
          "scattercarpet": [
           {
            "marker": {
             "colorbar": {
              "outlinewidth": 0,
              "ticks": ""
             }
            },
            "type": "scattercarpet"
           }
          ],
          "scattergeo": [
           {
            "marker": {
             "colorbar": {
              "outlinewidth": 0,
              "ticks": ""
             }
            },
            "type": "scattergeo"
           }
          ],
          "scattergl": [
           {
            "marker": {
             "colorbar": {
              "outlinewidth": 0,
              "ticks": ""
             }
            },
            "type": "scattergl"
           }
          ],
          "scattermapbox": [
           {
            "marker": {
             "colorbar": {
              "outlinewidth": 0,
              "ticks": ""
             }
            },
            "type": "scattermapbox"
           }
          ],
          "scatterpolar": [
           {
            "marker": {
             "colorbar": {
              "outlinewidth": 0,
              "ticks": ""
             }
            },
            "type": "scatterpolar"
           }
          ],
          "scatterpolargl": [
           {
            "marker": {
             "colorbar": {
              "outlinewidth": 0,
              "ticks": ""
             }
            },
            "type": "scatterpolargl"
           }
          ],
          "scatterternary": [
           {
            "marker": {
             "colorbar": {
              "outlinewidth": 0,
              "ticks": ""
             }
            },
            "type": "scatterternary"
           }
          ],
          "surface": [
           {
            "colorbar": {
             "outlinewidth": 0,
             "ticks": ""
            },
            "colorscale": [
             [
              0,
              "#0d0887"
             ],
             [
              0.1111111111111111,
              "#46039f"
             ],
             [
              0.2222222222222222,
              "#7201a8"
             ],
             [
              0.3333333333333333,
              "#9c179e"
             ],
             [
              0.4444444444444444,
              "#bd3786"
             ],
             [
              0.5555555555555556,
              "#d8576b"
             ],
             [
              0.6666666666666666,
              "#ed7953"
             ],
             [
              0.7777777777777778,
              "#fb9f3a"
             ],
             [
              0.8888888888888888,
              "#fdca26"
             ],
             [
              1,
              "#f0f921"
             ]
            ],
            "type": "surface"
           }
          ],
          "table": [
           {
            "cells": {
             "fill": {
              "color": "#EBF0F8"
             },
             "line": {
              "color": "white"
             }
            },
            "header": {
             "fill": {
              "color": "#C8D4E3"
             },
             "line": {
              "color": "white"
             }
            },
            "type": "table"
           }
          ]
         },
         "layout": {
          "annotationdefaults": {
           "arrowcolor": "#2a3f5f",
           "arrowhead": 0,
           "arrowwidth": 1
          },
          "autotypenumbers": "strict",
          "coloraxis": {
           "colorbar": {
            "outlinewidth": 0,
            "ticks": ""
           }
          },
          "colorscale": {
           "diverging": [
            [
             0,
             "#8e0152"
            ],
            [
             0.1,
             "#c51b7d"
            ],
            [
             0.2,
             "#de77ae"
            ],
            [
             0.3,
             "#f1b6da"
            ],
            [
             0.4,
             "#fde0ef"
            ],
            [
             0.5,
             "#f7f7f7"
            ],
            [
             0.6,
             "#e6f5d0"
            ],
            [
             0.7,
             "#b8e186"
            ],
            [
             0.8,
             "#7fbc41"
            ],
            [
             0.9,
             "#4d9221"
            ],
            [
             1,
             "#276419"
            ]
           ],
           "sequential": [
            [
             0,
             "#0d0887"
            ],
            [
             0.1111111111111111,
             "#46039f"
            ],
            [
             0.2222222222222222,
             "#7201a8"
            ],
            [
             0.3333333333333333,
             "#9c179e"
            ],
            [
             0.4444444444444444,
             "#bd3786"
            ],
            [
             0.5555555555555556,
             "#d8576b"
            ],
            [
             0.6666666666666666,
             "#ed7953"
            ],
            [
             0.7777777777777778,
             "#fb9f3a"
            ],
            [
             0.8888888888888888,
             "#fdca26"
            ],
            [
             1,
             "#f0f921"
            ]
           ],
           "sequentialminus": [
            [
             0,
             "#0d0887"
            ],
            [
             0.1111111111111111,
             "#46039f"
            ],
            [
             0.2222222222222222,
             "#7201a8"
            ],
            [
             0.3333333333333333,
             "#9c179e"
            ],
            [
             0.4444444444444444,
             "#bd3786"
            ],
            [
             0.5555555555555556,
             "#d8576b"
            ],
            [
             0.6666666666666666,
             "#ed7953"
            ],
            [
             0.7777777777777778,
             "#fb9f3a"
            ],
            [
             0.8888888888888888,
             "#fdca26"
            ],
            [
             1,
             "#f0f921"
            ]
           ]
          },
          "colorway": [
           "#636efa",
           "#EF553B",
           "#00cc96",
           "#ab63fa",
           "#FFA15A",
           "#19d3f3",
           "#FF6692",
           "#B6E880",
           "#FF97FF",
           "#FECB52"
          ],
          "font": {
           "color": "#2a3f5f"
          },
          "geo": {
           "bgcolor": "white",
           "lakecolor": "white",
           "landcolor": "white",
           "showlakes": true,
           "showland": true,
           "subunitcolor": "#C8D4E3"
          },
          "hoverlabel": {
           "align": "left"
          },
          "hovermode": "closest",
          "mapbox": {
           "style": "light"
          },
          "paper_bgcolor": "white",
          "plot_bgcolor": "white",
          "polar": {
           "angularaxis": {
            "gridcolor": "#EBF0F8",
            "linecolor": "#EBF0F8",
            "ticks": ""
           },
           "bgcolor": "white",
           "radialaxis": {
            "gridcolor": "#EBF0F8",
            "linecolor": "#EBF0F8",
            "ticks": ""
           }
          },
          "scene": {
           "xaxis": {
            "backgroundcolor": "white",
            "gridcolor": "#DFE8F3",
            "gridwidth": 2,
            "linecolor": "#EBF0F8",
            "showbackground": true,
            "ticks": "",
            "zerolinecolor": "#EBF0F8"
           },
           "yaxis": {
            "backgroundcolor": "white",
            "gridcolor": "#DFE8F3",
            "gridwidth": 2,
            "linecolor": "#EBF0F8",
            "showbackground": true,
            "ticks": "",
            "zerolinecolor": "#EBF0F8"
           },
           "zaxis": {
            "backgroundcolor": "white",
            "gridcolor": "#DFE8F3",
            "gridwidth": 2,
            "linecolor": "#EBF0F8",
            "showbackground": true,
            "ticks": "",
            "zerolinecolor": "#EBF0F8"
           }
          },
          "shapedefaults": {
           "line": {
            "color": "#2a3f5f"
           }
          },
          "ternary": {
           "aaxis": {
            "gridcolor": "#DFE8F3",
            "linecolor": "#A2B1C6",
            "ticks": ""
           },
           "baxis": {
            "gridcolor": "#DFE8F3",
            "linecolor": "#A2B1C6",
            "ticks": ""
           },
           "bgcolor": "white",
           "caxis": {
            "gridcolor": "#DFE8F3",
            "linecolor": "#A2B1C6",
            "ticks": ""
           }
          },
          "title": {
           "x": 0.05
          },
          "xaxis": {
           "automargin": true,
           "gridcolor": "#EBF0F8",
           "linecolor": "#EBF0F8",
           "ticks": "",
           "title": {
            "standoff": 15
           },
           "zerolinecolor": "#EBF0F8",
           "zerolinewidth": 2
          },
          "yaxis": {
           "automargin": true,
           "gridcolor": "#EBF0F8",
           "linecolor": "#EBF0F8",
           "ticks": "",
           "title": {
            "standoff": 15
           },
           "zerolinecolor": "#EBF0F8",
           "zerolinewidth": 2
          }
         }
        },
        "xaxis": {
         "anchor": "y",
         "domain": [
          0,
          0.043333333333333335
         ],
         "range": [
          0,
          1
         ],
         "side": "top",
         "tickvals": [],
         "title": {}
        },
        "xaxis2": {
         "anchor": "y",
         "domain": [
          0.11,
          0.5216666666666667
         ],
         "range": [
          0,
          400
         ],
         "side": "top",
         "title": {
          "text": "$ S_u \\ \\text{[kPa]} $"
         },
         "type": "linear"
        },
        "xaxis3": {
         "anchor": "y",
         "domain": [
          0.5883333333333334,
          1
         ],
         "range": [
          0,
          340
         ],
         "side": "top",
         "title": {
          "text": "$ \\sigma_{vo}^{\\prime} \\ \\text{[kPa]} $"
         },
         "type": "linear"
        },
        "yaxis": {
         "anchor": "x",
         "domain": [
          0,
          1
         ],
         "range": [
          40,
          0
         ],
         "title": {
          "text": "$ z \\ \\text{[m]}$"
         }
        },
        "yaxis2": {
         "anchor": "x2",
         "domain": [
          0,
          1
         ],
         "matches": "y",
         "showticklabels": false
        },
        "yaxis3": {
         "anchor": "x3",
         "domain": [
          0,
          1
         ],
         "matches": "y",
         "showticklabels": false
        }
       }
      },
      "image/png": "[encoded data removed]",
      "text/html": [
       "<div>                            <div id=\"c5eb543e-bf71-4e27-a468-a13b27e416ad\" class=\"plotly-graph-div\" style=\"height:525px; width:100%;\"></div>            <script type=\"text/javascript\">                require([\"plotly\"], function(Plotly) {                    window.PLOTLYENV=window.PLOTLYENV || {};\n",
       "                    window.PLOTLYENV.BASE_URL='https://github.com/snakesonabrain/groundhog';                                    if (document.getElementById(\"c5eb543e-bf71-4e27-a468-a13b27e416ad\")) {                    Plotly.newPlot(                        \"c5eb543e-bf71-4e27-a468-a13b27e416ad\",                        [{\"line\":{\"color\":\"black\"},\"mode\":\"lines\",\"name\":\"Dummy\",\"showlegend\":false,\"x\":[0,100],\"y\":[null,null],\"type\":\"scatter\",\"xaxis\":\"x2\",\"yaxis\":\"y2\"},{\"line\":{\"color\":\"black\"},\"mode\":\"lines\",\"name\":\"Dummy\",\"showlegend\":false,\"x\":[0,100],\"y\":[null,null],\"type\":\"scatter\",\"xaxis\":\"x3\",\"yaxis\":\"y3\"},{\"mode\":\"lines\",\"name\":\"Su\",\"showlegend\":false,\"x\":[null,null,null,null,null,null,null,null,null,null,null,null,null,null,null,null,null,null,null,null,150.0,151.66666666666666,151.66666666666666,153.33333333333334,153.33333333333334,155.0,155.0,156.66666666666666,156.66666666666666,158.33333333333334,158.33333333333334,160.0,160.0,161.66666666666666,161.66666666666666,163.33333333333334,163.33333333333334,165.0,165.0,166.66666666666666,166.66666666666666,168.33333333333334,168.33333333333334,170.0,170.0,171.66666666666666,171.66666666666666,173.33333333333334,173.33333333333334,175.0,175.0,176.66666666666666,176.66666666666666,178.33333333333334,178.33333333333334,180.0,180.0,181.66666666666666,181.66666666666666,183.33333333333334,183.33333333333334,185.0,185.0,186.66666666666669,186.66666666666669,188.33333333333334,188.33333333333334,190.0,190.0,191.66666666666669,191.66666666666669,193.33333333333334,193.33333333333334,195.0,195.0,196.66666666666669,196.66666666666669,198.33333333333334,198.33333333333334,200.0],\"y\":[0.0,1.0,1.0,2.0,2.0,3.0,3.0,4.0,4.0,5.0,5.0,6.0,6.0,7.0,7.0,8.0,8.0,9.0,9.0,10.0,10.0,11.0,11.0,12.0,12.0,13.0,13.0,14.0,14.0,15.0,15.0,16.0,16.0,17.0,17.0,18.0,18.0,19.0,19.0,20.0,20.0,21.0,21.0,22.0,22.0,23.0,23.0,24.0,24.0,25.0,25.0,26.0,26.0,27.0,27.0,28.0,28.0,29.0,29.0,30.0,30.0,31.0,31.0,32.0,32.0,33.0,33.0,34.0,34.0,35.0,35.0,36.0,36.0,37.0,37.0,38.0,38.0,39.0,39.0,40.0],\"type\":\"scatter\",\"xaxis\":\"x2\",\"yaxis\":\"y2\"},{\"mode\":\"lines\",\"name\":\"With linear\",\"showlegend\":true,\"x\":[0.0,10.0,10.0,20.0,20.0,30.0,30.0,40.0,40.0,50.0,50.0,60.0,60.0,70.0,70.0,80.0,80.0,90.0,90.0,100.0,100.0,108.0,108.0,116.0,116.0,124.0,124.0,132.0,132.0,140.0,140.0,148.0,148.0,156.0,156.0,164.0,164.0,172.0,172.0,180.0,180.0,188.0,188.0,196.0,196.0,204.0,204.0,212.0,212.0,220.0,220.0,228.0,228.0,236.0,236.0,244.0,244.0,252.0,252.0,260.0,260.0,268.0,268.0,276.0,276.0,284.0,284.0,292.0,292.0,300.0,300.0,308.0,308.0,316.0,316.0,324.0,324.0,332.0,332.0,340.0],\"y\":[0.0,1.0,1.0,2.0,2.0,3.0,3.0,4.0,4.0,5.0,5.0,6.0,6.0,7.0,7.0,8.0,8.0,9.0,9.0,10.0,10.0,11.0,11.0,12.0,12.0,13.0,13.0,14.0,14.0,15.0,15.0,16.0,16.0,17.0,17.0,18.0,18.0,19.0,19.0,20.0,20.0,21.0,21.0,22.0,22.0,23.0,23.0,24.0,24.0,25.0,25.0,26.0,26.0,27.0,27.0,28.0,28.0,29.0,29.0,30.0,30.0,31.0,31.0,32.0,32.0,33.0,33.0,34.0,34.0,35.0,35.0,36.0,36.0,37.0,37.0,38.0,38.0,39.0,39.0,40.0],\"type\":\"scatter\",\"xaxis\":\"x3\",\"yaxis\":\"y3\"}],                        {\"template\":{\"data\":{\"histogram2dcontour\":[{\"type\":\"histogram2dcontour\",\"colorbar\":{\"outlinewidth\":0,\"ticks\":\"\"},\"colorscale\":[[0.0,\"#0d0887\"],[0.1111111111111111,\"#46039f\"],[0.2222222222222222,\"#7201a8\"],[0.3333333333333333,\"#9c179e\"],[0.4444444444444444,\"#bd3786\"],[0.5555555555555556,\"#d8576b\"],[0.6666666666666666,\"#ed7953\"],[0.7777777777777778,\"#fb9f3a\"],[0.8888888888888888,\"#fdca26\"],[1.0,\"#f0f921\"]]}],\"choropleth\":[{\"type\":\"choropleth\",\"colorbar\":{\"outlinewidth\":0,\"ticks\":\"\"}}],\"histogram2d\":[{\"type\":\"histogram2d\",\"colorbar\":{\"outlinewidth\":0,\"ticks\":\"\"},\"colorscale\":[[0.0,\"#0d0887\"],[0.1111111111111111,\"#46039f\"],[0.2222222222222222,\"#7201a8\"],[0.3333333333333333,\"#9c179e\"],[0.4444444444444444,\"#bd3786\"],[0.5555555555555556,\"#d8576b\"],[0.6666666666666666,\"#ed7953\"],[0.7777777777777778,\"#fb9f3a\"],[0.8888888888888888,\"#fdca26\"],[1.0,\"#f0f921\"]]}],\"heatmap\":[{\"type\":\"heatmap\",\"colorbar\":{\"outlinewidth\":0,\"ticks\":\"\"},\"colorscale\":[[0.0,\"#0d0887\"],[0.1111111111111111,\"#46039f\"],[0.2222222222222222,\"#7201a8\"],[0.3333333333333333,\"#9c179e\"],[0.4444444444444444,\"#bd3786\"],[0.5555555555555556,\"#d8576b\"],[0.6666666666666666,\"#ed7953\"],[0.7777777777777778,\"#fb9f3a\"],[0.8888888888888888,\"#fdca26\"],[1.0,\"#f0f921\"]]}],\"heatmapgl\":[{\"type\":\"heatmapgl\",\"colorbar\":{\"outlinewidth\":0,\"ticks\":\"\"},\"colorscale\":[[0.0,\"#0d0887\"],[0.1111111111111111,\"#46039f\"],[0.2222222222222222,\"#7201a8\"],[0.3333333333333333,\"#9c179e\"],[0.4444444444444444,\"#bd3786\"],[0.5555555555555556,\"#d8576b\"],[0.6666666666666666,\"#ed7953\"],[0.7777777777777778,\"#fb9f3a\"],[0.8888888888888888,\"#fdca26\"],[1.0,\"#f0f921\"]]}],\"contourcarpet\":[{\"type\":\"contourcarpet\",\"colorbar\":{\"outlinewidth\":0,\"ticks\":\"\"}}],\"contour\":[{\"type\":\"contour\",\"colorbar\":{\"outlinewidth\":0,\"ticks\":\"\"},\"colorscale\":[[0.0,\"#0d0887\"],[0.1111111111111111,\"#46039f\"],[0.2222222222222222,\"#7201a8\"],[0.3333333333333333,\"#9c179e\"],[0.4444444444444444,\"#bd3786\"],[0.5555555555555556,\"#d8576b\"],[0.6666666666666666,\"#ed7953\"],[0.7777777777777778,\"#fb9f3a\"],[0.8888888888888888,\"#fdca26\"],[1.0,\"#f0f921\"]]}],\"surface\":[{\"type\":\"surface\",\"colorbar\":{\"outlinewidth\":0,\"ticks\":\"\"},\"colorscale\":[[0.0,\"#0d0887\"],[0.1111111111111111,\"#46039f\"],[0.2222222222222222,\"#7201a8\"],[0.3333333333333333,\"#9c179e\"],[0.4444444444444444,\"#bd3786\"],[0.5555555555555556,\"#d8576b\"],[0.6666666666666666,\"#ed7953\"],[0.7777777777777778,\"#fb9f3a\"],[0.8888888888888888,\"#fdca26\"],[1.0,\"#f0f921\"]]}],\"mesh3d\":[{\"type\":\"mesh3d\",\"colorbar\":{\"outlinewidth\":0,\"ticks\":\"\"}}],\"scatter\":[{\"fillpattern\":{\"fillmode\":\"overlay\",\"size\":10,\"solidity\":0.2},\"type\":\"scatter\"}],\"parcoords\":[{\"type\":\"parcoords\",\"line\":{\"colorbar\":{\"outlinewidth\":0,\"ticks\":\"\"}}}],\"scatterpolargl\":[{\"type\":\"scatterpolargl\",\"marker\":{\"colorbar\":{\"outlinewidth\":0,\"ticks\":\"\"}}}],\"bar\":[{\"error_x\":{\"color\":\"#2a3f5f\"},\"error_y\":{\"color\":\"#2a3f5f\"},\"marker\":{\"line\":{\"color\":\"white\",\"width\":0.5},\"pattern\":{\"fillmode\":\"overlay\",\"size\":10,\"solidity\":0.2}},\"type\":\"bar\"}],\"scattergeo\":[{\"type\":\"scattergeo\",\"marker\":{\"colorbar\":{\"outlinewidth\":0,\"ticks\":\"\"}}}],\"scatterpolar\":[{\"type\":\"scatterpolar\",\"marker\":{\"colorbar\":{\"outlinewidth\":0,\"ticks\":\"\"}}}],\"histogram\":[{\"marker\":{\"pattern\":{\"fillmode\":\"overlay\",\"size\":10,\"solidity\":0.2}},\"type\":\"histogram\"}],\"scattergl\":[{\"type\":\"scattergl\",\"marker\":{\"colorbar\":{\"outlinewidth\":0,\"ticks\":\"\"}}}],\"scatter3d\":[{\"type\":\"scatter3d\",\"line\":{\"colorbar\":{\"outlinewidth\":0,\"ticks\":\"\"}},\"marker\":{\"colorbar\":{\"outlinewidth\":0,\"ticks\":\"\"}}}],\"scattermapbox\":[{\"type\":\"scattermapbox\",\"marker\":{\"colorbar\":{\"outlinewidth\":0,\"ticks\":\"\"}}}],\"scatterternary\":[{\"type\":\"scatterternary\",\"marker\":{\"colorbar\":{\"outlinewidth\":0,\"ticks\":\"\"}}}],\"scattercarpet\":[{\"type\":\"scattercarpet\",\"marker\":{\"colorbar\":{\"outlinewidth\":0,\"ticks\":\"\"}}}],\"carpet\":[{\"aaxis\":{\"endlinecolor\":\"#2a3f5f\",\"gridcolor\":\"#C8D4E3\",\"linecolor\":\"#C8D4E3\",\"minorgridcolor\":\"#C8D4E3\",\"startlinecolor\":\"#2a3f5f\"},\"baxis\":{\"endlinecolor\":\"#2a3f5f\",\"gridcolor\":\"#C8D4E3\",\"linecolor\":\"#C8D4E3\",\"minorgridcolor\":\"#C8D4E3\",\"startlinecolor\":\"#2a3f5f\"},\"type\":\"carpet\"}],\"table\":[{\"cells\":{\"fill\":{\"color\":\"#EBF0F8\"},\"line\":{\"color\":\"white\"}},\"header\":{\"fill\":{\"color\":\"#C8D4E3\"},\"line\":{\"color\":\"white\"}},\"type\":\"table\"}],\"barpolar\":[{\"marker\":{\"line\":{\"color\":\"white\",\"width\":0.5},\"pattern\":{\"fillmode\":\"overlay\",\"size\":10,\"solidity\":0.2}},\"type\":\"barpolar\"}],\"pie\":[{\"automargin\":true,\"type\":\"pie\"}]},\"layout\":{\"autotypenumbers\":\"strict\",\"colorway\":[\"#636efa\",\"#EF553B\",\"#00cc96\",\"#ab63fa\",\"#FFA15A\",\"#19d3f3\",\"#FF6692\",\"#B6E880\",\"#FF97FF\",\"#FECB52\"],\"font\":{\"color\":\"#2a3f5f\"},\"hovermode\":\"closest\",\"hoverlabel\":{\"align\":\"left\"},\"paper_bgcolor\":\"white\",\"plot_bgcolor\":\"white\",\"polar\":{\"bgcolor\":\"white\",\"angularaxis\":{\"gridcolor\":\"#EBF0F8\",\"linecolor\":\"#EBF0F8\",\"ticks\":\"\"},\"radialaxis\":{\"gridcolor\":\"#EBF0F8\",\"linecolor\":\"#EBF0F8\",\"ticks\":\"\"}},\"ternary\":{\"bgcolor\":\"white\",\"aaxis\":{\"gridcolor\":\"#DFE8F3\",\"linecolor\":\"#A2B1C6\",\"ticks\":\"\"},\"baxis\":{\"gridcolor\":\"#DFE8F3\",\"linecolor\":\"#A2B1C6\",\"ticks\":\"\"},\"caxis\":{\"gridcolor\":\"#DFE8F3\",\"linecolor\":\"#A2B1C6\",\"ticks\":\"\"}},\"coloraxis\":{\"colorbar\":{\"outlinewidth\":0,\"ticks\":\"\"}},\"colorscale\":{\"sequential\":[[0.0,\"#0d0887\"],[0.1111111111111111,\"#46039f\"],[0.2222222222222222,\"#7201a8\"],[0.3333333333333333,\"#9c179e\"],[0.4444444444444444,\"#bd3786\"],[0.5555555555555556,\"#d8576b\"],[0.6666666666666666,\"#ed7953\"],[0.7777777777777778,\"#fb9f3a\"],[0.8888888888888888,\"#fdca26\"],[1.0,\"#f0f921\"]],\"sequentialminus\":[[0.0,\"#0d0887\"],[0.1111111111111111,\"#46039f\"],[0.2222222222222222,\"#7201a8\"],[0.3333333333333333,\"#9c179e\"],[0.4444444444444444,\"#bd3786\"],[0.5555555555555556,\"#d8576b\"],[0.6666666666666666,\"#ed7953\"],[0.7777777777777778,\"#fb9f3a\"],[0.8888888888888888,\"#fdca26\"],[1.0,\"#f0f921\"]],\"diverging\":[[0,\"#8e0152\"],[0.1,\"#c51b7d\"],[0.2,\"#de77ae\"],[0.3,\"#f1b6da\"],[0.4,\"#fde0ef\"],[0.5,\"#f7f7f7\"],[0.6,\"#e6f5d0\"],[0.7,\"#b8e186\"],[0.8,\"#7fbc41\"],[0.9,\"#4d9221\"],[1,\"#276419\"]]},\"xaxis\":{\"gridcolor\":\"#EBF0F8\",\"linecolor\":\"#EBF0F8\",\"ticks\":\"\",\"title\":{\"standoff\":15},\"zerolinecolor\":\"#EBF0F8\",\"automargin\":true,\"zerolinewidth\":2},\"yaxis\":{\"gridcolor\":\"#EBF0F8\",\"linecolor\":\"#EBF0F8\",\"ticks\":\"\",\"title\":{\"standoff\":15},\"zerolinecolor\":\"#EBF0F8\",\"automargin\":true,\"zerolinewidth\":2},\"scene\":{\"xaxis\":{\"backgroundcolor\":\"white\",\"gridcolor\":\"#DFE8F3\",\"linecolor\":\"#EBF0F8\",\"showbackground\":true,\"ticks\":\"\",\"zerolinecolor\":\"#EBF0F8\",\"gridwidth\":2},\"yaxis\":{\"backgroundcolor\":\"white\",\"gridcolor\":\"#DFE8F3\",\"linecolor\":\"#EBF0F8\",\"showbackground\":true,\"ticks\":\"\",\"zerolinecolor\":\"#EBF0F8\",\"gridwidth\":2},\"zaxis\":{\"backgroundcolor\":\"white\",\"gridcolor\":\"#DFE8F3\",\"linecolor\":\"#EBF0F8\",\"showbackground\":true,\"ticks\":\"\",\"zerolinecolor\":\"#EBF0F8\",\"gridwidth\":2}},\"shapedefaults\":{\"line\":{\"color\":\"#2a3f5f\"}},\"annotationdefaults\":{\"arrowcolor\":\"#2a3f5f\",\"arrowhead\":0,\"arrowwidth\":1},\"geo\":{\"bgcolor\":\"white\",\"landcolor\":\"white\",\"subunitcolor\":\"#C8D4E3\",\"showland\":true,\"showlakes\":true,\"lakecolor\":\"white\"},\"title\":{\"x\":0.05},\"mapbox\":{\"style\":\"light\"}}},\"xaxis\":{\"anchor\":\"y\",\"domain\":[0.0,0.043333333333333335],\"title\":{},\"side\":\"top\",\"tickvals\":[],\"range\":[0,1]},\"yaxis\":{\"anchor\":\"x\",\"domain\":[0.0,1.0],\"range\":[40,0],\"title\":{\"text\":\"$ z \\\\ \\\\text{[m]}$\"}},\"xaxis2\":{\"anchor\":\"y\",\"domain\":[0.11,0.5216666666666667],\"title\":{\"text\":\"$ S_u \\\\ \\\\text{[kPa]} $\"},\"side\":\"top\",\"range\":[0,400]},\"yaxis2\":{\"anchor\":\"x2\",\"domain\":[0.0,1.0],\"matches\":\"y\",\"showticklabels\":false},\"xaxis3\":{\"anchor\":\"y\",\"domain\":[0.5883333333333334,1.0],\"title\":{\"text\":\"$ \\\\sigma_{vo}^{\\\\prime} \\\\ \\\\text{[kPa]} $\"},\"side\":\"top\",\"range\":[0,340.0]},\"yaxis3\":{\"anchor\":\"x3\",\"domain\":[0.0,1.0],\"matches\":\"y\",\"showticklabels\":false},\"shapes\":[{\"fillcolor\":\"rgb(31, 119, 180)\",\"opacity\":1,\"type\":\"rect\",\"x0\":0,\"x1\":1,\"xref\":\"x\",\"y0\":0,\"y1\":10,\"yref\":\"y\",\"line\":{\"width\":1}},{\"fillcolor\":\"rgb(255, 127, 14)\",\"opacity\":1,\"type\":\"rect\",\"x0\":0,\"x1\":1,\"xref\":\"x\",\"y0\":10,\"y1\":40,\"yref\":\"y\",\"line\":{\"width\":1}}]},                        {\"showLink\": true, \"plotlyServerURL\": \"https://github.com/snakesonabrain/groundhog\", \"linkText\": \"Created by groundhog using Plotly!\", \"responsive\": true}                    ).then(function(){\n",
       "                            \n",
       "var gd = document.getElementById('c5eb543e-bf71-4e27-a468-a13b27e416ad');\n",
       "var x = new MutationObserver(function (mutations, observer) {{\n",
       "        var display = window.getComputedStyle(gd).display;\n",
       "        if (!display || display === 'none') {{\n",
       "            console.log([gd, 'removed!']);\n",
       "            Plotly.purge(gd);\n",
       "            observer.disconnect();\n",
       "        }}\n",
       "}});\n",
       "\n",
       "// Listen for the removal of the full notebook cells\n",
       "var notebookContainer = gd.closest('#notebook-container');\n",
       "if (notebookContainer) {{\n",
       "    x.observe(notebookContainer, {childList: true});\n",
       "}}\n",
       "\n",
       "// Listen for the clearing of the current output cell\n",
       "var outputEl = gd.closest('.output');\n",
       "if (outputEl) {{\n",
       "    x.observe(outputEl, {childList: true});\n",
       "}}\n",
       "\n",
       "                        })                };                });            </script>        </div>"
      ]
     },
     "metadata": {},
     "output_type": "display_data"
    }
   ],
   "source": [
    "parameter_plot = LogPlot(calc.sp, no_panels=2, fillcolordict={'SAND': 'blanchedalmond', 'CLAY': 'wheat'})\n",
    "\n",
    "parameter_plot.add_trace(x=su_x, z=su_z, showlegend=False, mode='lines',name='Su', panel_no=1)\n",
    "parameter_plot.add_trace(x=sigmav_x, z=sigmav_z, showlegend=True, mode='lines',name='With linear', panel_no=2)\n",
    "\n",
    "parameter_plot.set_xaxis(title=r'$ \\sigma_{vo}^{\\prime} \\ \\text{[kPa]} $', panel_no=2, range=(0, sigmav_x.max()))\n",
    "parameter_plot.set_xaxis(title=r'$ S_u \\ \\text{[kPa]} $', panel_no=1, range=(0, 400))\n",
    "parameter_plot.set_zaxis(title=r'$ z \\ \\text{[m]}$')\n",
    "parameter_plot.show()"
   ]
  },
  {
   "cell_type": "markdown",
   "id": "549b94d4",
   "metadata": {},
   "source": [
    "## Calculation of unit skin friction and unit end bearing\n",
    "\n",
    "Unit skin friction and unit end bearing can be calculated by running the functions for the selected methods at each element.\n",
    "\n",
    "Note that the unit skin friction distribution may be depth-dependent, so at this stage, the pile penetration will need to be introduced.\n",
    "\n",
    "### Setting the pile penetration\n",
    "\n",
    "The pile penetration can be set with the ``set_pilepenetration`` method. In this example, a pile penetration of 18m is selected."
   ]
  },
  {
   "cell_type": "code",
   "execution_count": 117,
   "id": "b8432b63",
   "metadata": {},
   "outputs": [],
   "source": [
    "calc.set_pilepenetration(30)"
   ]
  },
  {
   "cell_type": "markdown",
   "id": "1d55c0d0",
   "metadata": {},
   "source": [
    "### Calculation of unit skin friction\n",
    "\n",
    "For the calculation of unit skin friction, the equation for the selected method is applied for each element."
   ]
  },
  {
   "cell_type": "code",
   "execution_count": 118,
   "id": "21003bed",
   "metadata": {},
   "outputs": [],
   "source": [
    "calc.calculate_unitskinfriction()"
   ]
  },
  {
   "cell_type": "markdown",
   "id": "6a42597b",
   "metadata": {},
   "source": [
    "### Calculation of unit end bearing\n",
    "\n",
    "Similarly, the unit end bearing can be calculated:"
   ]
  },
  {
   "cell_type": "code",
   "execution_count": 119,
   "id": "1bed3419",
   "metadata": {},
   "outputs": [],
   "source": [
    "calc.calculate_unitendbearing()"
   ]
  },
  {
   "cell_type": "markdown",
   "id": "bdfe66ed",
   "metadata": {},
   "source": [
    "### Unit skin friction and unit end bearing visualisation\n",
    "\n",
    "The unit skin friction and unit end bearing profile can be visualised with the ``groundhog`` ``LogPlot``."
   ]
  },
  {
   "cell_type": "code",
   "execution_count": 121,
   "id": "66a87954",
   "metadata": {},
   "outputs": [
    {
     "data": {
      "application/vnd.plotly.v1+json": {
       "config": {
        "linkText": "Created by groundhog using Plotly!",
        "plotlyServerURL": "https://github.com/snakesonabrain/groundhog",
        "responsive": true,
        "showLink": true
       },
       "data": [
        {
         "marker": {
          "color": "yellow"
         },
         "name": "Sand",
         "type": "bar",
         "x": [
          -10,
          -10
         ],
         "xaxis": "x",
         "y": [
          30,
          30
         ],
         "yaxis": "y"
        },
        {
         "marker": {
          "color": "brown"
         },
         "name": "Clay",
         "type": "bar",
         "x": [
          -10,
          -10
         ],
         "xaxis": "x",
         "y": [
          30,
          30
         ],
         "yaxis": "y"
        },
        {
         "line": {
          "color": "black"
         },
         "mode": "lines",
         "name": "Dummy",
         "showlegend": false,
         "type": "scatter",
         "x": [
          0,
          100
         ],
         "xaxis": "x2",
         "y": [
          null,
          null
         ],
         "yaxis": "y2"
        },
        {
         "line": {
          "color": "black"
         },
         "mode": "lines",
         "name": "Dummy",
         "showlegend": false,
         "type": "scatter",
         "x": [
          0,
          100
         ],
         "xaxis": "x3",
         "y": [
          null,
          null
         ],
         "yaxis": "y3"
        },
        {
         "mode": "lines",
         "name": "fs comp",
         "showlegend": false,
         "type": "scatter",
         "x": [
          1.85,
          1.85,
          5.55,
          5.55,
          9.25,
          9.25,
          12.95,
          12.95,
          16.65,
          16.65,
          20.35,
          20.35,
          24.05,
          24.05,
          27.75,
          27.75,
          31.45,
          31.45,
          35.15,
          35.15,
          68.72287753179903,
          68.72287753179903,
          70.5873524229014,
          70.5873524229014,
          72.40326943751771,
          72.40326943751771,
          74.17674419285966,
          74.17674419285966,
          75.91282440134768,
          75.91282440134768,
          77.61572495039404,
          77.61572495039404,
          79.28900146374886,
          79.28900146374886,
          80.93568076252014,
          80.93568076252014,
          83.03613671167511,
          83.03613671167511,
          85.42052836799049,
          85.42052836799049,
          87.77812939451375,
          87.77812939451375,
          90.11104260855046,
          90.11104260855046,
          92.42113755341181,
          92.42113755341181,
          94.71008394041259,
          94.71008394041259,
          96.97937925146769,
          96.97937925146769,
          99.23037169469168,
          99.23037169469168,
          101.46427942877237,
          101.46427942877237,
          103.68220676663859,
          103.68220676663859,
          105.88515791491584,
          105.88515791491584,
          108.07404868885037,
          108.07404868885037
         ],
         "xaxis": "x2",
         "y": [
          0,
          1,
          1,
          2,
          2,
          3,
          3,
          4,
          4,
          5,
          5,
          6,
          6,
          7,
          7,
          8,
          8,
          9,
          9,
          10,
          10,
          11,
          11,
          12,
          12,
          13,
          13,
          14,
          14,
          15,
          15,
          16,
          16,
          17,
          17,
          18,
          18,
          19,
          19,
          20,
          20,
          21,
          21,
          22,
          22,
          23,
          23,
          24,
          24,
          25,
          25,
          26,
          26,
          27,
          27,
          28,
          28,
          29,
          29,
          30
         ],
         "yaxis": "y2"
        },
        {
         "mode": "lines",
         "name": "qb",
         "showlegend": false,
         "type": "scatter",
         "x": [
          100,
          100,
          300,
          300,
          500,
          500,
          700,
          700,
          900,
          900,
          1100,
          1100,
          1300,
          1300,
          1500,
          1500,
          1700,
          1700,
          1900,
          1900,
          1357.5,
          1357.5,
          1372.5,
          1372.5,
          1387.5,
          1387.5,
          1402.5,
          1402.5,
          1417.5,
          1417.5,
          1432.5,
          1432.5,
          1447.5,
          1447.5,
          1462.5,
          1462.5,
          1477.5,
          1477.5,
          1492.5,
          1492.5,
          1507.5,
          1507.5,
          1522.5,
          1522.5,
          1537.5,
          1537.5,
          1552.5,
          1552.5,
          1567.5,
          1567.5,
          1582.5,
          1582.5,
          1597.5,
          1597.5,
          1612.5,
          1612.5,
          1627.5,
          1627.5,
          1642.5,
          1642.5
         ],
         "xaxis": "x3",
         "y": [
          0,
          1,
          1,
          2,
          2,
          3,
          3,
          4,
          4,
          5,
          5,
          6,
          6,
          7,
          7,
          8,
          8,
          9,
          9,
          10,
          10,
          11,
          11,
          12,
          12,
          13,
          13,
          14,
          14,
          15,
          15,
          16,
          16,
          17,
          17,
          18,
          18,
          19,
          19,
          20,
          20,
          21,
          21,
          22,
          22,
          23,
          23,
          24,
          24,
          25,
          25,
          26,
          26,
          27,
          27,
          28,
          28,
          29,
          29,
          30
         ],
         "yaxis": "y3"
        }
       ],
       "layout": {
        "autosize": true,
        "shapes": [
         {
          "fillcolor": "yellow",
          "line": {
           "width": 1
          },
          "opacity": 1,
          "type": "rect",
          "x0": 0,
          "x1": 1,
          "xref": "x",
          "y0": 0,
          "y1": 1,
          "yref": "y"
         },
         {
          "fillcolor": "yellow",
          "line": {
           "width": 1
          },
          "opacity": 1,
          "type": "rect",
          "x0": 0,
          "x1": 1,
          "xref": "x",
          "y0": 1,
          "y1": 2,
          "yref": "y"
         },
         {
          "fillcolor": "yellow",
          "line": {
           "width": 1
          },
          "opacity": 1,
          "type": "rect",
          "x0": 0,
          "x1": 1,
          "xref": "x",
          "y0": 2,
          "y1": 3,
          "yref": "y"
         },
         {
          "fillcolor": "yellow",
          "line": {
           "width": 1
          },
          "opacity": 1,
          "type": "rect",
          "x0": 0,
          "x1": 1,
          "xref": "x",
          "y0": 3,
          "y1": 4,
          "yref": "y"
         },
         {
          "fillcolor": "yellow",
          "line": {
           "width": 1
          },
          "opacity": 1,
          "type": "rect",
          "x0": 0,
          "x1": 1,
          "xref": "x",
          "y0": 4,
          "y1": 5,
          "yref": "y"
         },
         {
          "fillcolor": "yellow",
          "line": {
           "width": 1
          },
          "opacity": 1,
          "type": "rect",
          "x0": 0,
          "x1": 1,
          "xref": "x",
          "y0": 5,
          "y1": 6,
          "yref": "y"
         },
         {
          "fillcolor": "yellow",
          "line": {
           "width": 1
          },
          "opacity": 1,
          "type": "rect",
          "x0": 0,
          "x1": 1,
          "xref": "x",
          "y0": 6,
          "y1": 7,
          "yref": "y"
         },
         {
          "fillcolor": "yellow",
          "line": {
           "width": 1
          },
          "opacity": 1,
          "type": "rect",
          "x0": 0,
          "x1": 1,
          "xref": "x",
          "y0": 7,
          "y1": 8,
          "yref": "y"
         },
         {
          "fillcolor": "yellow",
          "line": {
           "width": 1
          },
          "opacity": 1,
          "type": "rect",
          "x0": 0,
          "x1": 1,
          "xref": "x",
          "y0": 8,
          "y1": 9,
          "yref": "y"
         },
         {
          "fillcolor": "yellow",
          "line": {
           "width": 1
          },
          "opacity": 1,
          "type": "rect",
          "x0": 0,
          "x1": 1,
          "xref": "x",
          "y0": 9,
          "y1": 10,
          "yref": "y"
         },
         {
          "fillcolor": "brown",
          "line": {
           "width": 1
          },
          "opacity": 1,
          "type": "rect",
          "x0": 0,
          "x1": 1,
          "xref": "x",
          "y0": 10,
          "y1": 11,
          "yref": "y"
         },
         {
          "fillcolor": "brown",
          "line": {
           "width": 1
          },
          "opacity": 1,
          "type": "rect",
          "x0": 0,
          "x1": 1,
          "xref": "x",
          "y0": 11,
          "y1": 12,
          "yref": "y"
         },
         {
          "fillcolor": "brown",
          "line": {
           "width": 1
          },
          "opacity": 1,
          "type": "rect",
          "x0": 0,
          "x1": 1,
          "xref": "x",
          "y0": 12,
          "y1": 13,
          "yref": "y"
         },
         {
          "fillcolor": "brown",
          "line": {
           "width": 1
          },
          "opacity": 1,
          "type": "rect",
          "x0": 0,
          "x1": 1,
          "xref": "x",
          "y0": 13,
          "y1": 14,
          "yref": "y"
         },
         {
          "fillcolor": "brown",
          "line": {
           "width": 1
          },
          "opacity": 1,
          "type": "rect",
          "x0": 0,
          "x1": 1,
          "xref": "x",
          "y0": 14,
          "y1": 15,
          "yref": "y"
         },
         {
          "fillcolor": "brown",
          "line": {
           "width": 1
          },
          "opacity": 1,
          "type": "rect",
          "x0": 0,
          "x1": 1,
          "xref": "x",
          "y0": 15,
          "y1": 16,
          "yref": "y"
         },
         {
          "fillcolor": "brown",
          "line": {
           "width": 1
          },
          "opacity": 1,
          "type": "rect",
          "x0": 0,
          "x1": 1,
          "xref": "x",
          "y0": 16,
          "y1": 17,
          "yref": "y"
         },
         {
          "fillcolor": "brown",
          "line": {
           "width": 1
          },
          "opacity": 1,
          "type": "rect",
          "x0": 0,
          "x1": 1,
          "xref": "x",
          "y0": 17,
          "y1": 18,
          "yref": "y"
         },
         {
          "fillcolor": "brown",
          "line": {
           "width": 1
          },
          "opacity": 1,
          "type": "rect",
          "x0": 0,
          "x1": 1,
          "xref": "x",
          "y0": 18,
          "y1": 19,
          "yref": "y"
         },
         {
          "fillcolor": "brown",
          "line": {
           "width": 1
          },
          "opacity": 1,
          "type": "rect",
          "x0": 0,
          "x1": 1,
          "xref": "x",
          "y0": 19,
          "y1": 20,
          "yref": "y"
         },
         {
          "fillcolor": "brown",
          "line": {
           "width": 1
          },
          "opacity": 1,
          "type": "rect",
          "x0": 0,
          "x1": 1,
          "xref": "x",
          "y0": 20,
          "y1": 21,
          "yref": "y"
         },
         {
          "fillcolor": "brown",
          "line": {
           "width": 1
          },
          "opacity": 1,
          "type": "rect",
          "x0": 0,
          "x1": 1,
          "xref": "x",
          "y0": 21,
          "y1": 22,
          "yref": "y"
         },
         {
          "fillcolor": "brown",
          "line": {
           "width": 1
          },
          "opacity": 1,
          "type": "rect",
          "x0": 0,
          "x1": 1,
          "xref": "x",
          "y0": 22,
          "y1": 23,
          "yref": "y"
         },
         {
          "fillcolor": "brown",
          "line": {
           "width": 1
          },
          "opacity": 1,
          "type": "rect",
          "x0": 0,
          "x1": 1,
          "xref": "x",
          "y0": 23,
          "y1": 24,
          "yref": "y"
         },
         {
          "fillcolor": "brown",
          "line": {
           "width": 1
          },
          "opacity": 1,
          "type": "rect",
          "x0": 0,
          "x1": 1,
          "xref": "x",
          "y0": 24,
          "y1": 25,
          "yref": "y"
         },
         {
          "fillcolor": "brown",
          "line": {
           "width": 1
          },
          "opacity": 1,
          "type": "rect",
          "x0": 0,
          "x1": 1,
          "xref": "x",
          "y0": 25,
          "y1": 26,
          "yref": "y"
         },
         {
          "fillcolor": "brown",
          "line": {
           "width": 1
          },
          "opacity": 1,
          "type": "rect",
          "x0": 0,
          "x1": 1,
          "xref": "x",
          "y0": 26,
          "y1": 27,
          "yref": "y"
         },
         {
          "fillcolor": "brown",
          "line": {
           "width": 1
          },
          "opacity": 1,
          "type": "rect",
          "x0": 0,
          "x1": 1,
          "xref": "x",
          "y0": 27,
          "y1": 28,
          "yref": "y"
         },
         {
          "fillcolor": "brown",
          "line": {
           "width": 1
          },
          "opacity": 1,
          "type": "rect",
          "x0": 0,
          "x1": 1,
          "xref": "x",
          "y0": 28,
          "y1": 29,
          "yref": "y"
         },
         {
          "fillcolor": "brown",
          "line": {
           "width": 1
          },
          "opacity": 1,
          "type": "rect",
          "x0": 0,
          "x1": 1,
          "xref": "x",
          "y0": 29,
          "y1": 30,
          "yref": "y"
         }
        ],
        "template": {
         "data": {
          "bar": [
           {
            "error_x": {
             "color": "#2a3f5f"
            },
            "error_y": {
             "color": "#2a3f5f"
            },
            "marker": {
             "line": {
              "color": "white",
              "width": 0.5
             },
             "pattern": {
              "fillmode": "overlay",
              "size": 10,
              "solidity": 0.2
             }
            },
            "type": "bar"
           }
          ],
          "barpolar": [
           {
            "marker": {
             "line": {
              "color": "white",
              "width": 0.5
             },
             "pattern": {
              "fillmode": "overlay",
              "size": 10,
              "solidity": 0.2
             }
            },
            "type": "barpolar"
           }
          ],
          "carpet": [
           {
            "aaxis": {
             "endlinecolor": "#2a3f5f",
             "gridcolor": "#C8D4E3",
             "linecolor": "#C8D4E3",
             "minorgridcolor": "#C8D4E3",
             "startlinecolor": "#2a3f5f"
            },
            "baxis": {
             "endlinecolor": "#2a3f5f",
             "gridcolor": "#C8D4E3",
             "linecolor": "#C8D4E3",
             "minorgridcolor": "#C8D4E3",
             "startlinecolor": "#2a3f5f"
            },
            "type": "carpet"
           }
          ],
          "choropleth": [
           {
            "colorbar": {
             "outlinewidth": 0,
             "ticks": ""
            },
            "type": "choropleth"
           }
          ],
          "contour": [
           {
            "colorbar": {
             "outlinewidth": 0,
             "ticks": ""
            },
            "colorscale": [
             [
              0,
              "#0d0887"
             ],
             [
              0.1111111111111111,
              "#46039f"
             ],
             [
              0.2222222222222222,
              "#7201a8"
             ],
             [
              0.3333333333333333,
              "#9c179e"
             ],
             [
              0.4444444444444444,
              "#bd3786"
             ],
             [
              0.5555555555555556,
              "#d8576b"
             ],
             [
              0.6666666666666666,
              "#ed7953"
             ],
             [
              0.7777777777777778,
              "#fb9f3a"
             ],
             [
              0.8888888888888888,
              "#fdca26"
             ],
             [
              1,
              "#f0f921"
             ]
            ],
            "type": "contour"
           }
          ],
          "contourcarpet": [
           {
            "colorbar": {
             "outlinewidth": 0,
             "ticks": ""
            },
            "type": "contourcarpet"
           }
          ],
          "heatmap": [
           {
            "colorbar": {
             "outlinewidth": 0,
             "ticks": ""
            },
            "colorscale": [
             [
              0,
              "#0d0887"
             ],
             [
              0.1111111111111111,
              "#46039f"
             ],
             [
              0.2222222222222222,
              "#7201a8"
             ],
             [
              0.3333333333333333,
              "#9c179e"
             ],
             [
              0.4444444444444444,
              "#bd3786"
             ],
             [
              0.5555555555555556,
              "#d8576b"
             ],
             [
              0.6666666666666666,
              "#ed7953"
             ],
             [
              0.7777777777777778,
              "#fb9f3a"
             ],
             [
              0.8888888888888888,
              "#fdca26"
             ],
             [
              1,
              "#f0f921"
             ]
            ],
            "type": "heatmap"
           }
          ],
          "heatmapgl": [
           {
            "colorbar": {
             "outlinewidth": 0,
             "ticks": ""
            },
            "colorscale": [
             [
              0,
              "#0d0887"
             ],
             [
              0.1111111111111111,
              "#46039f"
             ],
             [
              0.2222222222222222,
              "#7201a8"
             ],
             [
              0.3333333333333333,
              "#9c179e"
             ],
             [
              0.4444444444444444,
              "#bd3786"
             ],
             [
              0.5555555555555556,
              "#d8576b"
             ],
             [
              0.6666666666666666,
              "#ed7953"
             ],
             [
              0.7777777777777778,
              "#fb9f3a"
             ],
             [
              0.8888888888888888,
              "#fdca26"
             ],
             [
              1,
              "#f0f921"
             ]
            ],
            "type": "heatmapgl"
           }
          ],
          "histogram": [
           {
            "marker": {
             "pattern": {
              "fillmode": "overlay",
              "size": 10,
              "solidity": 0.2
             }
            },
            "type": "histogram"
           }
          ],
          "histogram2d": [
           {
            "colorbar": {
             "outlinewidth": 0,
             "ticks": ""
            },
            "colorscale": [
             [
              0,
              "#0d0887"
             ],
             [
              0.1111111111111111,
              "#46039f"
             ],
             [
              0.2222222222222222,
              "#7201a8"
             ],
             [
              0.3333333333333333,
              "#9c179e"
             ],
             [
              0.4444444444444444,
              "#bd3786"
             ],
             [
              0.5555555555555556,
              "#d8576b"
             ],
             [
              0.6666666666666666,
              "#ed7953"
             ],
             [
              0.7777777777777778,
              "#fb9f3a"
             ],
             [
              0.8888888888888888,
              "#fdca26"
             ],
             [
              1,
              "#f0f921"
             ]
            ],
            "type": "histogram2d"
           }
          ],
          "histogram2dcontour": [
           {
            "colorbar": {
             "outlinewidth": 0,
             "ticks": ""
            },
            "colorscale": [
             [
              0,
              "#0d0887"
             ],
             [
              0.1111111111111111,
              "#46039f"
             ],
             [
              0.2222222222222222,
              "#7201a8"
             ],
             [
              0.3333333333333333,
              "#9c179e"
             ],
             [
              0.4444444444444444,
              "#bd3786"
             ],
             [
              0.5555555555555556,
              "#d8576b"
             ],
             [
              0.6666666666666666,
              "#ed7953"
             ],
             [
              0.7777777777777778,
              "#fb9f3a"
             ],
             [
              0.8888888888888888,
              "#fdca26"
             ],
             [
              1,
              "#f0f921"
             ]
            ],
            "type": "histogram2dcontour"
           }
          ],
          "mesh3d": [
           {
            "colorbar": {
             "outlinewidth": 0,
             "ticks": ""
            },
            "type": "mesh3d"
           }
          ],
          "parcoords": [
           {
            "line": {
             "colorbar": {
              "outlinewidth": 0,
              "ticks": ""
             }
            },
            "type": "parcoords"
           }
          ],
          "pie": [
           {
            "automargin": true,
            "type": "pie"
           }
          ],
          "scatter": [
           {
            "fillpattern": {
             "fillmode": "overlay",
             "size": 10,
             "solidity": 0.2
            },
            "type": "scatter"
           }
          ],
          "scatter3d": [
           {
            "line": {
             "colorbar": {
              "outlinewidth": 0,
              "ticks": ""
             }
            },
            "marker": {
             "colorbar": {
              "outlinewidth": 0,
              "ticks": ""
             }
            },
            "type": "scatter3d"
           }
          ],
          "scattercarpet": [
           {
            "marker": {
             "colorbar": {
              "outlinewidth": 0,
              "ticks": ""
             }
            },
            "type": "scattercarpet"
           }
          ],
          "scattergeo": [
           {
            "marker": {
             "colorbar": {
              "outlinewidth": 0,
              "ticks": ""
             }
            },
            "type": "scattergeo"
           }
          ],
          "scattergl": [
           {
            "marker": {
             "colorbar": {
              "outlinewidth": 0,
              "ticks": ""
             }
            },
            "type": "scattergl"
           }
          ],
          "scattermapbox": [
           {
            "marker": {
             "colorbar": {
              "outlinewidth": 0,
              "ticks": ""
             }
            },
            "type": "scattermapbox"
           }
          ],
          "scatterpolar": [
           {
            "marker": {
             "colorbar": {
              "outlinewidth": 0,
              "ticks": ""
             }
            },
            "type": "scatterpolar"
           }
          ],
          "scatterpolargl": [
           {
            "marker": {
             "colorbar": {
              "outlinewidth": 0,
              "ticks": ""
             }
            },
            "type": "scatterpolargl"
           }
          ],
          "scatterternary": [
           {
            "marker": {
             "colorbar": {
              "outlinewidth": 0,
              "ticks": ""
             }
            },
            "type": "scatterternary"
           }
          ],
          "surface": [
           {
            "colorbar": {
             "outlinewidth": 0,
             "ticks": ""
            },
            "colorscale": [
             [
              0,
              "#0d0887"
             ],
             [
              0.1111111111111111,
              "#46039f"
             ],
             [
              0.2222222222222222,
              "#7201a8"
             ],
             [
              0.3333333333333333,
              "#9c179e"
             ],
             [
              0.4444444444444444,
              "#bd3786"
             ],
             [
              0.5555555555555556,
              "#d8576b"
             ],
             [
              0.6666666666666666,
              "#ed7953"
             ],
             [
              0.7777777777777778,
              "#fb9f3a"
             ],
             [
              0.8888888888888888,
              "#fdca26"
             ],
             [
              1,
              "#f0f921"
             ]
            ],
            "type": "surface"
           }
          ],
          "table": [
           {
            "cells": {
             "fill": {
              "color": "#EBF0F8"
             },
             "line": {
              "color": "white"
             }
            },
            "header": {
             "fill": {
              "color": "#C8D4E3"
             },
             "line": {
              "color": "white"
             }
            },
            "type": "table"
           }
          ]
         },
         "layout": {
          "annotationdefaults": {
           "arrowcolor": "#2a3f5f",
           "arrowhead": 0,
           "arrowwidth": 1
          },
          "autotypenumbers": "strict",
          "coloraxis": {
           "colorbar": {
            "outlinewidth": 0,
            "ticks": ""
           }
          },
          "colorscale": {
           "diverging": [
            [
             0,
             "#8e0152"
            ],
            [
             0.1,
             "#c51b7d"
            ],
            [
             0.2,
             "#de77ae"
            ],
            [
             0.3,
             "#f1b6da"
            ],
            [
             0.4,
             "#fde0ef"
            ],
            [
             0.5,
             "#f7f7f7"
            ],
            [
             0.6,
             "#e6f5d0"
            ],
            [
             0.7,
             "#b8e186"
            ],
            [
             0.8,
             "#7fbc41"
            ],
            [
             0.9,
             "#4d9221"
            ],
            [
             1,
             "#276419"
            ]
           ],
           "sequential": [
            [
             0,
             "#0d0887"
            ],
            [
             0.1111111111111111,
             "#46039f"
            ],
            [
             0.2222222222222222,
             "#7201a8"
            ],
            [
             0.3333333333333333,
             "#9c179e"
            ],
            [
             0.4444444444444444,
             "#bd3786"
            ],
            [
             0.5555555555555556,
             "#d8576b"
            ],
            [
             0.6666666666666666,
             "#ed7953"
            ],
            [
             0.7777777777777778,
             "#fb9f3a"
            ],
            [
             0.8888888888888888,
             "#fdca26"
            ],
            [
             1,
             "#f0f921"
            ]
           ],
           "sequentialminus": [
            [
             0,
             "#0d0887"
            ],
            [
             0.1111111111111111,
             "#46039f"
            ],
            [
             0.2222222222222222,
             "#7201a8"
            ],
            [
             0.3333333333333333,
             "#9c179e"
            ],
            [
             0.4444444444444444,
             "#bd3786"
            ],
            [
             0.5555555555555556,
             "#d8576b"
            ],
            [
             0.6666666666666666,
             "#ed7953"
            ],
            [
             0.7777777777777778,
             "#fb9f3a"
            ],
            [
             0.8888888888888888,
             "#fdca26"
            ],
            [
             1,
             "#f0f921"
            ]
           ]
          },
          "colorway": [
           "#636efa",
           "#EF553B",
           "#00cc96",
           "#ab63fa",
           "#FFA15A",
           "#19d3f3",
           "#FF6692",
           "#B6E880",
           "#FF97FF",
           "#FECB52"
          ],
          "font": {
           "color": "#2a3f5f"
          },
          "geo": {
           "bgcolor": "white",
           "lakecolor": "white",
           "landcolor": "white",
           "showlakes": true,
           "showland": true,
           "subunitcolor": "#C8D4E3"
          },
          "hoverlabel": {
           "align": "left"
          },
          "hovermode": "closest",
          "mapbox": {
           "style": "light"
          },
          "paper_bgcolor": "white",
          "plot_bgcolor": "white",
          "polar": {
           "angularaxis": {
            "gridcolor": "#EBF0F8",
            "linecolor": "#EBF0F8",
            "ticks": ""
           },
           "bgcolor": "white",
           "radialaxis": {
            "gridcolor": "#EBF0F8",
            "linecolor": "#EBF0F8",
            "ticks": ""
           }
          },
          "scene": {
           "xaxis": {
            "backgroundcolor": "white",
            "gridcolor": "#DFE8F3",
            "gridwidth": 2,
            "linecolor": "#EBF0F8",
            "showbackground": true,
            "ticks": "",
            "zerolinecolor": "#EBF0F8"
           },
           "yaxis": {
            "backgroundcolor": "white",
            "gridcolor": "#DFE8F3",
            "gridwidth": 2,
            "linecolor": "#EBF0F8",
            "showbackground": true,
            "ticks": "",
            "zerolinecolor": "#EBF0F8"
           },
           "zaxis": {
            "backgroundcolor": "white",
            "gridcolor": "#DFE8F3",
            "gridwidth": 2,
            "linecolor": "#EBF0F8",
            "showbackground": true,
            "ticks": "",
            "zerolinecolor": "#EBF0F8"
           }
          },
          "shapedefaults": {
           "line": {
            "color": "#2a3f5f"
           }
          },
          "ternary": {
           "aaxis": {
            "gridcolor": "#DFE8F3",
            "linecolor": "#A2B1C6",
            "ticks": ""
           },
           "baxis": {
            "gridcolor": "#DFE8F3",
            "linecolor": "#A2B1C6",
            "ticks": ""
           },
           "bgcolor": "white",
           "caxis": {
            "gridcolor": "#DFE8F3",
            "linecolor": "#A2B1C6",
            "ticks": ""
           }
          },
          "title": {
           "x": 0.05
          },
          "xaxis": {
           "automargin": true,
           "gridcolor": "#EBF0F8",
           "linecolor": "#EBF0F8",
           "ticks": "",
           "title": {
            "standoff": 15
           },
           "zerolinecolor": "#EBF0F8",
           "zerolinewidth": 2
          },
          "yaxis": {
           "automargin": true,
           "gridcolor": "#EBF0F8",
           "linecolor": "#EBF0F8",
           "ticks": "",
           "title": {
            "standoff": 15
           },
           "zerolinecolor": "#EBF0F8",
           "zerolinewidth": 2
          }
         }
        },
        "xaxis": {
         "anchor": "y",
         "domain": [
          0,
          0.043333333333333335
         ],
         "range": [
          0,
          1
         ],
         "side": "top",
         "tickvals": [],
         "title": {},
         "type": "linear"
        },
        "xaxis2": {
         "anchor": "y",
         "domain": [
          0.11,
          0.5216666666666667
         ],
         "range": [
          0,
          108.07404868885037
         ],
         "side": "top",
         "title": {
          "text": "$ f_s \\ \\text{[kPa]} $"
         },
         "type": "linear"
        },
        "xaxis3": {
         "anchor": "y",
         "domain": [
          0.5883333333333334,
          1
         ],
         "range": [
          0,
          1900
         ],
         "side": "top",
         "title": {
          "text": "$ q_b \\ \\text{[kPa]} $"
         },
         "type": "linear"
        },
        "yaxis": {
         "anchor": "x",
         "domain": [
          0,
          1
         ],
         "range": [
          30,
          0
         ],
         "title": {
          "text": "$ z \\ \\text{[m]}$"
         },
         "type": "linear"
        },
        "yaxis2": {
         "anchor": "x2",
         "domain": [
          0,
          1
         ],
         "matches": "y",
         "showticklabels": false
        },
        "yaxis3": {
         "anchor": "x3",
         "domain": [
          0,
          1
         ],
         "matches": "y",
         "showticklabels": false
        }
       }
      },
      "image/png": "[encoded data removed]",
      "text/html": [
       "<div>                            <div id=\"67f2605b-a624-4c1e-807e-843dfc079b63\" class=\"plotly-graph-div\" style=\"height:525px; width:100%;\"></div>            <script type=\"text/javascript\">                require([\"plotly\"], function(Plotly) {                    window.PLOTLYENV=window.PLOTLYENV || {};\n",
       "                    window.PLOTLYENV.BASE_URL='https://github.com/snakesonabrain/groundhog';                                    if (document.getElementById(\"67f2605b-a624-4c1e-807e-843dfc079b63\")) {                    Plotly.newPlot(                        \"67f2605b-a624-4c1e-807e-843dfc079b63\",                        [{\"marker\":{\"color\":\"yellow\"},\"name\":\"Sand\",\"x\":[-10,-10],\"y\":[30.0,30.0],\"type\":\"bar\",\"xaxis\":\"x\",\"yaxis\":\"y\"},{\"marker\":{\"color\":\"brown\"},\"name\":\"Clay\",\"x\":[-10,-10],\"y\":[30.0,30.0],\"type\":\"bar\",\"xaxis\":\"x\",\"yaxis\":\"y\"},{\"line\":{\"color\":\"black\"},\"mode\":\"lines\",\"name\":\"Dummy\",\"showlegend\":false,\"x\":[0,100],\"y\":[null,null],\"type\":\"scatter\",\"xaxis\":\"x2\",\"yaxis\":\"y2\"},{\"line\":{\"color\":\"black\"},\"mode\":\"lines\",\"name\":\"Dummy\",\"showlegend\":false,\"x\":[0,100],\"y\":[null,null],\"type\":\"scatter\",\"xaxis\":\"x3\",\"yaxis\":\"y3\"},{\"mode\":\"lines\",\"name\":\"fs comp\",\"showlegend\":false,\"x\":[1.85,1.85,5.55,5.55,9.25,9.25,12.95,12.95,16.65,16.65,20.35,20.35,24.05,24.05,27.75,27.75,31.45,31.45,35.15,35.15,68.72287753179903,68.72287753179903,70.5873524229014,70.5873524229014,72.40326943751771,72.40326943751771,74.17674419285966,74.17674419285966,75.91282440134768,75.91282440134768,77.61572495039404,77.61572495039404,79.28900146374886,79.28900146374886,80.93568076252014,80.93568076252014,83.03613671167511,83.03613671167511,85.42052836799049,85.42052836799049,87.77812939451375,87.77812939451375,90.11104260855046,90.11104260855046,92.42113755341181,92.42113755341181,94.71008394041259,94.71008394041259,96.97937925146769,96.97937925146769,99.23037169469168,99.23037169469168,101.46427942877237,101.46427942877237,103.68220676663859,103.68220676663859,105.88515791491584,105.88515791491584,108.07404868885037,108.07404868885037],\"y\":[0.0,1.0,1.0,2.0,2.0,3.0,3.0,4.0,4.0,5.0,5.0,6.0,6.0,7.0,7.0,8.0,8.0,9.0,9.0,10.0,10.0,11.0,11.0,12.0,12.0,13.0,13.0,14.0,14.0,15.0,15.0,16.0,16.0,17.0,17.0,18.0,18.0,19.0,19.0,20.0,20.0,21.0,21.0,22.0,22.0,23.0,23.0,24.0,24.0,25.0,25.0,26.0,26.0,27.0,27.0,28.0,28.0,29.0,29.0,30.0],\"type\":\"scatter\",\"xaxis\":\"x2\",\"yaxis\":\"y2\"},{\"mode\":\"lines\",\"name\":\"qb\",\"showlegend\":false,\"x\":[100.0,100.0,300.0,300.0,500.0,500.0,700.0,700.0,900.0,900.0,1100.0,1100.0,1300.0,1300.0,1500.0,1500.0,1700.0,1700.0,1900.0,1900.0,1357.5,1357.5,1372.5,1372.5,1387.5,1387.5,1402.5,1402.5,1417.5,1417.5,1432.5,1432.5,1447.5,1447.5,1462.5,1462.5,1477.5,1477.5,1492.5,1492.5,1507.5,1507.5,1522.5,1522.5,1537.5,1537.5,1552.5,1552.5,1567.5,1567.5,1582.5,1582.5,1597.5,1597.5,1612.5,1612.5,1627.5,1627.5,1642.5,1642.5],\"y\":[0.0,1.0,1.0,2.0,2.0,3.0,3.0,4.0,4.0,5.0,5.0,6.0,6.0,7.0,7.0,8.0,8.0,9.0,9.0,10.0,10.0,11.0,11.0,12.0,12.0,13.0,13.0,14.0,14.0,15.0,15.0,16.0,16.0,17.0,17.0,18.0,18.0,19.0,19.0,20.0,20.0,21.0,21.0,22.0,22.0,23.0,23.0,24.0,24.0,25.0,25.0,26.0,26.0,27.0,27.0,28.0,28.0,29.0,29.0,30.0],\"type\":\"scatter\",\"xaxis\":\"x3\",\"yaxis\":\"y3\"}],                        {\"template\":{\"data\":{\"histogram2dcontour\":[{\"type\":\"histogram2dcontour\",\"colorbar\":{\"outlinewidth\":0,\"ticks\":\"\"},\"colorscale\":[[0.0,\"#0d0887\"],[0.1111111111111111,\"#46039f\"],[0.2222222222222222,\"#7201a8\"],[0.3333333333333333,\"#9c179e\"],[0.4444444444444444,\"#bd3786\"],[0.5555555555555556,\"#d8576b\"],[0.6666666666666666,\"#ed7953\"],[0.7777777777777778,\"#fb9f3a\"],[0.8888888888888888,\"#fdca26\"],[1.0,\"#f0f921\"]]}],\"choropleth\":[{\"type\":\"choropleth\",\"colorbar\":{\"outlinewidth\":0,\"ticks\":\"\"}}],\"histogram2d\":[{\"type\":\"histogram2d\",\"colorbar\":{\"outlinewidth\":0,\"ticks\":\"\"},\"colorscale\":[[0.0,\"#0d0887\"],[0.1111111111111111,\"#46039f\"],[0.2222222222222222,\"#7201a8\"],[0.3333333333333333,\"#9c179e\"],[0.4444444444444444,\"#bd3786\"],[0.5555555555555556,\"#d8576b\"],[0.6666666666666666,\"#ed7953\"],[0.7777777777777778,\"#fb9f3a\"],[0.8888888888888888,\"#fdca26\"],[1.0,\"#f0f921\"]]}],\"heatmap\":[{\"type\":\"heatmap\",\"colorbar\":{\"outlinewidth\":0,\"ticks\":\"\"},\"colorscale\":[[0.0,\"#0d0887\"],[0.1111111111111111,\"#46039f\"],[0.2222222222222222,\"#7201a8\"],[0.3333333333333333,\"#9c179e\"],[0.4444444444444444,\"#bd3786\"],[0.5555555555555556,\"#d8576b\"],[0.6666666666666666,\"#ed7953\"],[0.7777777777777778,\"#fb9f3a\"],[0.8888888888888888,\"#fdca26\"],[1.0,\"#f0f921\"]]}],\"heatmapgl\":[{\"type\":\"heatmapgl\",\"colorbar\":{\"outlinewidth\":0,\"ticks\":\"\"},\"colorscale\":[[0.0,\"#0d0887\"],[0.1111111111111111,\"#46039f\"],[0.2222222222222222,\"#7201a8\"],[0.3333333333333333,\"#9c179e\"],[0.4444444444444444,\"#bd3786\"],[0.5555555555555556,\"#d8576b\"],[0.6666666666666666,\"#ed7953\"],[0.7777777777777778,\"#fb9f3a\"],[0.8888888888888888,\"#fdca26\"],[1.0,\"#f0f921\"]]}],\"contourcarpet\":[{\"type\":\"contourcarpet\",\"colorbar\":{\"outlinewidth\":0,\"ticks\":\"\"}}],\"contour\":[{\"type\":\"contour\",\"colorbar\":{\"outlinewidth\":0,\"ticks\":\"\"},\"colorscale\":[[0.0,\"#0d0887\"],[0.1111111111111111,\"#46039f\"],[0.2222222222222222,\"#7201a8\"],[0.3333333333333333,\"#9c179e\"],[0.4444444444444444,\"#bd3786\"],[0.5555555555555556,\"#d8576b\"],[0.6666666666666666,\"#ed7953\"],[0.7777777777777778,\"#fb9f3a\"],[0.8888888888888888,\"#fdca26\"],[1.0,\"#f0f921\"]]}],\"surface\":[{\"type\":\"surface\",\"colorbar\":{\"outlinewidth\":0,\"ticks\":\"\"},\"colorscale\":[[0.0,\"#0d0887\"],[0.1111111111111111,\"#46039f\"],[0.2222222222222222,\"#7201a8\"],[0.3333333333333333,\"#9c179e\"],[0.4444444444444444,\"#bd3786\"],[0.5555555555555556,\"#d8576b\"],[0.6666666666666666,\"#ed7953\"],[0.7777777777777778,\"#fb9f3a\"],[0.8888888888888888,\"#fdca26\"],[1.0,\"#f0f921\"]]}],\"mesh3d\":[{\"type\":\"mesh3d\",\"colorbar\":{\"outlinewidth\":0,\"ticks\":\"\"}}],\"scatter\":[{\"fillpattern\":{\"fillmode\":\"overlay\",\"size\":10,\"solidity\":0.2},\"type\":\"scatter\"}],\"parcoords\":[{\"type\":\"parcoords\",\"line\":{\"colorbar\":{\"outlinewidth\":0,\"ticks\":\"\"}}}],\"scatterpolargl\":[{\"type\":\"scatterpolargl\",\"marker\":{\"colorbar\":{\"outlinewidth\":0,\"ticks\":\"\"}}}],\"bar\":[{\"error_x\":{\"color\":\"#2a3f5f\"},\"error_y\":{\"color\":\"#2a3f5f\"},\"marker\":{\"line\":{\"color\":\"white\",\"width\":0.5},\"pattern\":{\"fillmode\":\"overlay\",\"size\":10,\"solidity\":0.2}},\"type\":\"bar\"}],\"scattergeo\":[{\"type\":\"scattergeo\",\"marker\":{\"colorbar\":{\"outlinewidth\":0,\"ticks\":\"\"}}}],\"scatterpolar\":[{\"type\":\"scatterpolar\",\"marker\":{\"colorbar\":{\"outlinewidth\":0,\"ticks\":\"\"}}}],\"histogram\":[{\"marker\":{\"pattern\":{\"fillmode\":\"overlay\",\"size\":10,\"solidity\":0.2}},\"type\":\"histogram\"}],\"scattergl\":[{\"type\":\"scattergl\",\"marker\":{\"colorbar\":{\"outlinewidth\":0,\"ticks\":\"\"}}}],\"scatter3d\":[{\"type\":\"scatter3d\",\"line\":{\"colorbar\":{\"outlinewidth\":0,\"ticks\":\"\"}},\"marker\":{\"colorbar\":{\"outlinewidth\":0,\"ticks\":\"\"}}}],\"scattermapbox\":[{\"type\":\"scattermapbox\",\"marker\":{\"colorbar\":{\"outlinewidth\":0,\"ticks\":\"\"}}}],\"scatterternary\":[{\"type\":\"scatterternary\",\"marker\":{\"colorbar\":{\"outlinewidth\":0,\"ticks\":\"\"}}}],\"scattercarpet\":[{\"type\":\"scattercarpet\",\"marker\":{\"colorbar\":{\"outlinewidth\":0,\"ticks\":\"\"}}}],\"carpet\":[{\"aaxis\":{\"endlinecolor\":\"#2a3f5f\",\"gridcolor\":\"#C8D4E3\",\"linecolor\":\"#C8D4E3\",\"minorgridcolor\":\"#C8D4E3\",\"startlinecolor\":\"#2a3f5f\"},\"baxis\":{\"endlinecolor\":\"#2a3f5f\",\"gridcolor\":\"#C8D4E3\",\"linecolor\":\"#C8D4E3\",\"minorgridcolor\":\"#C8D4E3\",\"startlinecolor\":\"#2a3f5f\"},\"type\":\"carpet\"}],\"table\":[{\"cells\":{\"fill\":{\"color\":\"#EBF0F8\"},\"line\":{\"color\":\"white\"}},\"header\":{\"fill\":{\"color\":\"#C8D4E3\"},\"line\":{\"color\":\"white\"}},\"type\":\"table\"}],\"barpolar\":[{\"marker\":{\"line\":{\"color\":\"white\",\"width\":0.5},\"pattern\":{\"fillmode\":\"overlay\",\"size\":10,\"solidity\":0.2}},\"type\":\"barpolar\"}],\"pie\":[{\"automargin\":true,\"type\":\"pie\"}]},\"layout\":{\"autotypenumbers\":\"strict\",\"colorway\":[\"#636efa\",\"#EF553B\",\"#00cc96\",\"#ab63fa\",\"#FFA15A\",\"#19d3f3\",\"#FF6692\",\"#B6E880\",\"#FF97FF\",\"#FECB52\"],\"font\":{\"color\":\"#2a3f5f\"},\"hovermode\":\"closest\",\"hoverlabel\":{\"align\":\"left\"},\"paper_bgcolor\":\"white\",\"plot_bgcolor\":\"white\",\"polar\":{\"bgcolor\":\"white\",\"angularaxis\":{\"gridcolor\":\"#EBF0F8\",\"linecolor\":\"#EBF0F8\",\"ticks\":\"\"},\"radialaxis\":{\"gridcolor\":\"#EBF0F8\",\"linecolor\":\"#EBF0F8\",\"ticks\":\"\"}},\"ternary\":{\"bgcolor\":\"white\",\"aaxis\":{\"gridcolor\":\"#DFE8F3\",\"linecolor\":\"#A2B1C6\",\"ticks\":\"\"},\"baxis\":{\"gridcolor\":\"#DFE8F3\",\"linecolor\":\"#A2B1C6\",\"ticks\":\"\"},\"caxis\":{\"gridcolor\":\"#DFE8F3\",\"linecolor\":\"#A2B1C6\",\"ticks\":\"\"}},\"coloraxis\":{\"colorbar\":{\"outlinewidth\":0,\"ticks\":\"\"}},\"colorscale\":{\"sequential\":[[0.0,\"#0d0887\"],[0.1111111111111111,\"#46039f\"],[0.2222222222222222,\"#7201a8\"],[0.3333333333333333,\"#9c179e\"],[0.4444444444444444,\"#bd3786\"],[0.5555555555555556,\"#d8576b\"],[0.6666666666666666,\"#ed7953\"],[0.7777777777777778,\"#fb9f3a\"],[0.8888888888888888,\"#fdca26\"],[1.0,\"#f0f921\"]],\"sequentialminus\":[[0.0,\"#0d0887\"],[0.1111111111111111,\"#46039f\"],[0.2222222222222222,\"#7201a8\"],[0.3333333333333333,\"#9c179e\"],[0.4444444444444444,\"#bd3786\"],[0.5555555555555556,\"#d8576b\"],[0.6666666666666666,\"#ed7953\"],[0.7777777777777778,\"#fb9f3a\"],[0.8888888888888888,\"#fdca26\"],[1.0,\"#f0f921\"]],\"diverging\":[[0,\"#8e0152\"],[0.1,\"#c51b7d\"],[0.2,\"#de77ae\"],[0.3,\"#f1b6da\"],[0.4,\"#fde0ef\"],[0.5,\"#f7f7f7\"],[0.6,\"#e6f5d0\"],[0.7,\"#b8e186\"],[0.8,\"#7fbc41\"],[0.9,\"#4d9221\"],[1,\"#276419\"]]},\"xaxis\":{\"gridcolor\":\"#EBF0F8\",\"linecolor\":\"#EBF0F8\",\"ticks\":\"\",\"title\":{\"standoff\":15},\"zerolinecolor\":\"#EBF0F8\",\"automargin\":true,\"zerolinewidth\":2},\"yaxis\":{\"gridcolor\":\"#EBF0F8\",\"linecolor\":\"#EBF0F8\",\"ticks\":\"\",\"title\":{\"standoff\":15},\"zerolinecolor\":\"#EBF0F8\",\"automargin\":true,\"zerolinewidth\":2},\"scene\":{\"xaxis\":{\"backgroundcolor\":\"white\",\"gridcolor\":\"#DFE8F3\",\"linecolor\":\"#EBF0F8\",\"showbackground\":true,\"ticks\":\"\",\"zerolinecolor\":\"#EBF0F8\",\"gridwidth\":2},\"yaxis\":{\"backgroundcolor\":\"white\",\"gridcolor\":\"#DFE8F3\",\"linecolor\":\"#EBF0F8\",\"showbackground\":true,\"ticks\":\"\",\"zerolinecolor\":\"#EBF0F8\",\"gridwidth\":2},\"zaxis\":{\"backgroundcolor\":\"white\",\"gridcolor\":\"#DFE8F3\",\"linecolor\":\"#EBF0F8\",\"showbackground\":true,\"ticks\":\"\",\"zerolinecolor\":\"#EBF0F8\",\"gridwidth\":2}},\"shapedefaults\":{\"line\":{\"color\":\"#2a3f5f\"}},\"annotationdefaults\":{\"arrowcolor\":\"#2a3f5f\",\"arrowhead\":0,\"arrowwidth\":1},\"geo\":{\"bgcolor\":\"white\",\"landcolor\":\"white\",\"subunitcolor\":\"#C8D4E3\",\"showland\":true,\"showlakes\":true,\"lakecolor\":\"white\"},\"title\":{\"x\":0.05},\"mapbox\":{\"style\":\"light\"}}},\"xaxis\":{\"anchor\":\"y\",\"domain\":[0.0,0.043333333333333335],\"title\":{},\"side\":\"top\",\"tickvals\":[],\"range\":[0,1]},\"yaxis\":{\"anchor\":\"x\",\"domain\":[0.0,1.0],\"range\":[30.0,0.0],\"title\":{\"text\":\"$ z \\\\ \\\\text{[m]}$\"}},\"xaxis2\":{\"anchor\":\"y\",\"domain\":[0.11,0.5216666666666667],\"title\":{\"text\":\"$ f_s \\\\ \\\\text{[kPa]} $\"},\"side\":\"top\",\"range\":[0,108.07404868885037]},\"yaxis2\":{\"anchor\":\"x2\",\"domain\":[0.0,1.0],\"matches\":\"y\",\"showticklabels\":false},\"xaxis3\":{\"anchor\":\"y\",\"domain\":[0.5883333333333334,1.0],\"title\":{\"text\":\"$ q_b \\\\ \\\\text{[kPa]} $\"},\"side\":\"top\",\"range\":[0,1900.0]},\"yaxis3\":{\"anchor\":\"x3\",\"domain\":[0.0,1.0],\"matches\":\"y\",\"showticklabels\":false},\"shapes\":[{\"fillcolor\":\"yellow\",\"opacity\":1,\"type\":\"rect\",\"x0\":0,\"x1\":1,\"xref\":\"x\",\"y0\":0.0,\"y1\":1.0,\"yref\":\"y\",\"line\":{\"width\":1}},{\"fillcolor\":\"yellow\",\"opacity\":1,\"type\":\"rect\",\"x0\":0,\"x1\":1,\"xref\":\"x\",\"y0\":1.0,\"y1\":2.0,\"yref\":\"y\",\"line\":{\"width\":1}},{\"fillcolor\":\"yellow\",\"opacity\":1,\"type\":\"rect\",\"x0\":0,\"x1\":1,\"xref\":\"x\",\"y0\":2.0,\"y1\":3.0,\"yref\":\"y\",\"line\":{\"width\":1}},{\"fillcolor\":\"yellow\",\"opacity\":1,\"type\":\"rect\",\"x0\":0,\"x1\":1,\"xref\":\"x\",\"y0\":3.0,\"y1\":4.0,\"yref\":\"y\",\"line\":{\"width\":1}},{\"fillcolor\":\"yellow\",\"opacity\":1,\"type\":\"rect\",\"x0\":0,\"x1\":1,\"xref\":\"x\",\"y0\":4.0,\"y1\":5.0,\"yref\":\"y\",\"line\":{\"width\":1}},{\"fillcolor\":\"yellow\",\"opacity\":1,\"type\":\"rect\",\"x0\":0,\"x1\":1,\"xref\":\"x\",\"y0\":5.0,\"y1\":6.0,\"yref\":\"y\",\"line\":{\"width\":1}},{\"fillcolor\":\"yellow\",\"opacity\":1,\"type\":\"rect\",\"x0\":0,\"x1\":1,\"xref\":\"x\",\"y0\":6.0,\"y1\":7.0,\"yref\":\"y\",\"line\":{\"width\":1}},{\"fillcolor\":\"yellow\",\"opacity\":1,\"type\":\"rect\",\"x0\":0,\"x1\":1,\"xref\":\"x\",\"y0\":7.0,\"y1\":8.0,\"yref\":\"y\",\"line\":{\"width\":1}},{\"fillcolor\":\"yellow\",\"opacity\":1,\"type\":\"rect\",\"x0\":0,\"x1\":1,\"xref\":\"x\",\"y0\":8.0,\"y1\":9.0,\"yref\":\"y\",\"line\":{\"width\":1}},{\"fillcolor\":\"yellow\",\"opacity\":1,\"type\":\"rect\",\"x0\":0,\"x1\":1,\"xref\":\"x\",\"y0\":9.0,\"y1\":10.0,\"yref\":\"y\",\"line\":{\"width\":1}},{\"fillcolor\":\"brown\",\"opacity\":1,\"type\":\"rect\",\"x0\":0,\"x1\":1,\"xref\":\"x\",\"y0\":10.0,\"y1\":11.0,\"yref\":\"y\",\"line\":{\"width\":1}},{\"fillcolor\":\"brown\",\"opacity\":1,\"type\":\"rect\",\"x0\":0,\"x1\":1,\"xref\":\"x\",\"y0\":11.0,\"y1\":12.0,\"yref\":\"y\",\"line\":{\"width\":1}},{\"fillcolor\":\"brown\",\"opacity\":1,\"type\":\"rect\",\"x0\":0,\"x1\":1,\"xref\":\"x\",\"y0\":12.0,\"y1\":13.0,\"yref\":\"y\",\"line\":{\"width\":1}},{\"fillcolor\":\"brown\",\"opacity\":1,\"type\":\"rect\",\"x0\":0,\"x1\":1,\"xref\":\"x\",\"y0\":13.0,\"y1\":14.0,\"yref\":\"y\",\"line\":{\"width\":1}},{\"fillcolor\":\"brown\",\"opacity\":1,\"type\":\"rect\",\"x0\":0,\"x1\":1,\"xref\":\"x\",\"y0\":14.0,\"y1\":15.0,\"yref\":\"y\",\"line\":{\"width\":1}},{\"fillcolor\":\"brown\",\"opacity\":1,\"type\":\"rect\",\"x0\":0,\"x1\":1,\"xref\":\"x\",\"y0\":15.0,\"y1\":16.0,\"yref\":\"y\",\"line\":{\"width\":1}},{\"fillcolor\":\"brown\",\"opacity\":1,\"type\":\"rect\",\"x0\":0,\"x1\":1,\"xref\":\"x\",\"y0\":16.0,\"y1\":17.0,\"yref\":\"y\",\"line\":{\"width\":1}},{\"fillcolor\":\"brown\",\"opacity\":1,\"type\":\"rect\",\"x0\":0,\"x1\":1,\"xref\":\"x\",\"y0\":17.0,\"y1\":18.0,\"yref\":\"y\",\"line\":{\"width\":1}},{\"fillcolor\":\"brown\",\"opacity\":1,\"type\":\"rect\",\"x0\":0,\"x1\":1,\"xref\":\"x\",\"y0\":18.0,\"y1\":19.0,\"yref\":\"y\",\"line\":{\"width\":1}},{\"fillcolor\":\"brown\",\"opacity\":1,\"type\":\"rect\",\"x0\":0,\"x1\":1,\"xref\":\"x\",\"y0\":19.0,\"y1\":20.0,\"yref\":\"y\",\"line\":{\"width\":1}},{\"fillcolor\":\"brown\",\"opacity\":1,\"type\":\"rect\",\"x0\":0,\"x1\":1,\"xref\":\"x\",\"y0\":20.0,\"y1\":21.0,\"yref\":\"y\",\"line\":{\"width\":1}},{\"fillcolor\":\"brown\",\"opacity\":1,\"type\":\"rect\",\"x0\":0,\"x1\":1,\"xref\":\"x\",\"y0\":21.0,\"y1\":22.0,\"yref\":\"y\",\"line\":{\"width\":1}},{\"fillcolor\":\"brown\",\"opacity\":1,\"type\":\"rect\",\"x0\":0,\"x1\":1,\"xref\":\"x\",\"y0\":22.0,\"y1\":23.0,\"yref\":\"y\",\"line\":{\"width\":1}},{\"fillcolor\":\"brown\",\"opacity\":1,\"type\":\"rect\",\"x0\":0,\"x1\":1,\"xref\":\"x\",\"y0\":23.0,\"y1\":24.0,\"yref\":\"y\",\"line\":{\"width\":1}},{\"fillcolor\":\"brown\",\"opacity\":1,\"type\":\"rect\",\"x0\":0,\"x1\":1,\"xref\":\"x\",\"y0\":24.0,\"y1\":25.0,\"yref\":\"y\",\"line\":{\"width\":1}},{\"fillcolor\":\"brown\",\"opacity\":1,\"type\":\"rect\",\"x0\":0,\"x1\":1,\"xref\":\"x\",\"y0\":25.0,\"y1\":26.0,\"yref\":\"y\",\"line\":{\"width\":1}},{\"fillcolor\":\"brown\",\"opacity\":1,\"type\":\"rect\",\"x0\":0,\"x1\":1,\"xref\":\"x\",\"y0\":26.0,\"y1\":27.0,\"yref\":\"y\",\"line\":{\"width\":1}},{\"fillcolor\":\"brown\",\"opacity\":1,\"type\":\"rect\",\"x0\":0,\"x1\":1,\"xref\":\"x\",\"y0\":27.0,\"y1\":28.0,\"yref\":\"y\",\"line\":{\"width\":1}},{\"fillcolor\":\"brown\",\"opacity\":1,\"type\":\"rect\",\"x0\":0,\"x1\":1,\"xref\":\"x\",\"y0\":28.0,\"y1\":29.0,\"yref\":\"y\",\"line\":{\"width\":1}},{\"fillcolor\":\"brown\",\"opacity\":1,\"type\":\"rect\",\"x0\":0,\"x1\":1,\"xref\":\"x\",\"y0\":29.0,\"y1\":30.0,\"yref\":\"y\",\"line\":{\"width\":1}}]},                        {\"showLink\": true, \"plotlyServerURL\": \"https://github.com/snakesonabrain/groundhog\", \"linkText\": \"Created by groundhog using Plotly!\", \"responsive\": true}                    ).then(function(){\n",
       "                            \n",
       "var gd = document.getElementById('67f2605b-a624-4c1e-807e-843dfc079b63');\n",
       "var x = new MutationObserver(function (mutations, observer) {{\n",
       "        var display = window.getComputedStyle(gd).display;\n",
       "        if (!display || display === 'none') {{\n",
       "            console.log([gd, 'removed!']);\n",
       "            Plotly.purge(gd);\n",
       "            observer.disconnect();\n",
       "        }}\n",
       "}});\n",
       "\n",
       "// Listen for the removal of the full notebook cells\n",
       "var notebookContainer = gd.closest('#notebook-container');\n",
       "if (notebookContainer) {{\n",
       "    x.observe(notebookContainer, {childList: true});\n",
       "}}\n",
       "\n",
       "// Listen for the clearing of the current output cell\n",
       "var outputEl = gd.closest('.output');\n",
       "if (outputEl) {{\n",
       "    x.observe(outputEl, {childList: true});\n",
       "}}\n",
       "\n",
       "                        })                };                });            </script>        </div>"
      ]
     },
     "metadata": {},
     "output_type": "display_data"
    }
   ],
   "source": [
    "z_fs, x_fs = calc.output.soilparameter_series('Unit skin friction outside compression [kPa]')\n",
    "z_qb, x_qb = calc.output.soilparameter_series('Unit end bearing plugged [kPa]')\n",
    "\n",
    "fs_qb_plot = LogPlot(calc.output, no_panels=2, fillcolordict={'Sand': 'yellow', 'Clay': 'brown'})\n",
    "\n",
    "fs_qb_plot.add_trace(x=x_fs, z=z_fs, showlegend=False, mode='lines',name='fs comp', panel_no=1)\n",
    "fs_qb_plot.add_trace(x=x_qb, z=z_qb, showlegend=False, mode='lines',name='qb', panel_no=2)\n",
    "\n",
    "fs_qb_plot.set_xaxis(title=r'$ q_b \\ \\text{[kPa]} $', panel_no=2, range=(0, x_qb.max()))\n",
    "fs_qb_plot.set_xaxis(title=r'$ f_s \\ \\text{[kPa]} $', panel_no=1, range=(0, x_fs.max()))\n",
    "fs_qb_plot.set_zaxis(title=r'$ z \\ \\text{[m]}$')\n",
    "fs_qb_plot.show()"
   ]
  },
  {
   "cell_type": "markdown",
   "id": "fc7ca667",
   "metadata": {},
   "source": [
    "## Integration of unit skin friction and unit end bearing\n",
    "\n",
    "Unit skin friction can be integrated over the annulus of the pile. Four modes are discerned:\n",
    "\n",
    "   - Plugged compression: Outside skin friction and end bearing over the full diameter of the pile\n",
    "   - Plugged tension: Outside skin friction in tension + weight of the pile material and/or internal soil plug\n",
    "   - Coring compression: Outside skin friction + inside skin friction + annular end bearing\n",
    "   - Coring tension: Outside skin friction in tension + inside skin friction in tension\n",
    "   \n",
    "The pile circumference and base cross-sectional area need to be known. Because pile shapes and sizes may differ, the weight of the pile and/or internal soil plug is excluded from the assessment. Calculating this component with a separate calculation is straightforward.\n",
    "\n",
    "In this example, a tubular open-ended pile with 2.48m outer diameter and 50mm wall thickness is taken."
   ]
  },
  {
   "cell_type": "code",
   "execution_count": 122,
   "id": "a6aa0054",
   "metadata": {},
   "outputs": [],
   "source": [
    "calc.calculate_pilecapacity(\n",
    "    circumference=np.pi * 2.48, base_area=0.25 * np.pi * 2.48 ** 2,\n",
    "    internal_circumference=np.pi * 2.38, annulus_area=0.25 * np.pi * (2.48 ** 2 - 2.38 ** 2))"
   ]
  },
  {
   "cell_type": "code",
   "execution_count": 124,
   "id": "4f807dbb",
   "metadata": {},
   "outputs": [
    {
     "data": {
      "text/html": [
       "<div>\n",
       "<style scoped>\n",
       "    .dataframe tbody tr th:only-of-type {\n",
       "        vertical-align: middle;\n",
       "    }\n",
       "\n",
       "    .dataframe tbody tr th {\n",
       "        vertical-align: top;\n",
       "    }\n",
       "\n",
       "    .dataframe thead th {\n",
       "        text-align: right;\n",
       "    }\n",
       "</style>\n",
       "<table border=\"1\" class=\"dataframe\">\n",
       "  <thead>\n",
       "    <tr style=\"text-align: right;\">\n",
       "      <th></th>\n",
       "      <th>Depth from [m]</th>\n",
       "      <th>Depth to [m]</th>\n",
       "      <th>z [m]</th>\n",
       "      <th>dz [m]</th>\n",
       "      <th>Total unit weight [kN/m3]</th>\n",
       "      <th>Water unit weight [kN/m3]</th>\n",
       "      <th>Effective unit weight [kN/m3]</th>\n",
       "      <th>Hydrostatic pressure from [kPa]</th>\n",
       "      <th>Hydrostatic pressure to [kPa]</th>\n",
       "      <th>Hydrostatic pressure [kPa]</th>\n",
       "      <th>...</th>\n",
       "      <th>Unit skin friction inside tension [kPa]</th>\n",
       "      <th>Unit end bearing plugged [kPa]</th>\n",
       "      <th>Unit end bearing coring [kPa]</th>\n",
       "      <th>Fs compression outside [kN]</th>\n",
       "      <th>Fs tension outside [kN]</th>\n",
       "      <th>Fs compression inside [kN]</th>\n",
       "      <th>Fs tension inside [kN]</th>\n",
       "      <th>Qb plugged [kN]</th>\n",
       "      <th>Qb coring [kN]</th>\n",
       "      <th>Qb internal [kN]</th>\n",
       "    </tr>\n",
       "  </thead>\n",
       "  <tbody>\n",
       "    <tr>\n",
       "      <th>0</th>\n",
       "      <td>0.0</td>\n",
       "      <td>1.0</td>\n",
       "      <td>0.5</td>\n",
       "      <td>1.0</td>\n",
       "      <td>20.0</td>\n",
       "      <td>10.0</td>\n",
       "      <td>10.0</td>\n",
       "      <td>0.0</td>\n",
       "      <td>10.0</td>\n",
       "      <td>5.0</td>\n",
       "      <td>...</td>\n",
       "      <td>1.85</td>\n",
       "      <td>100.0</td>\n",
       "      <td>100.0</td>\n",
       "      <td>14.413627</td>\n",
       "      <td>14.413627</td>\n",
       "      <td>13.832432</td>\n",
       "      <td>13.832432</td>\n",
       "      <td>483.051286</td>\n",
       "      <td>38.170351</td>\n",
       "      <td>444.880936</td>\n",
       "    </tr>\n",
       "    <tr>\n",
       "      <th>1</th>\n",
       "      <td>1.0</td>\n",
       "      <td>2.0</td>\n",
       "      <td>1.5</td>\n",
       "      <td>1.0</td>\n",
       "      <td>20.0</td>\n",
       "      <td>10.0</td>\n",
       "      <td>10.0</td>\n",
       "      <td>10.0</td>\n",
       "      <td>20.0</td>\n",
       "      <td>15.0</td>\n",
       "      <td>...</td>\n",
       "      <td>5.55</td>\n",
       "      <td>300.0</td>\n",
       "      <td>300.0</td>\n",
       "      <td>57.654508</td>\n",
       "      <td>57.654508</td>\n",
       "      <td>55.329730</td>\n",
       "      <td>55.329730</td>\n",
       "      <td>1449.153859</td>\n",
       "      <td>114.511052</td>\n",
       "      <td>1334.642807</td>\n",
       "    </tr>\n",
       "    <tr>\n",
       "      <th>2</th>\n",
       "      <td>2.0</td>\n",
       "      <td>3.0</td>\n",
       "      <td>2.5</td>\n",
       "      <td>1.0</td>\n",
       "      <td>20.0</td>\n",
       "      <td>10.0</td>\n",
       "      <td>10.0</td>\n",
       "      <td>20.0</td>\n",
       "      <td>30.0</td>\n",
       "      <td>25.0</td>\n",
       "      <td>...</td>\n",
       "      <td>9.25</td>\n",
       "      <td>500.0</td>\n",
       "      <td>500.0</td>\n",
       "      <td>129.722644</td>\n",
       "      <td>129.722644</td>\n",
       "      <td>124.491892</td>\n",
       "      <td>124.491892</td>\n",
       "      <td>2415.256432</td>\n",
       "      <td>190.851754</td>\n",
       "      <td>2224.404678</td>\n",
       "    </tr>\n",
       "    <tr>\n",
       "      <th>3</th>\n",
       "      <td>3.0</td>\n",
       "      <td>4.0</td>\n",
       "      <td>3.5</td>\n",
       "      <td>1.0</td>\n",
       "      <td>20.0</td>\n",
       "      <td>10.0</td>\n",
       "      <td>10.0</td>\n",
       "      <td>30.0</td>\n",
       "      <td>40.0</td>\n",
       "      <td>35.0</td>\n",
       "      <td>...</td>\n",
       "      <td>12.95</td>\n",
       "      <td>700.0</td>\n",
       "      <td>700.0</td>\n",
       "      <td>230.618034</td>\n",
       "      <td>230.618034</td>\n",
       "      <td>221.318919</td>\n",
       "      <td>221.318919</td>\n",
       "      <td>3381.359005</td>\n",
       "      <td>267.192455</td>\n",
       "      <td>3114.166550</td>\n",
       "    </tr>\n",
       "    <tr>\n",
       "      <th>4</th>\n",
       "      <td>4.0</td>\n",
       "      <td>5.0</td>\n",
       "      <td>4.5</td>\n",
       "      <td>1.0</td>\n",
       "      <td>20.0</td>\n",
       "      <td>10.0</td>\n",
       "      <td>10.0</td>\n",
       "      <td>40.0</td>\n",
       "      <td>50.0</td>\n",
       "      <td>45.0</td>\n",
       "      <td>...</td>\n",
       "      <td>16.65</td>\n",
       "      <td>900.0</td>\n",
       "      <td>900.0</td>\n",
       "      <td>360.340677</td>\n",
       "      <td>360.340677</td>\n",
       "      <td>345.810811</td>\n",
       "      <td>345.810811</td>\n",
       "      <td>4347.461578</td>\n",
       "      <td>343.533157</td>\n",
       "      <td>4003.928421</td>\n",
       "    </tr>\n",
       "  </tbody>\n",
       "</table>\n",
       "<p>5 rows × 38 columns</p>\n",
       "</div>"
      ],
      "text/plain": [
       "   Depth from [m]  Depth to [m]  z [m]  dz [m]  Total unit weight [kN/m3]  \\\n",
       "0             0.0           1.0    0.5     1.0                       20.0   \n",
       "1             1.0           2.0    1.5     1.0                       20.0   \n",
       "2             2.0           3.0    2.5     1.0                       20.0   \n",
       "3             3.0           4.0    3.5     1.0                       20.0   \n",
       "4             4.0           5.0    4.5     1.0                       20.0   \n",
       "\n",
       "   Water unit weight [kN/m3]  Effective unit weight [kN/m3]  \\\n",
       "0                       10.0                           10.0   \n",
       "1                       10.0                           10.0   \n",
       "2                       10.0                           10.0   \n",
       "3                       10.0                           10.0   \n",
       "4                       10.0                           10.0   \n",
       "\n",
       "   Hydrostatic pressure from [kPa]  Hydrostatic pressure to [kPa]  \\\n",
       "0                              0.0                           10.0   \n",
       "1                             10.0                           20.0   \n",
       "2                             20.0                           30.0   \n",
       "3                             30.0                           40.0   \n",
       "4                             40.0                           50.0   \n",
       "\n",
       "   Hydrostatic pressure [kPa]  ...  Unit skin friction inside tension [kPa]  \\\n",
       "0                         5.0  ...                                     1.85   \n",
       "1                        15.0  ...                                     5.55   \n",
       "2                        25.0  ...                                     9.25   \n",
       "3                        35.0  ...                                    12.95   \n",
       "4                        45.0  ...                                    16.65   \n",
       "\n",
       "   Unit end bearing plugged [kPa]  Unit end bearing coring [kPa]  \\\n",
       "0                           100.0                          100.0   \n",
       "1                           300.0                          300.0   \n",
       "2                           500.0                          500.0   \n",
       "3                           700.0                          700.0   \n",
       "4                           900.0                          900.0   \n",
       "\n",
       "   Fs compression outside [kN]  Fs tension outside [kN]  \\\n",
       "0                    14.413627                14.413627   \n",
       "1                    57.654508                57.654508   \n",
       "2                   129.722644               129.722644   \n",
       "3                   230.618034               230.618034   \n",
       "4                   360.340677               360.340677   \n",
       "\n",
       "   Fs compression inside [kN]  Fs tension inside [kN]  Qb plugged [kN]  \\\n",
       "0                   13.832432               13.832432       483.051286   \n",
       "1                   55.329730               55.329730      1449.153859   \n",
       "2                  124.491892              124.491892      2415.256432   \n",
       "3                  221.318919              221.318919      3381.359005   \n",
       "4                  345.810811              345.810811      4347.461578   \n",
       "\n",
       "   Qb coring [kN]  Qb internal [kN]  \n",
       "0       38.170351        444.880936  \n",
       "1      114.511052       1334.642807  \n",
       "2      190.851754       2224.404678  \n",
       "3      267.192455       3114.166550  \n",
       "4      343.533157       4003.928421  \n",
       "\n",
       "[5 rows x 38 columns]"
      ]
     },
     "execution_count": 124,
     "metadata": {},
     "output_type": "execute_result"
    }
   ],
   "source": [
    "calc.output.head()"
   ]
  },
  {
   "cell_type": "markdown",
   "id": "809018b7",
   "metadata": {},
   "source": [
    "### Results for the final penetration\n",
    "\n",
    "As unit skin friction profiles can be penetration-dependent, the plot of unit skin friction $ f_s $ is only valid for the selected final pile penetration.\n",
    "\n",
    "The profiles of unit skin friction $ f_s $, unit end bearing $ q_b $ and integrated shaft resistance in compression and tension over the inside and outside of the pile are plotted as well as the plugged and unplugged (coring) end bearing."
   ]
  },
  {
   "cell_type": "code",
   "execution_count": 98,
   "id": "e32fbb21",
   "metadata": {
    "tags": []
   },
   "outputs": [
    {
     "data": {
      "application/vnd.plotly.v1+json": {
       "config": {
        "linkText": "Created by groundhog using Plotly!",
        "plotlyServerURL": "https://github.com/snakesonabrain/groundhog",
        "responsive": true,
        "showLink": true
       },
       "data": [
        {
         "marker": {
          "color": "yellow"
         },
         "name": "SAND",
         "type": "bar",
         "x": [
          -10,
          -10
         ],
         "xaxis": "x",
         "y": [
          40,
          40
         ],
         "yaxis": "y"
        },
        {
         "marker": {
          "color": "brown"
         },
         "name": "CLAY",
         "type": "bar",
         "x": [
          -10,
          -10
         ],
         "xaxis": "x",
         "y": [
          40,
          40
         ],
         "yaxis": "y"
        },
        {
         "line": {
          "color": "black"
         },
         "mode": "lines",
         "name": "Dummy",
         "showlegend": false,
         "type": "scatter",
         "x": [
          0,
          100
         ],
         "xaxis": "x2",
         "y": [
          null,
          null
         ],
         "yaxis": "y2"
        },
        {
         "line": {
          "color": "black"
         },
         "mode": "lines",
         "name": "Dummy",
         "showlegend": false,
         "type": "scatter",
         "x": [
          0,
          100
         ],
         "xaxis": "x3",
         "y": [
          null,
          null
         ],
         "yaxis": "y3"
        },
        {
         "line": {
          "color": "black"
         },
         "mode": "lines",
         "name": "Dummy",
         "showlegend": false,
         "type": "scatter",
         "x": [
          0,
          100
         ],
         "xaxis": "x4",
         "y": [
          null,
          null
         ],
         "yaxis": "y4"
        },
        {
         "line": {
          "color": "black"
         },
         "mode": "lines",
         "name": "Dummy",
         "showlegend": false,
         "type": "scatter",
         "x": [
          0,
          100
         ],
         "xaxis": "x5",
         "y": [
          null,
          null
         ],
         "yaxis": "y5"
        },
        {
         "mode": "lines",
         "name": "fs comp",
         "showlegend": false,
         "type": "scatter",
         "x": [
          1.85,
          1.85,
          5.55,
          5.55,
          9.25,
          9.25,
          12.95,
          12.95,
          16.65,
          16.65,
          20.35,
          20.35,
          24.05,
          24.05,
          27.75,
          27.75,
          31.45,
          31.45,
          35.15,
          35.15,
          68.72287753179903,
          68.72287753179903,
          70.5873524229014,
          70.5873524229014,
          72.40326943751771,
          72.40326943751771,
          74.17674419285966,
          74.17674419285966,
          75.91282440134768,
          75.91282440134768,
          77.61572495039404,
          77.61572495039404,
          79.28900146374886,
          79.28900146374886,
          80.93568076252014,
          80.93568076252014,
          83.03613671167511,
          83.03613671167511,
          85.42052836799049,
          85.42052836799049,
          87.77812939451375,
          87.77812939451375,
          90.11104260855046,
          90.11104260855046,
          92.42113755341181,
          92.42113755341181,
          94.71008394041259,
          94.71008394041259,
          96.97937925146769,
          96.97937925146769,
          99.23037169469168,
          99.23037169469168,
          101.46427942877237,
          101.46427942877237,
          103.68220676663859,
          103.68220676663859,
          105.88515791491584,
          105.88515791491584,
          108.07404868885037,
          108.07404868885037
         ],
         "xaxis": "x2",
         "y": [
          0,
          1,
          1,
          2,
          2,
          3,
          3,
          4,
          4,
          5,
          5,
          6,
          6,
          7,
          7,
          8,
          8,
          9,
          9,
          10,
          10,
          11,
          11,
          12,
          12,
          13,
          13,
          14,
          14,
          15,
          15,
          16,
          16,
          17,
          17,
          18,
          18,
          19,
          19,
          20,
          20,
          21,
          21,
          22,
          22,
          23,
          23,
          24,
          24,
          25,
          25,
          26,
          26,
          27,
          27,
          28,
          28,
          29,
          29,
          30
         ],
         "yaxis": "y2"
        },
        {
         "mode": "lines",
         "name": "qb",
         "showlegend": false,
         "type": "scatter",
         "x": [
          100,
          100,
          300,
          300,
          500,
          500,
          700,
          700,
          900,
          900,
          1100,
          1100,
          1300,
          1300,
          1500,
          1500,
          1700,
          1700,
          1900,
          1900,
          1357.5,
          1357.5,
          1372.5,
          1372.5,
          1387.5,
          1387.5,
          1402.5,
          1402.5,
          1417.5,
          1417.5,
          1432.5,
          1432.5,
          1447.5,
          1447.5,
          1462.5,
          1462.5,
          1477.5,
          1477.5,
          1492.5,
          1492.5,
          1507.5,
          1507.5,
          1522.5,
          1522.5,
          1537.5,
          1537.5,
          1552.5,
          1552.5,
          1567.5,
          1567.5,
          1582.5,
          1582.5,
          1597.5,
          1597.5,
          1612.5,
          1612.5,
          1627.5,
          1627.5,
          1642.5,
          1642.5
         ],
         "xaxis": "x3",
         "y": [
          0,
          1,
          1,
          2,
          2,
          3,
          3,
          4,
          4,
          5,
          5,
          6,
          6,
          7,
          7,
          8,
          8,
          9,
          9,
          10,
          10,
          11,
          11,
          12,
          12,
          13,
          13,
          14,
          14,
          15,
          15,
          16,
          16,
          17,
          17,
          18,
          18,
          19,
          19,
          20,
          20,
          21,
          21,
          22,
          22,
          23,
          23,
          24,
          24,
          25,
          25,
          26,
          26,
          27,
          27,
          28,
          28,
          29,
          29,
          30
         ],
         "yaxis": "y3"
        },
        {
         "mode": "lines",
         "name": "$ F_{s,comp,out} $",
         "showlegend": true,
         "type": "scatter",
         "x": [
          14.413627094669971,
          57.654508378679886,
          129.72264385202973,
          230.6180335147195,
          360.3406773667492,
          518.8905754081189,
          706.2677276388285,
          922.472134058878,
          1167.5037946682676,
          1441.362709466997,
          1976.7929416918753,
          2526.7495770560645,
          3090.8542938708188,
          3668.776418137092,
          4260.224603339357,
          4864.940341781223,
          5482.692828163503,
          6113.274839603621,
          6760.221817951795,
          7425.745948830656,
          8109.638502430769,
          8811.70713230729,
          9531.774057907332,
          10269.674507648953,
          11025.255377056104,
          11798.374065744094,
          12588.897464185024,
          13396.701066718428,
          14221.66819160807,
          15063.689292371473
         ],
         "xaxis": "x4",
         "y": [
          0.5,
          1.5,
          2.5,
          3.5,
          4.5,
          5.5,
          6.5,
          7.5,
          8.5,
          9.5,
          10.5,
          11.5,
          12.5,
          13.5,
          14.5,
          15.5,
          16.5,
          17.5,
          18.5,
          19.5,
          20.5,
          21.5,
          22.5,
          23.5,
          24.5,
          25.5,
          26.5,
          27.5,
          28.5,
          29.5
         ],
         "yaxis": "y4"
        },
        {
         "mode": "lines",
         "name": "$ F_{s,tens,out} $",
         "showlegend": true,
         "type": "scatter",
         "x": [
          -14.413627094669971,
          -57.654508378679886,
          -129.72264385202973,
          -230.6180335147195,
          -360.3406773667492,
          -518.8905754081189,
          -706.2677276388285,
          -922.472134058878,
          -1167.5037946682676,
          -1441.362709466997,
          -1976.7929416918753,
          -2526.7495770560645,
          -3090.8542938708188,
          -3668.776418137092,
          -4260.224603339357,
          -4864.940341781223,
          -5482.692828163503,
          -6113.274839603621,
          -6760.221817951795,
          -7425.745948830656,
          -8109.638502430769,
          -8811.70713230729,
          -9531.774057907332,
          -10269.674507648953,
          -11025.255377056104,
          -11798.374065744094,
          -12588.897464185024,
          -13396.701066718428,
          -14221.66819160807,
          -15063.689292371473
         ],
         "xaxis": "x4",
         "y": [
          0.5,
          1.5,
          2.5,
          3.5,
          4.5,
          5.5,
          6.5,
          7.5,
          8.5,
          9.5,
          10.5,
          11.5,
          12.5,
          13.5,
          14.5,
          15.5,
          16.5,
          17.5,
          18.5,
          19.5,
          20.5,
          21.5,
          22.5,
          23.5,
          24.5,
          25.5,
          26.5,
          27.5,
          28.5,
          29.5
         ],
         "yaxis": "y4"
        },
        {
         "mode": "lines",
         "name": "$ F_{s,comp,in} $",
         "showlegend": true,
         "type": "scatter",
         "x": [
          13.832432453755859,
          55.32972981502343,
          124.49189208380271,
          221.3189192600937,
          345.81081134389643,
          497.9675683352109,
          677.789190234037,
          885.275677040375,
          1120.4270287542245,
          1383.2432453755857,
          1897.0835488817188,
          2424.8645134650938,
          2966.223072343769,
          3520.8418851476927,
          4088.4413532047042,
          4668.77339251585,
          5261.616504447231,
          5866.771821877667,
          6487.632228518252,
          7126.320708958449,
          7782.636949913397,
          8456.396360843284,
          9147.428329765904,
          9855.574729114716,
          10580.688627981257,
          11322.633175996343,
          12081.280630951751,
          12856.51150757655,
          13648.213829043223,
          14456.282466066166
         ],
         "xaxis": "x4",
         "y": [
          0.5,
          1.5,
          2.5,
          3.5,
          4.5,
          5.5,
          6.5,
          7.5,
          8.5,
          9.5,
          10.5,
          11.5,
          12.5,
          13.5,
          14.5,
          15.5,
          16.5,
          17.5,
          18.5,
          19.5,
          20.5,
          21.5,
          22.5,
          23.5,
          24.5,
          25.5,
          26.5,
          27.5,
          28.5,
          29.5
         ],
         "yaxis": "y4"
        },
        {
         "mode": "lines",
         "name": "$ F_{s,tens,in} $",
         "showlegend": true,
         "type": "scatter",
         "x": [
          -13.832432453755859,
          -55.32972981502343,
          -124.49189208380271,
          -221.3189192600937,
          -345.81081134389643,
          -497.9675683352109,
          -677.789190234037,
          -885.275677040375,
          -1120.4270287542245,
          -1383.2432453755857,
          -1897.0835488817188,
          -2424.8645134650938,
          -2966.223072343769,
          -3520.8418851476927,
          -4088.4413532047042,
          -4668.77339251585,
          -5261.616504447231,
          -5866.771821877667,
          -6487.632228518252,
          -7126.320708958449,
          -7782.636949913397,
          -8456.396360843284,
          -9147.428329765904,
          -9855.574729114716,
          -10580.688627981257,
          -11322.633175996343,
          -12081.280630951751,
          -12856.51150757655,
          -13648.213829043223,
          -14456.282466066166
         ],
         "xaxis": "x4",
         "y": [
          0.5,
          1.5,
          2.5,
          3.5,
          4.5,
          5.5,
          6.5,
          7.5,
          8.5,
          9.5,
          10.5,
          11.5,
          12.5,
          13.5,
          14.5,
          15.5,
          16.5,
          17.5,
          18.5,
          19.5,
          20.5,
          21.5,
          22.5,
          23.5,
          24.5,
          25.5,
          26.5,
          27.5,
          28.5,
          29.5
         ],
         "yaxis": "y4"
        },
        {
         "mode": "lines",
         "name": "$ Q_{b,coring} $",
         "showlegend": true,
         "type": "scatter",
         "x": [
          38.17035074111604,
          114.51105222334812,
          190.8517537055802,
          267.19245518781224,
          343.5331566700443,
          419.8738581522764,
          496.2145596345085,
          572.5552611167406,
          648.8959625989727,
          725.2366640812047,
          518.1625113106502,
          523.8880639218177,
          529.613616532985,
          535.3391691441524,
          541.0647217553199,
          546.7902743664872,
          552.5158269776547,
          558.241379588822,
          563.9669321999895,
          569.6924848111569,
          575.4180374223242,
          581.1435900334917,
          586.8691426446591,
          592.5946952558265,
          598.3202478669939,
          604.0458004781613,
          609.7713530893287,
          615.4969057004961,
          621.2224583116636,
          626.9480109228309
         ],
         "xaxis": "x5",
         "y": [
          0.5,
          1.5,
          2.5,
          3.5,
          4.5,
          5.5,
          6.5,
          7.5,
          8.5,
          9.5,
          10.5,
          11.5,
          12.5,
          13.5,
          14.5,
          15.5,
          16.5,
          17.5,
          18.5,
          19.5,
          20.5,
          21.5,
          22.5,
          23.5,
          24.5,
          25.5,
          26.5,
          27.5,
          28.5,
          29.5
         ],
         "yaxis": "y5"
        },
        {
         "mode": "lines",
         "name": "$ Q_{b,plugged} $",
         "showlegend": true,
         "type": "scatter",
         "x": [
          483.0512864159666,
          1449.1538592478998,
          2415.2564320798333,
          3381.3590049117665,
          4347.461577743699,
          5313.564150575633,
          6279.666723407566,
          7245.769296239499,
          8211.871869071432,
          9177.974441903365,
          6557.421213096747,
          6629.878906059142,
          6702.336599021537,
          6774.7942919839315,
          6847.251984946327,
          6919.7096779087215,
          6992.167370871117,
          7064.625063833511,
          7137.082756795907,
          7209.540449758302,
          7281.998142720697,
          7354.455835683092,
          7426.913528645487,
          7499.371221607882,
          7571.8289145702765,
          7644.286607532672,
          7716.744300495066,
          7789.201993457462,
          7861.659686419856,
          7934.117379382252
         ],
         "xaxis": "x5",
         "y": [
          0.5,
          1.5,
          2.5,
          3.5,
          4.5,
          5.5,
          6.5,
          7.5,
          8.5,
          9.5,
          10.5,
          11.5,
          12.5,
          13.5,
          14.5,
          15.5,
          16.5,
          17.5,
          18.5,
          19.5,
          20.5,
          21.5,
          22.5,
          23.5,
          24.5,
          25.5,
          26.5,
          27.5,
          28.5,
          29.5
         ],
         "yaxis": "y5"
        }
       ],
       "layout": {
        "autosize": true,
        "legend": {
         "orientation": "h",
         "x": 0.05,
         "y": -0.1
        },
        "shapes": [
         {
          "fillcolor": "yellow",
          "line": {
           "width": 1
          },
          "opacity": 1,
          "type": "rect",
          "x0": 0,
          "x1": 1,
          "xref": "x",
          "y0": 0,
          "y1": 10,
          "yref": "y"
         },
         {
          "fillcolor": "brown",
          "line": {
           "width": 1
          },
          "opacity": 1,
          "type": "rect",
          "x0": 0,
          "x1": 1,
          "xref": "x",
          "y0": 10,
          "y1": 40,
          "yref": "y"
         }
        ],
        "template": {
         "data": {
          "bar": [
           {
            "error_x": {
             "color": "#2a3f5f"
            },
            "error_y": {
             "color": "#2a3f5f"
            },
            "marker": {
             "line": {
              "color": "white",
              "width": 0.5
             },
             "pattern": {
              "fillmode": "overlay",
              "size": 10,
              "solidity": 0.2
             }
            },
            "type": "bar"
           }
          ],
          "barpolar": [
           {
            "marker": {
             "line": {
              "color": "white",
              "width": 0.5
             },
             "pattern": {
              "fillmode": "overlay",
              "size": 10,
              "solidity": 0.2
             }
            },
            "type": "barpolar"
           }
          ],
          "carpet": [
           {
            "aaxis": {
             "endlinecolor": "#2a3f5f",
             "gridcolor": "#C8D4E3",
             "linecolor": "#C8D4E3",
             "minorgridcolor": "#C8D4E3",
             "startlinecolor": "#2a3f5f"
            },
            "baxis": {
             "endlinecolor": "#2a3f5f",
             "gridcolor": "#C8D4E3",
             "linecolor": "#C8D4E3",
             "minorgridcolor": "#C8D4E3",
             "startlinecolor": "#2a3f5f"
            },
            "type": "carpet"
           }
          ],
          "choropleth": [
           {
            "colorbar": {
             "outlinewidth": 0,
             "ticks": ""
            },
            "type": "choropleth"
           }
          ],
          "contour": [
           {
            "colorbar": {
             "outlinewidth": 0,
             "ticks": ""
            },
            "colorscale": [
             [
              0,
              "#0d0887"
             ],
             [
              0.1111111111111111,
              "#46039f"
             ],
             [
              0.2222222222222222,
              "#7201a8"
             ],
             [
              0.3333333333333333,
              "#9c179e"
             ],
             [
              0.4444444444444444,
              "#bd3786"
             ],
             [
              0.5555555555555556,
              "#d8576b"
             ],
             [
              0.6666666666666666,
              "#ed7953"
             ],
             [
              0.7777777777777778,
              "#fb9f3a"
             ],
             [
              0.8888888888888888,
              "#fdca26"
             ],
             [
              1,
              "#f0f921"
             ]
            ],
            "type": "contour"
           }
          ],
          "contourcarpet": [
           {
            "colorbar": {
             "outlinewidth": 0,
             "ticks": ""
            },
            "type": "contourcarpet"
           }
          ],
          "heatmap": [
           {
            "colorbar": {
             "outlinewidth": 0,
             "ticks": ""
            },
            "colorscale": [
             [
              0,
              "#0d0887"
             ],
             [
              0.1111111111111111,
              "#46039f"
             ],
             [
              0.2222222222222222,
              "#7201a8"
             ],
             [
              0.3333333333333333,
              "#9c179e"
             ],
             [
              0.4444444444444444,
              "#bd3786"
             ],
             [
              0.5555555555555556,
              "#d8576b"
             ],
             [
              0.6666666666666666,
              "#ed7953"
             ],
             [
              0.7777777777777778,
              "#fb9f3a"
             ],
             [
              0.8888888888888888,
              "#fdca26"
             ],
             [
              1,
              "#f0f921"
             ]
            ],
            "type": "heatmap"
           }
          ],
          "heatmapgl": [
           {
            "colorbar": {
             "outlinewidth": 0,
             "ticks": ""
            },
            "colorscale": [
             [
              0,
              "#0d0887"
             ],
             [
              0.1111111111111111,
              "#46039f"
             ],
             [
              0.2222222222222222,
              "#7201a8"
             ],
             [
              0.3333333333333333,
              "#9c179e"
             ],
             [
              0.4444444444444444,
              "#bd3786"
             ],
             [
              0.5555555555555556,
              "#d8576b"
             ],
             [
              0.6666666666666666,
              "#ed7953"
             ],
             [
              0.7777777777777778,
              "#fb9f3a"
             ],
             [
              0.8888888888888888,
              "#fdca26"
             ],
             [
              1,
              "#f0f921"
             ]
            ],
            "type": "heatmapgl"
           }
          ],
          "histogram": [
           {
            "marker": {
             "pattern": {
              "fillmode": "overlay",
              "size": 10,
              "solidity": 0.2
             }
            },
            "type": "histogram"
           }
          ],
          "histogram2d": [
           {
            "colorbar": {
             "outlinewidth": 0,
             "ticks": ""
            },
            "colorscale": [
             [
              0,
              "#0d0887"
             ],
             [
              0.1111111111111111,
              "#46039f"
             ],
             [
              0.2222222222222222,
              "#7201a8"
             ],
             [
              0.3333333333333333,
              "#9c179e"
             ],
             [
              0.4444444444444444,
              "#bd3786"
             ],
             [
              0.5555555555555556,
              "#d8576b"
             ],
             [
              0.6666666666666666,
              "#ed7953"
             ],
             [
              0.7777777777777778,
              "#fb9f3a"
             ],
             [
              0.8888888888888888,
              "#fdca26"
             ],
             [
              1,
              "#f0f921"
             ]
            ],
            "type": "histogram2d"
           }
          ],
          "histogram2dcontour": [
           {
            "colorbar": {
             "outlinewidth": 0,
             "ticks": ""
            },
            "colorscale": [
             [
              0,
              "#0d0887"
             ],
             [
              0.1111111111111111,
              "#46039f"
             ],
             [
              0.2222222222222222,
              "#7201a8"
             ],
             [
              0.3333333333333333,
              "#9c179e"
             ],
             [
              0.4444444444444444,
              "#bd3786"
             ],
             [
              0.5555555555555556,
              "#d8576b"
             ],
             [
              0.6666666666666666,
              "#ed7953"
             ],
             [
              0.7777777777777778,
              "#fb9f3a"
             ],
             [
              0.8888888888888888,
              "#fdca26"
             ],
             [
              1,
              "#f0f921"
             ]
            ],
            "type": "histogram2dcontour"
           }
          ],
          "mesh3d": [
           {
            "colorbar": {
             "outlinewidth": 0,
             "ticks": ""
            },
            "type": "mesh3d"
           }
          ],
          "parcoords": [
           {
            "line": {
             "colorbar": {
              "outlinewidth": 0,
              "ticks": ""
             }
            },
            "type": "parcoords"
           }
          ],
          "pie": [
           {
            "automargin": true,
            "type": "pie"
           }
          ],
          "scatter": [
           {
            "fillpattern": {
             "fillmode": "overlay",
             "size": 10,
             "solidity": 0.2
            },
            "type": "scatter"
           }
          ],
          "scatter3d": [
           {
            "line": {
             "colorbar": {
              "outlinewidth": 0,
              "ticks": ""
             }
            },
            "marker": {
             "colorbar": {
              "outlinewidth": 0,
              "ticks": ""
             }
            },
            "type": "scatter3d"
           }
          ],
          "scattercarpet": [
           {
            "marker": {
             "colorbar": {
              "outlinewidth": 0,
              "ticks": ""
             }
            },
            "type": "scattercarpet"
           }
          ],
          "scattergeo": [
           {
            "marker": {
             "colorbar": {
              "outlinewidth": 0,
              "ticks": ""
             }
            },
            "type": "scattergeo"
           }
          ],
          "scattergl": [
           {
            "marker": {
             "colorbar": {
              "outlinewidth": 0,
              "ticks": ""
             }
            },
            "type": "scattergl"
           }
          ],
          "scattermapbox": [
           {
            "marker": {
             "colorbar": {
              "outlinewidth": 0,
              "ticks": ""
             }
            },
            "type": "scattermapbox"
           }
          ],
          "scatterpolar": [
           {
            "marker": {
             "colorbar": {
              "outlinewidth": 0,
              "ticks": ""
             }
            },
            "type": "scatterpolar"
           }
          ],
          "scatterpolargl": [
           {
            "marker": {
             "colorbar": {
              "outlinewidth": 0,
              "ticks": ""
             }
            },
            "type": "scatterpolargl"
           }
          ],
          "scatterternary": [
           {
            "marker": {
             "colorbar": {
              "outlinewidth": 0,
              "ticks": ""
             }
            },
            "type": "scatterternary"
           }
          ],
          "surface": [
           {
            "colorbar": {
             "outlinewidth": 0,
             "ticks": ""
            },
            "colorscale": [
             [
              0,
              "#0d0887"
             ],
             [
              0.1111111111111111,
              "#46039f"
             ],
             [
              0.2222222222222222,
              "#7201a8"
             ],
             [
              0.3333333333333333,
              "#9c179e"
             ],
             [
              0.4444444444444444,
              "#bd3786"
             ],
             [
              0.5555555555555556,
              "#d8576b"
             ],
             [
              0.6666666666666666,
              "#ed7953"
             ],
             [
              0.7777777777777778,
              "#fb9f3a"
             ],
             [
              0.8888888888888888,
              "#fdca26"
             ],
             [
              1,
              "#f0f921"
             ]
            ],
            "type": "surface"
           }
          ],
          "table": [
           {
            "cells": {
             "fill": {
              "color": "#EBF0F8"
             },
             "line": {
              "color": "white"
             }
            },
            "header": {
             "fill": {
              "color": "#C8D4E3"
             },
             "line": {
              "color": "white"
             }
            },
            "type": "table"
           }
          ]
         },
         "layout": {
          "annotationdefaults": {
           "arrowcolor": "#2a3f5f",
           "arrowhead": 0,
           "arrowwidth": 1
          },
          "autotypenumbers": "strict",
          "coloraxis": {
           "colorbar": {
            "outlinewidth": 0,
            "ticks": ""
           }
          },
          "colorscale": {
           "diverging": [
            [
             0,
             "#8e0152"
            ],
            [
             0.1,
             "#c51b7d"
            ],
            [
             0.2,
             "#de77ae"
            ],
            [
             0.3,
             "#f1b6da"
            ],
            [
             0.4,
             "#fde0ef"
            ],
            [
             0.5,
             "#f7f7f7"
            ],
            [
             0.6,
             "#e6f5d0"
            ],
            [
             0.7,
             "#b8e186"
            ],
            [
             0.8,
             "#7fbc41"
            ],
            [
             0.9,
             "#4d9221"
            ],
            [
             1,
             "#276419"
            ]
           ],
           "sequential": [
            [
             0,
             "#0d0887"
            ],
            [
             0.1111111111111111,
             "#46039f"
            ],
            [
             0.2222222222222222,
             "#7201a8"
            ],
            [
             0.3333333333333333,
             "#9c179e"
            ],
            [
             0.4444444444444444,
             "#bd3786"
            ],
            [
             0.5555555555555556,
             "#d8576b"
            ],
            [
             0.6666666666666666,
             "#ed7953"
            ],
            [
             0.7777777777777778,
             "#fb9f3a"
            ],
            [
             0.8888888888888888,
             "#fdca26"
            ],
            [
             1,
             "#f0f921"
            ]
           ],
           "sequentialminus": [
            [
             0,
             "#0d0887"
            ],
            [
             0.1111111111111111,
             "#46039f"
            ],
            [
             0.2222222222222222,
             "#7201a8"
            ],
            [
             0.3333333333333333,
             "#9c179e"
            ],
            [
             0.4444444444444444,
             "#bd3786"
            ],
            [
             0.5555555555555556,
             "#d8576b"
            ],
            [
             0.6666666666666666,
             "#ed7953"
            ],
            [
             0.7777777777777778,
             "#fb9f3a"
            ],
            [
             0.8888888888888888,
             "#fdca26"
            ],
            [
             1,
             "#f0f921"
            ]
           ]
          },
          "colorway": [
           "#636efa",
           "#EF553B",
           "#00cc96",
           "#ab63fa",
           "#FFA15A",
           "#19d3f3",
           "#FF6692",
           "#B6E880",
           "#FF97FF",
           "#FECB52"
          ],
          "font": {
           "color": "#2a3f5f"
          },
          "geo": {
           "bgcolor": "white",
           "lakecolor": "white",
           "landcolor": "white",
           "showlakes": true,
           "showland": true,
           "subunitcolor": "#C8D4E3"
          },
          "hoverlabel": {
           "align": "left"
          },
          "hovermode": "closest",
          "mapbox": {
           "style": "light"
          },
          "paper_bgcolor": "white",
          "plot_bgcolor": "white",
          "polar": {
           "angularaxis": {
            "gridcolor": "#EBF0F8",
            "linecolor": "#EBF0F8",
            "ticks": ""
           },
           "bgcolor": "white",
           "radialaxis": {
            "gridcolor": "#EBF0F8",
            "linecolor": "#EBF0F8",
            "ticks": ""
           }
          },
          "scene": {
           "xaxis": {
            "backgroundcolor": "white",
            "gridcolor": "#DFE8F3",
            "gridwidth": 2,
            "linecolor": "#EBF0F8",
            "showbackground": true,
            "ticks": "",
            "zerolinecolor": "#EBF0F8"
           },
           "yaxis": {
            "backgroundcolor": "white",
            "gridcolor": "#DFE8F3",
            "gridwidth": 2,
            "linecolor": "#EBF0F8",
            "showbackground": true,
            "ticks": "",
            "zerolinecolor": "#EBF0F8"
           },
           "zaxis": {
            "backgroundcolor": "white",
            "gridcolor": "#DFE8F3",
            "gridwidth": 2,
            "linecolor": "#EBF0F8",
            "showbackground": true,
            "ticks": "",
            "zerolinecolor": "#EBF0F8"
           }
          },
          "shapedefaults": {
           "line": {
            "color": "#2a3f5f"
           }
          },
          "ternary": {
           "aaxis": {
            "gridcolor": "#DFE8F3",
            "linecolor": "#A2B1C6",
            "ticks": ""
           },
           "baxis": {
            "gridcolor": "#DFE8F3",
            "linecolor": "#A2B1C6",
            "ticks": ""
           },
           "bgcolor": "white",
           "caxis": {
            "gridcolor": "#DFE8F3",
            "linecolor": "#A2B1C6",
            "ticks": ""
           }
          },
          "title": {
           "x": 0.05
          },
          "xaxis": {
           "automargin": true,
           "gridcolor": "#EBF0F8",
           "linecolor": "#EBF0F8",
           "ticks": "",
           "title": {
            "standoff": 15
           },
           "zerolinecolor": "#EBF0F8",
           "zerolinewidth": 2
          },
          "yaxis": {
           "automargin": true,
           "gridcolor": "#EBF0F8",
           "linecolor": "#EBF0F8",
           "ticks": "",
           "title": {
            "standoff": 15
           },
           "zerolinecolor": "#EBF0F8",
           "zerolinewidth": 2
          }
         }
        },
        "title": {},
        "xaxis": {
         "anchor": "y",
         "domain": [
          0,
          0.042
         ],
         "range": [
          0,
          1
         ],
         "side": "top",
         "tickvals": [],
         "title": {},
         "type": "linear"
        },
        "xaxis2": {
         "anchor": "y",
         "domain": [
          0.082,
          0.2815
         ],
         "range": [
          0,
          108.07404868885037
         ],
         "side": "top",
         "title": {
          "text": "$ f_s \\ \\text{[kPa]} $"
         },
         "type": "linear"
        },
        "xaxis3": {
         "anchor": "y",
         "domain": [
          0.3215,
          0.521
         ],
         "range": [
          0,
          1900
         ],
         "side": "top",
         "title": {
          "text": "$ q_b \\ \\text{[kPa]} $"
         },
         "type": "linear"
        },
        "xaxis4": {
         "anchor": "y",
         "autorange": true,
         "domain": [
          0.5609999999999999,
          0.7605
         ],
         "range": [
          -15063.689292371473,
          15063.689292371473
         ],
         "side": "top",
         "title": {
          "text": "$ F_s \\ \\text{[kN]} $"
         },
         "type": "linear"
        },
        "xaxis5": {
         "anchor": "y",
         "autorange": true,
         "domain": [
          0.8005,
          1
         ],
         "range": [
          0,
          9177.974441903365
         ],
         "side": "top",
         "title": {
          "text": "$ Q_b \\ \\text{[kN]} $"
         },
         "type": "linear"
        },
        "yaxis": {
         "anchor": "x",
         "domain": [
          0,
          1
         ],
         "range": [
          40,
          0
         ],
         "title": {
          "text": "$ z \\ \\text{[m]}$"
         },
         "type": "linear"
        },
        "yaxis2": {
         "anchor": "x2",
         "domain": [
          0,
          1
         ],
         "matches": "y",
         "showticklabels": false
        },
        "yaxis3": {
         "anchor": "x3",
         "domain": [
          0,
          1
         ],
         "matches": "y",
         "showticklabels": false
        },
        "yaxis4": {
         "anchor": "x4",
         "domain": [
          0,
          1
         ],
         "matches": "y",
         "showticklabels": false
        },
        "yaxis5": {
         "anchor": "x5",
         "domain": [
          0,
          1
         ],
         "matches": "y",
         "showticklabels": false
        }
       }
      },
      "image/png": "[encoded data removed]",
      "text/html": [
       "<div>                            <div id=\"34940c4e-90a1-4840-a083-46c39ed39c76\" class=\"plotly-graph-div\" style=\"height:525px; width:100%;\"></div>            <script type=\"text/javascript\">                require([\"plotly\"], function(Plotly) {                    window.PLOTLYENV=window.PLOTLYENV || {};\n",
       "                    window.PLOTLYENV.BASE_URL='https://github.com/snakesonabrain/groundhog';                                    if (document.getElementById(\"34940c4e-90a1-4840-a083-46c39ed39c76\")) {                    Plotly.newPlot(                        \"34940c4e-90a1-4840-a083-46c39ed39c76\",                        [{\"marker\":{\"color\":\"yellow\"},\"name\":\"SAND\",\"x\":[-10,-10],\"y\":[40,40],\"type\":\"bar\",\"xaxis\":\"x\",\"yaxis\":\"y\"},{\"marker\":{\"color\":\"brown\"},\"name\":\"CLAY\",\"x\":[-10,-10],\"y\":[40,40],\"type\":\"bar\",\"xaxis\":\"x\",\"yaxis\":\"y\"},{\"line\":{\"color\":\"black\"},\"mode\":\"lines\",\"name\":\"Dummy\",\"showlegend\":false,\"x\":[0,100],\"y\":[null,null],\"type\":\"scatter\",\"xaxis\":\"x2\",\"yaxis\":\"y2\"},{\"line\":{\"color\":\"black\"},\"mode\":\"lines\",\"name\":\"Dummy\",\"showlegend\":false,\"x\":[0,100],\"y\":[null,null],\"type\":\"scatter\",\"xaxis\":\"x3\",\"yaxis\":\"y3\"},{\"line\":{\"color\":\"black\"},\"mode\":\"lines\",\"name\":\"Dummy\",\"showlegend\":false,\"x\":[0,100],\"y\":[null,null],\"type\":\"scatter\",\"xaxis\":\"x4\",\"yaxis\":\"y4\"},{\"line\":{\"color\":\"black\"},\"mode\":\"lines\",\"name\":\"Dummy\",\"showlegend\":false,\"x\":[0,100],\"y\":[null,null],\"type\":\"scatter\",\"xaxis\":\"x5\",\"yaxis\":\"y5\"},{\"mode\":\"lines\",\"name\":\"fs comp\",\"showlegend\":false,\"x\":[1.85,1.85,5.55,5.55,9.25,9.25,12.95,12.95,16.65,16.65,20.35,20.35,24.05,24.05,27.75,27.75,31.45,31.45,35.15,35.15,68.72287753179903,68.72287753179903,70.5873524229014,70.5873524229014,72.40326943751771,72.40326943751771,74.17674419285966,74.17674419285966,75.91282440134768,75.91282440134768,77.61572495039404,77.61572495039404,79.28900146374886,79.28900146374886,80.93568076252014,80.93568076252014,83.03613671167511,83.03613671167511,85.42052836799049,85.42052836799049,87.77812939451375,87.77812939451375,90.11104260855046,90.11104260855046,92.42113755341181,92.42113755341181,94.71008394041259,94.71008394041259,96.97937925146769,96.97937925146769,99.23037169469168,99.23037169469168,101.46427942877237,101.46427942877237,103.68220676663859,103.68220676663859,105.88515791491584,105.88515791491584,108.07404868885037,108.07404868885037],\"y\":[0.0,1.0,1.0,2.0,2.0,3.0,3.0,4.0,4.0,5.0,5.0,6.0,6.0,7.0,7.0,8.0,8.0,9.0,9.0,10.0,10.0,11.0,11.0,12.0,12.0,13.0,13.0,14.0,14.0,15.0,15.0,16.0,16.0,17.0,17.0,18.0,18.0,19.0,19.0,20.0,20.0,21.0,21.0,22.0,22.0,23.0,23.0,24.0,24.0,25.0,25.0,26.0,26.0,27.0,27.0,28.0,28.0,29.0,29.0,30.0],\"type\":\"scatter\",\"xaxis\":\"x2\",\"yaxis\":\"y2\"},{\"mode\":\"lines\",\"name\":\"qb\",\"showlegend\":false,\"x\":[100.0,100.0,300.0,300.0,500.0,500.0,700.0,700.0,900.0,900.0,1100.0,1100.0,1300.0,1300.0,1500.0,1500.0,1700.0,1700.0,1900.0,1900.0,1357.5,1357.5,1372.5,1372.5,1387.5,1387.5,1402.5,1402.5,1417.5,1417.5,1432.5,1432.5,1447.5,1447.5,1462.5,1462.5,1477.5,1477.5,1492.5,1492.5,1507.5,1507.5,1522.5,1522.5,1537.5,1537.5,1552.5,1552.5,1567.5,1567.5,1582.5,1582.5,1597.5,1597.5,1612.5,1612.5,1627.5,1627.5,1642.5,1642.5],\"y\":[0.0,1.0,1.0,2.0,2.0,3.0,3.0,4.0,4.0,5.0,5.0,6.0,6.0,7.0,7.0,8.0,8.0,9.0,9.0,10.0,10.0,11.0,11.0,12.0,12.0,13.0,13.0,14.0,14.0,15.0,15.0,16.0,16.0,17.0,17.0,18.0,18.0,19.0,19.0,20.0,20.0,21.0,21.0,22.0,22.0,23.0,23.0,24.0,24.0,25.0,25.0,26.0,26.0,27.0,27.0,28.0,28.0,29.0,29.0,30.0],\"type\":\"scatter\",\"xaxis\":\"x3\",\"yaxis\":\"y3\"},{\"mode\":\"lines\",\"name\":\"$ F_{s,comp,out} $\",\"showlegend\":true,\"x\":[14.413627094669971,57.654508378679886,129.72264385202973,230.6180335147195,360.3406773667492,518.8905754081189,706.2677276388285,922.472134058878,1167.5037946682676,1441.362709466997,1976.7929416918753,2526.7495770560645,3090.8542938708188,3668.776418137092,4260.224603339357,4864.940341781223,5482.692828163503,6113.274839603621,6760.221817951795,7425.745948830656,8109.638502430769,8811.70713230729,9531.774057907332,10269.674507648953,11025.255377056104,11798.374065744094,12588.897464185024,13396.701066718428,14221.66819160807,15063.689292371473],\"y\":[0.5,1.5,2.5,3.5,4.5,5.5,6.5,7.5,8.5,9.5,10.5,11.5,12.5,13.5,14.5,15.5,16.5,17.5,18.5,19.5,20.5,21.5,22.5,23.5,24.5,25.5,26.5,27.5,28.5,29.5],\"type\":\"scatter\",\"xaxis\":\"x4\",\"yaxis\":\"y4\"},{\"mode\":\"lines\",\"name\":\"$ F_{s,tens,out} $\",\"showlegend\":true,\"x\":[-14.413627094669971,-57.654508378679886,-129.72264385202973,-230.6180335147195,-360.3406773667492,-518.8905754081189,-706.2677276388285,-922.472134058878,-1167.5037946682676,-1441.362709466997,-1976.7929416918753,-2526.7495770560645,-3090.8542938708188,-3668.776418137092,-4260.224603339357,-4864.940341781223,-5482.692828163503,-6113.274839603621,-6760.221817951795,-7425.745948830656,-8109.638502430769,-8811.70713230729,-9531.774057907332,-10269.674507648953,-11025.255377056104,-11798.374065744094,-12588.897464185024,-13396.701066718428,-14221.66819160807,-15063.689292371473],\"y\":[0.5,1.5,2.5,3.5,4.5,5.5,6.5,7.5,8.5,9.5,10.5,11.5,12.5,13.5,14.5,15.5,16.5,17.5,18.5,19.5,20.5,21.5,22.5,23.5,24.5,25.5,26.5,27.5,28.5,29.5],\"type\":\"scatter\",\"xaxis\":\"x4\",\"yaxis\":\"y4\"},{\"mode\":\"lines\",\"name\":\"$ F_{s,comp,in} $\",\"showlegend\":true,\"x\":[13.832432453755859,55.32972981502343,124.49189208380271,221.3189192600937,345.81081134389643,497.9675683352109,677.789190234037,885.275677040375,1120.4270287542245,1383.2432453755857,1897.0835488817188,2424.8645134650938,2966.223072343769,3520.8418851476927,4088.4413532047042,4668.77339251585,5261.616504447231,5866.771821877667,6487.632228518252,7126.320708958449,7782.636949913397,8456.396360843284,9147.428329765904,9855.574729114716,10580.688627981257,11322.633175996343,12081.280630951751,12856.51150757655,13648.213829043223,14456.282466066166],\"y\":[0.5,1.5,2.5,3.5,4.5,5.5,6.5,7.5,8.5,9.5,10.5,11.5,12.5,13.5,14.5,15.5,16.5,17.5,18.5,19.5,20.5,21.5,22.5,23.5,24.5,25.5,26.5,27.5,28.5,29.5],\"type\":\"scatter\",\"xaxis\":\"x4\",\"yaxis\":\"y4\"},{\"mode\":\"lines\",\"name\":\"$ F_{s,tens,in} $\",\"showlegend\":true,\"x\":[-13.832432453755859,-55.32972981502343,-124.49189208380271,-221.3189192600937,-345.81081134389643,-497.9675683352109,-677.789190234037,-885.275677040375,-1120.4270287542245,-1383.2432453755857,-1897.0835488817188,-2424.8645134650938,-2966.223072343769,-3520.8418851476927,-4088.4413532047042,-4668.77339251585,-5261.616504447231,-5866.771821877667,-6487.632228518252,-7126.320708958449,-7782.636949913397,-8456.396360843284,-9147.428329765904,-9855.574729114716,-10580.688627981257,-11322.633175996343,-12081.280630951751,-12856.51150757655,-13648.213829043223,-14456.282466066166],\"y\":[0.5,1.5,2.5,3.5,4.5,5.5,6.5,7.5,8.5,9.5,10.5,11.5,12.5,13.5,14.5,15.5,16.5,17.5,18.5,19.5,20.5,21.5,22.5,23.5,24.5,25.5,26.5,27.5,28.5,29.5],\"type\":\"scatter\",\"xaxis\":\"x4\",\"yaxis\":\"y4\"},{\"mode\":\"lines\",\"name\":\"$ Q_{b,coring} $\",\"showlegend\":true,\"x\":[38.17035074111604,114.51105222334812,190.8517537055802,267.19245518781224,343.5331566700443,419.8738581522764,496.2145596345085,572.5552611167406,648.8959625989727,725.2366640812047,518.1625113106502,523.8880639218177,529.613616532985,535.3391691441524,541.0647217553199,546.7902743664872,552.5158269776547,558.241379588822,563.9669321999895,569.6924848111569,575.4180374223242,581.1435900334917,586.8691426446591,592.5946952558265,598.3202478669939,604.0458004781613,609.7713530893287,615.4969057004961,621.2224583116636,626.9480109228309],\"y\":[0.5,1.5,2.5,3.5,4.5,5.5,6.5,7.5,8.5,9.5,10.5,11.5,12.5,13.5,14.5,15.5,16.5,17.5,18.5,19.5,20.5,21.5,22.5,23.5,24.5,25.5,26.5,27.5,28.5,29.5],\"type\":\"scatter\",\"xaxis\":\"x5\",\"yaxis\":\"y5\"},{\"mode\":\"lines\",\"name\":\"$ Q_{b,plugged} $\",\"showlegend\":true,\"x\":[483.0512864159666,1449.1538592478998,2415.2564320798333,3381.3590049117665,4347.461577743699,5313.564150575633,6279.666723407566,7245.769296239499,8211.871869071432,9177.974441903365,6557.421213096747,6629.878906059142,6702.336599021537,6774.7942919839315,6847.251984946327,6919.7096779087215,6992.167370871117,7064.625063833511,7137.082756795907,7209.540449758302,7281.998142720697,7354.455835683092,7426.913528645487,7499.371221607882,7571.8289145702765,7644.286607532672,7716.744300495066,7789.201993457462,7861.659686419856,7934.117379382252],\"y\":[0.5,1.5,2.5,3.5,4.5,5.5,6.5,7.5,8.5,9.5,10.5,11.5,12.5,13.5,14.5,15.5,16.5,17.5,18.5,19.5,20.5,21.5,22.5,23.5,24.5,25.5,26.5,27.5,28.5,29.5],\"type\":\"scatter\",\"xaxis\":\"x5\",\"yaxis\":\"y5\"}],                        {\"template\":{\"data\":{\"histogram2dcontour\":[{\"type\":\"histogram2dcontour\",\"colorbar\":{\"outlinewidth\":0,\"ticks\":\"\"},\"colorscale\":[[0.0,\"#0d0887\"],[0.1111111111111111,\"#46039f\"],[0.2222222222222222,\"#7201a8\"],[0.3333333333333333,\"#9c179e\"],[0.4444444444444444,\"#bd3786\"],[0.5555555555555556,\"#d8576b\"],[0.6666666666666666,\"#ed7953\"],[0.7777777777777778,\"#fb9f3a\"],[0.8888888888888888,\"#fdca26\"],[1.0,\"#f0f921\"]]}],\"choropleth\":[{\"type\":\"choropleth\",\"colorbar\":{\"outlinewidth\":0,\"ticks\":\"\"}}],\"histogram2d\":[{\"type\":\"histogram2d\",\"colorbar\":{\"outlinewidth\":0,\"ticks\":\"\"},\"colorscale\":[[0.0,\"#0d0887\"],[0.1111111111111111,\"#46039f\"],[0.2222222222222222,\"#7201a8\"],[0.3333333333333333,\"#9c179e\"],[0.4444444444444444,\"#bd3786\"],[0.5555555555555556,\"#d8576b\"],[0.6666666666666666,\"#ed7953\"],[0.7777777777777778,\"#fb9f3a\"],[0.8888888888888888,\"#fdca26\"],[1.0,\"#f0f921\"]]}],\"heatmap\":[{\"type\":\"heatmap\",\"colorbar\":{\"outlinewidth\":0,\"ticks\":\"\"},\"colorscale\":[[0.0,\"#0d0887\"],[0.1111111111111111,\"#46039f\"],[0.2222222222222222,\"#7201a8\"],[0.3333333333333333,\"#9c179e\"],[0.4444444444444444,\"#bd3786\"],[0.5555555555555556,\"#d8576b\"],[0.6666666666666666,\"#ed7953\"],[0.7777777777777778,\"#fb9f3a\"],[0.8888888888888888,\"#fdca26\"],[1.0,\"#f0f921\"]]}],\"heatmapgl\":[{\"type\":\"heatmapgl\",\"colorbar\":{\"outlinewidth\":0,\"ticks\":\"\"},\"colorscale\":[[0.0,\"#0d0887\"],[0.1111111111111111,\"#46039f\"],[0.2222222222222222,\"#7201a8\"],[0.3333333333333333,\"#9c179e\"],[0.4444444444444444,\"#bd3786\"],[0.5555555555555556,\"#d8576b\"],[0.6666666666666666,\"#ed7953\"],[0.7777777777777778,\"#fb9f3a\"],[0.8888888888888888,\"#fdca26\"],[1.0,\"#f0f921\"]]}],\"contourcarpet\":[{\"type\":\"contourcarpet\",\"colorbar\":{\"outlinewidth\":0,\"ticks\":\"\"}}],\"contour\":[{\"type\":\"contour\",\"colorbar\":{\"outlinewidth\":0,\"ticks\":\"\"},\"colorscale\":[[0.0,\"#0d0887\"],[0.1111111111111111,\"#46039f\"],[0.2222222222222222,\"#7201a8\"],[0.3333333333333333,\"#9c179e\"],[0.4444444444444444,\"#bd3786\"],[0.5555555555555556,\"#d8576b\"],[0.6666666666666666,\"#ed7953\"],[0.7777777777777778,\"#fb9f3a\"],[0.8888888888888888,\"#fdca26\"],[1.0,\"#f0f921\"]]}],\"surface\":[{\"type\":\"surface\",\"colorbar\":{\"outlinewidth\":0,\"ticks\":\"\"},\"colorscale\":[[0.0,\"#0d0887\"],[0.1111111111111111,\"#46039f\"],[0.2222222222222222,\"#7201a8\"],[0.3333333333333333,\"#9c179e\"],[0.4444444444444444,\"#bd3786\"],[0.5555555555555556,\"#d8576b\"],[0.6666666666666666,\"#ed7953\"],[0.7777777777777778,\"#fb9f3a\"],[0.8888888888888888,\"#fdca26\"],[1.0,\"#f0f921\"]]}],\"mesh3d\":[{\"type\":\"mesh3d\",\"colorbar\":{\"outlinewidth\":0,\"ticks\":\"\"}}],\"scatter\":[{\"fillpattern\":{\"fillmode\":\"overlay\",\"size\":10,\"solidity\":0.2},\"type\":\"scatter\"}],\"parcoords\":[{\"type\":\"parcoords\",\"line\":{\"colorbar\":{\"outlinewidth\":0,\"ticks\":\"\"}}}],\"scatterpolargl\":[{\"type\":\"scatterpolargl\",\"marker\":{\"colorbar\":{\"outlinewidth\":0,\"ticks\":\"\"}}}],\"bar\":[{\"error_x\":{\"color\":\"#2a3f5f\"},\"error_y\":{\"color\":\"#2a3f5f\"},\"marker\":{\"line\":{\"color\":\"white\",\"width\":0.5},\"pattern\":{\"fillmode\":\"overlay\",\"size\":10,\"solidity\":0.2}},\"type\":\"bar\"}],\"scattergeo\":[{\"type\":\"scattergeo\",\"marker\":{\"colorbar\":{\"outlinewidth\":0,\"ticks\":\"\"}}}],\"scatterpolar\":[{\"type\":\"scatterpolar\",\"marker\":{\"colorbar\":{\"outlinewidth\":0,\"ticks\":\"\"}}}],\"histogram\":[{\"marker\":{\"pattern\":{\"fillmode\":\"overlay\",\"size\":10,\"solidity\":0.2}},\"type\":\"histogram\"}],\"scattergl\":[{\"type\":\"scattergl\",\"marker\":{\"colorbar\":{\"outlinewidth\":0,\"ticks\":\"\"}}}],\"scatter3d\":[{\"type\":\"scatter3d\",\"line\":{\"colorbar\":{\"outlinewidth\":0,\"ticks\":\"\"}},\"marker\":{\"colorbar\":{\"outlinewidth\":0,\"ticks\":\"\"}}}],\"scattermapbox\":[{\"type\":\"scattermapbox\",\"marker\":{\"colorbar\":{\"outlinewidth\":0,\"ticks\":\"\"}}}],\"scatterternary\":[{\"type\":\"scatterternary\",\"marker\":{\"colorbar\":{\"outlinewidth\":0,\"ticks\":\"\"}}}],\"scattercarpet\":[{\"type\":\"scattercarpet\",\"marker\":{\"colorbar\":{\"outlinewidth\":0,\"ticks\":\"\"}}}],\"carpet\":[{\"aaxis\":{\"endlinecolor\":\"#2a3f5f\",\"gridcolor\":\"#C8D4E3\",\"linecolor\":\"#C8D4E3\",\"minorgridcolor\":\"#C8D4E3\",\"startlinecolor\":\"#2a3f5f\"},\"baxis\":{\"endlinecolor\":\"#2a3f5f\",\"gridcolor\":\"#C8D4E3\",\"linecolor\":\"#C8D4E3\",\"minorgridcolor\":\"#C8D4E3\",\"startlinecolor\":\"#2a3f5f\"},\"type\":\"carpet\"}],\"table\":[{\"cells\":{\"fill\":{\"color\":\"#EBF0F8\"},\"line\":{\"color\":\"white\"}},\"header\":{\"fill\":{\"color\":\"#C8D4E3\"},\"line\":{\"color\":\"white\"}},\"type\":\"table\"}],\"barpolar\":[{\"marker\":{\"line\":{\"color\":\"white\",\"width\":0.5},\"pattern\":{\"fillmode\":\"overlay\",\"size\":10,\"solidity\":0.2}},\"type\":\"barpolar\"}],\"pie\":[{\"automargin\":true,\"type\":\"pie\"}]},\"layout\":{\"autotypenumbers\":\"strict\",\"colorway\":[\"#636efa\",\"#EF553B\",\"#00cc96\",\"#ab63fa\",\"#FFA15A\",\"#19d3f3\",\"#FF6692\",\"#B6E880\",\"#FF97FF\",\"#FECB52\"],\"font\":{\"color\":\"#2a3f5f\"},\"hovermode\":\"closest\",\"hoverlabel\":{\"align\":\"left\"},\"paper_bgcolor\":\"white\",\"plot_bgcolor\":\"white\",\"polar\":{\"bgcolor\":\"white\",\"angularaxis\":{\"gridcolor\":\"#EBF0F8\",\"linecolor\":\"#EBF0F8\",\"ticks\":\"\"},\"radialaxis\":{\"gridcolor\":\"#EBF0F8\",\"linecolor\":\"#EBF0F8\",\"ticks\":\"\"}},\"ternary\":{\"bgcolor\":\"white\",\"aaxis\":{\"gridcolor\":\"#DFE8F3\",\"linecolor\":\"#A2B1C6\",\"ticks\":\"\"},\"baxis\":{\"gridcolor\":\"#DFE8F3\",\"linecolor\":\"#A2B1C6\",\"ticks\":\"\"},\"caxis\":{\"gridcolor\":\"#DFE8F3\",\"linecolor\":\"#A2B1C6\",\"ticks\":\"\"}},\"coloraxis\":{\"colorbar\":{\"outlinewidth\":0,\"ticks\":\"\"}},\"colorscale\":{\"sequential\":[[0.0,\"#0d0887\"],[0.1111111111111111,\"#46039f\"],[0.2222222222222222,\"#7201a8\"],[0.3333333333333333,\"#9c179e\"],[0.4444444444444444,\"#bd3786\"],[0.5555555555555556,\"#d8576b\"],[0.6666666666666666,\"#ed7953\"],[0.7777777777777778,\"#fb9f3a\"],[0.8888888888888888,\"#fdca26\"],[1.0,\"#f0f921\"]],\"sequentialminus\":[[0.0,\"#0d0887\"],[0.1111111111111111,\"#46039f\"],[0.2222222222222222,\"#7201a8\"],[0.3333333333333333,\"#9c179e\"],[0.4444444444444444,\"#bd3786\"],[0.5555555555555556,\"#d8576b\"],[0.6666666666666666,\"#ed7953\"],[0.7777777777777778,\"#fb9f3a\"],[0.8888888888888888,\"#fdca26\"],[1.0,\"#f0f921\"]],\"diverging\":[[0,\"#8e0152\"],[0.1,\"#c51b7d\"],[0.2,\"#de77ae\"],[0.3,\"#f1b6da\"],[0.4,\"#fde0ef\"],[0.5,\"#f7f7f7\"],[0.6,\"#e6f5d0\"],[0.7,\"#b8e186\"],[0.8,\"#7fbc41\"],[0.9,\"#4d9221\"],[1,\"#276419\"]]},\"xaxis\":{\"gridcolor\":\"#EBF0F8\",\"linecolor\":\"#EBF0F8\",\"ticks\":\"\",\"title\":{\"standoff\":15},\"zerolinecolor\":\"#EBF0F8\",\"automargin\":true,\"zerolinewidth\":2},\"yaxis\":{\"gridcolor\":\"#EBF0F8\",\"linecolor\":\"#EBF0F8\",\"ticks\":\"\",\"title\":{\"standoff\":15},\"zerolinecolor\":\"#EBF0F8\",\"automargin\":true,\"zerolinewidth\":2},\"scene\":{\"xaxis\":{\"backgroundcolor\":\"white\",\"gridcolor\":\"#DFE8F3\",\"linecolor\":\"#EBF0F8\",\"showbackground\":true,\"ticks\":\"\",\"zerolinecolor\":\"#EBF0F8\",\"gridwidth\":2},\"yaxis\":{\"backgroundcolor\":\"white\",\"gridcolor\":\"#DFE8F3\",\"linecolor\":\"#EBF0F8\",\"showbackground\":true,\"ticks\":\"\",\"zerolinecolor\":\"#EBF0F8\",\"gridwidth\":2},\"zaxis\":{\"backgroundcolor\":\"white\",\"gridcolor\":\"#DFE8F3\",\"linecolor\":\"#EBF0F8\",\"showbackground\":true,\"ticks\":\"\",\"zerolinecolor\":\"#EBF0F8\",\"gridwidth\":2}},\"shapedefaults\":{\"line\":{\"color\":\"#2a3f5f\"}},\"annotationdefaults\":{\"arrowcolor\":\"#2a3f5f\",\"arrowhead\":0,\"arrowwidth\":1},\"geo\":{\"bgcolor\":\"white\",\"landcolor\":\"white\",\"subunitcolor\":\"#C8D4E3\",\"showland\":true,\"showlakes\":true,\"lakecolor\":\"white\"},\"title\":{\"x\":0.05},\"mapbox\":{\"style\":\"light\"}}},\"xaxis\":{\"anchor\":\"y\",\"domain\":[0.0,0.042],\"title\":{},\"side\":\"top\",\"tickvals\":[],\"range\":[0,1]},\"yaxis\":{\"anchor\":\"x\",\"domain\":[0.0,1.0],\"range\":[40,0],\"title\":{\"text\":\"$ z \\\\ \\\\text{[m]}$\"}},\"xaxis2\":{\"anchor\":\"y\",\"domain\":[0.082,0.2815],\"title\":{\"text\":\"$ f_s \\\\ \\\\text{[kPa]} $\"},\"side\":\"top\",\"range\":[0,108.07404868885037]},\"yaxis2\":{\"anchor\":\"x2\",\"domain\":[0.0,1.0],\"matches\":\"y\",\"showticklabels\":false},\"xaxis3\":{\"anchor\":\"y\",\"domain\":[0.3215,0.521],\"title\":{\"text\":\"$ q_b \\\\ \\\\text{[kPa]} $\"},\"side\":\"top\",\"range\":[0,1900.0]},\"yaxis3\":{\"anchor\":\"x3\",\"domain\":[0.0,1.0],\"matches\":\"y\",\"showticklabels\":false},\"xaxis4\":{\"anchor\":\"y\",\"domain\":[0.5609999999999999,0.7605],\"title\":{\"text\":\"$ F_s \\\\ \\\\text{[kN]} $\"},\"side\":\"top\"},\"yaxis4\":{\"anchor\":\"x4\",\"domain\":[0.0,1.0],\"matches\":\"y\",\"showticklabels\":false},\"xaxis5\":{\"anchor\":\"y\",\"domain\":[0.8005,1.0],\"title\":{\"text\":\"$ Q_b \\\\ \\\\text{[kN]} $\"},\"side\":\"top\"},\"yaxis5\":{\"anchor\":\"x5\",\"domain\":[0.0,1.0],\"matches\":\"y\",\"showticklabels\":false},\"shapes\":[{\"fillcolor\":\"yellow\",\"opacity\":1,\"type\":\"rect\",\"x0\":0,\"x1\":1,\"xref\":\"x\",\"y0\":0,\"y1\":10,\"yref\":\"y\",\"line\":{\"width\":1}},{\"fillcolor\":\"brown\",\"opacity\":1,\"type\":\"rect\",\"x0\":0,\"x1\":1,\"xref\":\"x\",\"y0\":10,\"y1\":40,\"yref\":\"y\",\"line\":{\"width\":1}}],\"legend\":{\"orientation\":\"h\",\"x\":0.05,\"y\":-0.1},\"title\":{}},                        {\"showLink\": true, \"plotlyServerURL\": \"https://github.com/snakesonabrain/groundhog\", \"linkText\": \"Created by groundhog using Plotly!\", \"responsive\": true}                    ).then(function(){\n",
       "                            \n",
       "var gd = document.getElementById('34940c4e-90a1-4840-a083-46c39ed39c76');\n",
       "var x = new MutationObserver(function (mutations, observer) {{\n",
       "        var display = window.getComputedStyle(gd).display;\n",
       "        if (!display || display === 'none') {{\n",
       "            console.log([gd, 'removed!']);\n",
       "            Plotly.purge(gd);\n",
       "            observer.disconnect();\n",
       "        }}\n",
       "}});\n",
       "\n",
       "// Listen for the removal of the full notebook cells\n",
       "var notebookContainer = gd.closest('#notebook-container');\n",
       "if (notebookContainer) {{\n",
       "    x.observe(notebookContainer, {childList: true});\n",
       "}}\n",
       "\n",
       "// Listen for the clearing of the current output cell\n",
       "var outputEl = gd.closest('.output');\n",
       "if (outputEl) {{\n",
       "    x.observe(outputEl, {childList: true});\n",
       "}}\n",
       "\n",
       "                        })                };                });            </script>        </div>"
      ]
     },
     "metadata": {},
     "output_type": "display_data"
    }
   ],
   "source": [
    "calc.plot_single_penetration()"
   ]
  },
  {
   "cell_type": "markdown",
   "id": "0b3106bf",
   "metadata": {},
   "source": [
    "Numerical values of the results are available in the ``result`` attribute. These values are valid for the final pile penetration."
   ]
  },
  {
   "cell_type": "code",
   "execution_count": 135,
   "id": "e1bd24bf",
   "metadata": {},
   "outputs": [
    {
     "data": {
      "text/html": [
       "<div>\n",
       "<style scoped>\n",
       "    .dataframe tbody tr th:only-of-type {\n",
       "        vertical-align: middle;\n",
       "    }\n",
       "\n",
       "    .dataframe tbody tr th {\n",
       "        vertical-align: top;\n",
       "    }\n",
       "\n",
       "    .dataframe thead th {\n",
       "        text-align: right;\n",
       "    }\n",
       "</style>\n",
       "<table border=\"1\" class=\"dataframe\">\n",
       "  <thead>\n",
       "    <tr style=\"text-align: right;\">\n",
       "      <th></th>\n",
       "      <th>Rs compression plugged [kN]</th>\n",
       "      <th>Rb plugged [kN]</th>\n",
       "      <th>Rs compression coring [kN]</th>\n",
       "      <th>Rb coring [kN]</th>\n",
       "      <th>Rb internal [kN]</th>\n",
       "      <th>Rt compression plugged [kN]</th>\n",
       "      <th>Rt compression coring [kN]</th>\n",
       "      <th>Rt compression [kN]</th>\n",
       "      <th>Plugged compression</th>\n",
       "      <th>Rs tension plugged [kN]</th>\n",
       "      <th>Rs tension coring [kN]</th>\n",
       "      <th>Pile weight [kN]</th>\n",
       "      <th>Soil plug weight [kN]</th>\n",
       "      <th>Rt tension plugged [kN]</th>\n",
       "      <th>Rt tension coring [kN]</th>\n",
       "      <th>Rt tension [kN]</th>\n",
       "      <th>Plugged tension</th>\n",
       "    </tr>\n",
       "  </thead>\n",
       "  <tbody>\n",
       "    <tr>\n",
       "      <th>0</th>\n",
       "      <td>15063.689292</td>\n",
       "      <td>7934.117379</td>\n",
       "      <td>29519.971758</td>\n",
       "      <td>626.948011</td>\n",
       "      <td>7307.169368</td>\n",
       "      <td>22997.806672</td>\n",
       "      <td>30146.919769</td>\n",
       "      <td>22997.806672</td>\n",
       "      <td>True</td>\n",
       "      <td>15063.689292</td>\n",
       "      <td>29519.971758</td>\n",
       "      <td>0</td>\n",
       "      <td>0</td>\n",
       "      <td>15063.689292</td>\n",
       "      <td>29519.971758</td>\n",
       "      <td>15063.689292</td>\n",
       "      <td>True</td>\n",
       "    </tr>\n",
       "  </tbody>\n",
       "</table>\n",
       "</div>"
      ],
      "text/plain": [
       "   Rs compression plugged [kN]  Rb plugged [kN]  Rs compression coring [kN]  \\\n",
       "0                 15063.689292      7934.117379                29519.971758   \n",
       "\n",
       "   Rb coring [kN]  Rb internal [kN]  Rt compression plugged [kN]  \\\n",
       "0      626.948011       7307.169368                 22997.806672   \n",
       "\n",
       "   Rt compression coring [kN]  Rt compression [kN]  Plugged compression  \\\n",
       "0                30146.919769         22997.806672                 True   \n",
       "\n",
       "   Rs tension plugged [kN]  Rs tension coring [kN]  Pile weight [kN]  \\\n",
       "0             15063.689292            29519.971758                 0   \n",
       "\n",
       "   Soil plug weight [kN]  Rt tension plugged [kN]  Rt tension coring [kN]  \\\n",
       "0                      0             15063.689292            29519.971758   \n",
       "\n",
       "   Rt tension [kN]  Plugged tension  \n",
       "0     15063.689292             True  "
      ]
     },
     "execution_count": 135,
     "metadata": {},
     "output_type": "execute_result"
    }
   ],
   "source": [
    "import pandas as pd\n",
    "pd.DataFrame.from_dict([calc.result])"
   ]
  },
  {
   "cell_type": "markdown",
   "id": "340609be",
   "metadata": {},
   "source": [
    "### Results for all penetrations\n",
    "\n",
    "The calculation of axial pile capacity needs to be repeated for every pile penetration for pile sizing as unit skin friction and unit end bearing can be depth-dependent (e.g. due to friction fatigue)."
   ]
  },
  {
   "cell_type": "code",
   "execution_count": null,
   "id": "9b5dbf68",
   "metadata": {},
   "outputs": [],
   "source": [
    "calc.calculate_capacity_profile(\n",
    "    circumference=np.pi * 2.48, base_area=0.25 * np.pi * 2.48 ** 2,\n",
    "    internal_circumference=np.pi * 2.38, annulus_area=0.25 * np.pi * (2.48 ** 2 - 2.38 ** 2),\n",
    "    pile_weight_permeter=0.25 * np.pi * (2.48 ** 2 - 2.38 ** 2) * 68.5,\n",
    "    soilplug_weight_permeter=0.25 * np.pi * 2.38 ** 2 * 10)"
   ]
  },
  {
   "cell_type": "markdown",
   "id": "a22cae7a",
   "metadata": {},
   "source": [
    "The results can be visualised. The leftmost panel shows the shaft resistance in compression and tension for plugged (only outside) and coring (inside and outside) conditions. The coring and plugged base resistance are shown in the middle panel. In the right-most panel, the compression and tension resistance for plugged and coring conditions are shown. Depending on the relative magnitude of internal shaft resistance vs end bearing on the plug, the calculation selects whether plugged (internal shaft resistance > end bearing on soil plug) or coring (internal shaft resistance < end bearing on soil plug) conditions are expected."
   ]
  },
  {
   "cell_type": "code",
   "execution_count": null,
   "id": "71630010",
   "metadata": {},
   "outputs": [],
   "source": [
    "calc.plot_all_penetrations()"
   ]
  },
  {
   "cell_type": "markdown",
   "id": "e019eea9",
   "metadata": {},
   "source": [
    "The results are shown in a dataframe which can be exported to csv or Excel."
   ]
  },
  {
   "cell_type": "code",
   "execution_count": null,
   "id": "82bd7eff",
   "metadata": {},
   "outputs": [],
   "source": [
    "calc.capacity_profile.head()"
   ]
  },
  {
   "cell_type": "code",
   "execution_count": null,
   "id": "1cb5375d",
   "metadata": {},
   "outputs": [],
   "source": []
  }
 ],
 "metadata": {
  "hide_input": false,
  "kernelspec": {
   "display_name": "Python 3 (ipykernel)",
   "language": "python",
   "name": "python3"
  },
  "language_info": {
   "codemirror_mode": {
    "name": "ipython",
    "version": 3
   },
   "file_extension": ".py",
   "mimetype": "text/x-python",
   "name": "python",
   "nbconvert_exporter": "python",
   "pygments_lexer": "ipython3",
   "version": "3.10.9"
  },
  "toc": {
   "base_numbering": 1,
   "nav_menu": {},
   "number_sections": true,
   "sideBar": true,
   "skip_h1_title": true,
   "title_cell": "Table of Contents",
   "title_sidebar": "Contents",
   "toc_cell": false,
   "toc_position": {
    "height": "calc(100% - 180px)",
    "left": "10px",
    "top": "150px",
    "width": "343.825px"
   },
   "toc_section_display": true,
   "toc_window_display": true
  },
  "varInspector": {
   "cols": {
    "lenName": 16,
    "lenType": 16,
    "lenVar": 40
   },
   "kernels_config": {
    "python": {
     "delete_cmd_postfix": "",
     "delete_cmd_prefix": "del ",
     "library": "var_list.py",
     "varRefreshCmd": "print(var_dic_list())"
    },
    "r": {
     "delete_cmd_postfix": ") ",
     "delete_cmd_prefix": "rm(",
     "library": "var_list.r",
     "varRefreshCmd": "cat(var_dic_list()) "
    }
   },
   "types_to_exclude": [
    "module",
    "function",
    "builtin_function_or_method",
    "instance",
    "_Feature"
   ],
   "window_display": false
  }
 },
 "nbformat": 4,
 "nbformat_minor": 5
}
